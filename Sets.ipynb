{
 "cells": [
  {
   "cell_type": "markdown",
   "id": "0c1c4815",
   "metadata": {},
   "source": [
    "# Sets."
   ]
  },
  {
   "cell_type": "markdown",
   "id": "4d045b8f",
   "metadata": {},
   "source": [
    "-Sets are unordered collections of unique elements. -They are mutable, meaning you can add or remove elements from them. -Sets are created by enclosing comma-separated elements within culry braces '{}'."
   ]
  },
  {
   "cell_type": "code",
   "execution_count": 1,
   "id": "d0830e31",
   "metadata": {},
   "outputs": [
    {
     "name": "stdout",
     "output_type": "stream",
     "text": [
      "{1, 2, 3, 4, 5, 6}\n"
     ]
    }
   ],
   "source": [
    "#Creating a set.\n",
    "first_set = {1,2,3,4,5,6}\n",
    "print(first_set)"
   ]
  },
  {
   "cell_type": "code",
   "execution_count": 2,
   "id": "b5e43240",
   "metadata": {},
   "outputs": [
    {
     "name": "stdout",
     "output_type": "stream",
     "text": [
      "{1, 2, 3, 4, 5, 6}\n"
     ]
    }
   ],
   "source": [
    "#Adding Elements in a set.\n",
    "#To aadd elements we use the add() method.\n",
    "\n",
    "first_set = {1,2,3,4,5}\n",
    "first_set.add(6)\n",
    "print(first_set)"
   ]
  },
  {
   "cell_type": "code",
   "execution_count": 3,
   "id": "95ecf3c9",
   "metadata": {},
   "outputs": [
    {
     "name": "stdout",
     "output_type": "stream",
     "text": [
      "{1, 2, 3, 4, 5, 6, 7, 8, 9}\n"
     ]
    }
   ],
   "source": [
    "#To adding more than one argument to a set, we use the update() method.\n",
    "first_set.update([7,8,9])\n",
    "print(first_set)"
   ]
  },
  {
   "cell_type": "code",
   "execution_count": 4,
   "id": "c94d424e",
   "metadata": {},
   "outputs": [
    {
     "name": "stdout",
     "output_type": "stream",
     "text": [
      "{1, 2, 3, 5, 6, 7, 8, 9}\n"
     ]
    }
   ],
   "source": [
    "#Removing Elements.\n",
    "#You can remove elements using a remove() method. If the element is not present, it will raisse a keyerror.\n",
    "#Alternatively you can use the discard() method, which wont raise an error if the element is not present.\n",
    "\n",
    "first_set.remove(4)\n",
    "print(first_set)\n"
   ]
  },
  {
   "cell_type": "code",
   "execution_count": 5,
   "id": "96c0f6bb",
   "metadata": {},
   "outputs": [
    {
     "ename": "KeyError",
     "evalue": "2",
     "output_type": "error",
     "traceback": [
      "\u001b[1;31m---------------------------------------------------------------------------\u001b[0m",
      "\u001b[1;31mKeyError\u001b[0m                                  Traceback (most recent call last)",
      "Cell \u001b[1;32mIn[5], line 2\u001b[0m\n\u001b[0;32m      1\u001b[0m second_set \u001b[38;5;241m=\u001b[39m {\u001b[38;5;241m1\u001b[39m,\u001b[38;5;241m3\u001b[39m,\u001b[38;5;241m5\u001b[39m}\n\u001b[1;32m----> 2\u001b[0m \u001b[43msecond_set\u001b[49m\u001b[38;5;241;43m.\u001b[39;49m\u001b[43mremove\u001b[49m\u001b[43m(\u001b[49m\u001b[38;5;241;43m2\u001b[39;49m\u001b[43m)\u001b[49m\n\u001b[0;32m      3\u001b[0m \u001b[38;5;28mprint\u001b[39m(second_set)\n",
      "\u001b[1;31mKeyError\u001b[0m: 2"
     ]
    }
   ],
   "source": [
    "second_set = {1,3,5}\n",
    "second_set.remove(2)\n",
    "print(second_set)"
   ]
  },
  {
   "cell_type": "code",
   "execution_count": 6,
   "id": "9d2ff4ac",
   "metadata": {},
   "outputs": [
    {
     "name": "stdout",
     "output_type": "stream",
     "text": [
      "{1, 3, 5}\n"
     ]
    }
   ],
   "source": [
    "second_set ={1,3,5}\n",
    "second_set.discard(2)\n",
    "print(second_set)"
   ]
  },
  {
   "cell_type": "code",
   "execution_count": 7,
   "id": "b8227c10",
   "metadata": {},
   "outputs": [
    {
     "name": "stdout",
     "output_type": "stream",
     "text": [
      "{1, 2, 3, 5, 6, 7, 8, 9}\n"
     ]
    }
   ],
   "source": [
    "first_set.discard(0)\n",
    "print(first_set)"
   ]
  },
  {
   "cell_type": "code",
   "execution_count": 8,
   "id": "df359f15",
   "metadata": {},
   "outputs": [
    {
     "name": "stdout",
     "output_type": "stream",
     "text": [
      "8\n",
      "3\n"
     ]
    }
   ],
   "source": [
    "#Length: You can find the length of a set using the len() function.\n",
    "\n",
    "print(len(first_set))\n",
    "print(len(second_set))"
   ]
  },
  {
   "cell_type": "code",
   "execution_count": 9,
   "id": "98d4bf5b",
   "metadata": {},
   "outputs": [
    {
     "name": "stdout",
     "output_type": "stream",
     "text": [
      "True\n",
      "True\n"
     ]
    }
   ],
   "source": [
    "#Membership: You can check if the element is present using the 'in' operator.\n",
    "\n",
    "print(6 in first_set)\n",
    "print(1 in second_set)"
   ]
  },
  {
   "cell_type": "code",
   "execution_count": 10,
   "id": "35580a65",
   "metadata": {},
   "outputs": [
    {
     "name": "stdout",
     "output_type": "stream",
     "text": [
      "1\n",
      "2\n",
      "3\n",
      "5\n",
      "6\n",
      "7\n",
      "8\n",
      "9\n",
      "\n",
      "1\n",
      "3\n",
      "5\n"
     ]
    }
   ],
   "source": [
    "#Iteration: You can iterate over the elements of a set using a loop.\n",
    "\n",
    "for num in first_set:\n",
    "    print(num)\n",
    "    \n",
    "print()\n",
    "\n",
    "for item in second_set:\n",
    "    print(item)"
   ]
  },
  {
   "cell_type": "code",
   "execution_count": 11,
   "id": "3e551a15",
   "metadata": {},
   "outputs": [
    {
     "name": "stdout",
     "output_type": "stream",
     "text": [
      "{1, 2, 3, 4, 5, 6}\n"
     ]
    }
   ],
   "source": [
    "#Union: You can perform a union of two sets using the 'union()' method or the '|' operator.\n",
    "\n",
    "set1 = {1,2,3}\n",
    "set2 = {4,5,6}\n",
    "union_set = set1.union(set2)\n",
    "print(union_set)"
   ]
  },
  {
   "cell_type": "code",
   "execution_count": 12,
   "id": "73880989",
   "metadata": {},
   "outputs": [
    {
     "name": "stdout",
     "output_type": "stream",
     "text": [
      "set()\n"
     ]
    }
   ],
   "source": [
    "#Intersection: You can perform an intersection of two sets using the 'intersection()' method or the '&' operator.\n",
    "\n",
    "intersection_set = set1.intersection(set2)\n",
    "print(intersection_set)\n",
    "\n",
    "#Alternatevily we can use: intersection_set = set1 & set2"
   ]
  },
  {
   "cell_type": "code",
   "execution_count": 13,
   "id": "e3b27321",
   "metadata": {},
   "outputs": [
    {
     "name": "stdout",
     "output_type": "stream",
     "text": [
      "{1, 2, 3}\n"
     ]
    }
   ],
   "source": [
    "#Difference: You can find the difference between two sets using the 'difference()' method or the '-' operator.\n",
    "\n",
    "diff_set = set1.difference(set2)\n",
    "print(diff_set)"
   ]
  },
  {
   "cell_type": "code",
   "execution_count": null,
   "id": "d03eaeff",
   "metadata": {},
   "outputs": [],
   "source": []
  }
 ],
 "metadata": {
  "kernelspec": {
   "display_name": "Python 3 (ipykernel)",
   "language": "python",
   "name": "python3"
  },
  "language_info": {
   "codemirror_mode": {
    "name": "ipython",
    "version": 3
   },
   "file_extension": ".py",
   "mimetype": "text/x-python",
   "name": "python",
   "nbconvert_exporter": "python",
   "pygments_lexer": "ipython3",
   "version": "3.10.9"
  }
 },
 "nbformat": 4,
 "nbformat_minor": 5
}
