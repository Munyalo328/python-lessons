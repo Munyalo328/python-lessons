{
 "cells": [
  {
   "cell_type": "markdown",
   "id": "e1bbf5d4",
   "metadata": {},
   "source": [
    "#python assingment"
   ]
  },
  {
   "cell_type": "markdown",
   "id": "2bd5b5e4",
   "metadata": {},
   "source": [
    "# In Python, you can define a function using the `def` keyword followed by the function name and parentheses containing any parameters the function takes. Here's the general syntax:\n",
    "\n",
    "```python\n",
    "def function_name(parameters):\n",
    "    # Function body\n",
    "    # Perform actions\n",
    "    # Return value (optional)\n",
    "```\n",
    "\n",
    "Let's break down each part:\n",
    "\n",
    "- `def`: This is the keyword used to define a function in Python.\n",
    "- `function_name`: This is the name of the function. Choose a descriptive name that reflects what the function does.\n",
    "- `parameters`: These are the inputs that the function accepts (optional). If a function doesn't take any parameters, you still need to include empty parentheses `()`.\n",
    "- `:`: This colon indicates the start of the function body.\n",
    "- Function body: This is where you write the code that the function executes. It can contain any valid Python code.\n",
    "- `return` statement (optional): If the function produces a result, you can use the `return` statement to send that result back to the code that called the function.\n",
    "\n",
    "Here's a simple example of a function that adds two numbers and returns the result:\n",
    "\n",
    "```python\n",
    "def add_numbers(x, y):\n",
    "    sum = x + y\n",
    "    return sum\n",
    "```\n",
    "\n",
    "In this example:\n",
    "- `add_numbers` is the name of the function.\n",
    "- `x` and `y` are the parameters it accepts.\n",
    "- `sum = x + y` is the operation performed inside the function.\n",
    "- `return sum` sends the result back to the code that called the function.\n",
    "\n",
    "You can call this function later in your code like this:\n",
    "\n",
    "```python\n",
    "result = add_numbers(3, 5)\n",
    "print(result)  # Output: 8\n",
    "```\n",
    "\n",
    "This would output `8`, which is the result of adding `3` and `5`."
   ]
  },
  {
   "cell_type": "code",
   "execution_count": 1,
   "id": "0d7fb0ad",
   "metadata": {},
   "outputs": [
    {
     "name": "stdout",
     "output_type": "stream",
     "text": [
      "Enter first number: 45\n",
      "Enter second number: 67\n",
      "Sum: 112.0\n"
     ]
    }
   ],
   "source": [
    "def sum_two_numbers(a, b):\n",
    "    return a + b\n",
    "\n",
    "num1 = float(input(\"Enter first number: \"))\n",
    "num2 = float(input(\"Enter second number: \"))\n",
    "print(\"Sum:\", sum_two_numbers(num1, num2))\n"
   ]
  },
  {
   "cell_type": "code",
   "execution_count": 2,
   "id": "38d9fe2f",
   "metadata": {},
   "outputs": [
    {
     "name": "stdout",
     "output_type": "stream",
     "text": [
      "Enter first number: 44\n",
      "Enter second number: 56\n",
      "Result: -12.0\n"
     ]
    }
   ],
   "source": [
    "def subtract_two_numbers(a, b):\n",
    "    return a - b\n",
    "\n",
    "num1 = float(input(\"Enter first number: \"))\n",
    "num2 = float(input(\"Enter second number: \"))\n",
    "print(\"Result:\", subtract_two_numbers(num1, num2))\n"
   ]
  },
  {
   "cell_type": "code",
   "execution_count": 3,
   "id": "8a49a35c",
   "metadata": {},
   "outputs": [
    {
     "name": "stdout",
     "output_type": "stream",
     "text": [
      "Enter first number: 45\n",
      "Enter second number: 79\n",
      "Product: 3555.0\n"
     ]
    }
   ],
   "source": [
    "def multiply_two_numbers(a, b):\n",
    "    return a * b\n",
    "\n",
    "num1 = float(input(\"Enter first number: \"))\n",
    "num2 = float(input(\"Enter second number: \"))\n",
    "print(\"Product:\", multiply_two_numbers(num1, num2))\n"
   ]
  },
  {
   "cell_type": "code",
   "execution_count": 4,
   "id": "9d06b8f1",
   "metadata": {},
   "outputs": [
    {
     "name": "stdout",
     "output_type": "stream",
     "text": [
      "Enter first number: 56\n",
      "Enter second number: 78\n",
      "Quotient: 0.717948717948718\n"
     ]
    }
   ],
   "source": [
    "def divide_two_numbers(a, b):\n",
    "    if b == 0:\n",
    "        return \"Cannot divide by zero\"\n",
    "    return a / b\n",
    "\n",
    "num1 = float(input(\"Enter first number: \"))\n",
    "num2 = float(input(\"Enter second number: \"))\n",
    "print(\"Quotient:\", divide_two_numbers(num1, num2))\n"
   ]
  },
  {
   "cell_type": "code",
   "execution_count": 5,
   "id": "10b62ae6",
   "metadata": {},
   "outputs": [
    {
     "name": "stdout",
     "output_type": "stream",
     "text": [
      "Enter a number: 56\n",
      "Square: 3136.0\n"
     ]
    }
   ],
   "source": [
    "def square_number(x):\n",
    "    return x * x\n",
    "\n",
    "num = float(input(\"Enter a number: \"))\n",
    "print(\"Square:\", square_number(num))\n"
   ]
  },
  {
   "cell_type": "code",
   "execution_count": 6,
   "id": "ec5d43be",
   "metadata": {},
   "outputs": [
    {
     "name": "stdout",
     "output_type": "stream",
     "text": [
      "Enter a number: 13\n",
      "Square root: 3.605551275463989\n"
     ]
    }
   ],
   "source": [
    "import math\n",
    "\n",
    "def square_root(x):\n",
    "    return math.sqrt(x)\n",
    "\n",
    "num = float(input(\"Enter a number: \"))\n",
    "print(\"Square root:\", square_root(num))\n"
   ]
  },
  {
   "cell_type": "code",
   "execution_count": 7,
   "id": "ee23d79e",
   "metadata": {},
   "outputs": [
    {
     "name": "stdout",
     "output_type": "stream",
     "text": [
      "Enter a number: 4\n",
      "Factorial: 24\n"
     ]
    }
   ],
   "source": [
    "def factorial(n):\n",
    "    if n == 0:\n",
    "        return 1\n",
    "    else:\n",
    "        return n * factorial(n - 1)\n",
    "\n",
    "num = int(input(\"Enter a number: \"))\n",
    "print(\"Factorial:\", factorial(num))\n"
   ]
  },
  {
   "cell_type": "code",
   "execution_count": 8,
   "id": "4c21d4e7",
   "metadata": {},
   "outputs": [
    {
     "name": "stdout",
     "output_type": "stream",
     "text": [
      "Enter length: 4\n",
      "Enter width: 4\n",
      "Area: 16.0\n"
     ]
    }
   ],
   "source": [
    "def rectangle_area(length, width):\n",
    "    return length * width\n",
    "\n",
    "length = float(input(\"Enter length: \"))\n",
    "width = float(input(\"Enter width: \"))\n",
    "print(\"Area:\", rectangle_area(length, width))\n"
   ]
  },
  {
   "cell_type": "code",
   "execution_count": 9,
   "id": "fccff645",
   "metadata": {},
   "outputs": [
    {
     "name": "stdout",
     "output_type": "stream",
     "text": [
      "Enter radius: 5\n",
      "Area: 78.53981633974483\n"
     ]
    }
   ],
   "source": [
    "def circle_area(radius):\n",
    "    return math.pi * (radius ** 2)\n",
    "\n",
    "radius = float(input(\"Enter radius: \"))\n",
    "print(\"Area:\", circle_area(radius))\n"
   ]
  },
  {
   "cell_type": "code",
   "execution_count": 10,
   "id": "8fefa0a1",
   "metadata": {},
   "outputs": [
    {
     "name": "stdout",
     "output_type": "stream",
     "text": [
      "Enter temperature in Celsius: 345\n",
      "Temperature in Fahrenheit: 653.0\n"
     ]
    }
   ],
   "source": [
    " def celsius_to_fahrenheit(celsius):\n",
    "    return (celsius * 9/5) + 32\n",
    "\n",
    "celsius = float(input(\"Enter temperature in Celsius: \"))\n",
    "print(\"Temperature in Fahrenheit:\", celsius_to_fahrenheit(celsius))\n"
   ]
  },
  {
   "cell_type": "code",
   "execution_count": 11,
   "id": "2f47f645",
   "metadata": {},
   "outputs": [
    {
     "name": "stdout",
     "output_type": "stream",
     "text": [
      "Enter the side length of the cube: 4\n",
      "Volume of the cube: 64.0\n"
     ]
    }
   ],
   "source": [
    "def cube_volume(side_length):\n",
    "    return side_length ** 3\n",
    "\n",
    "side_length = float(input(\"Enter the side length of the cube: \"))\n",
    "print(\"Volume of the cube:\", cube_volume(side_length))\n"
   ]
  },
  {
   "cell_type": "code",
   "execution_count": 12,
   "id": "e18a7c45",
   "metadata": {},
   "outputs": [
    {
     "name": "stdout",
     "output_type": "stream",
     "text": [
      "Enter the radius of the sphere: 7\n",
      "Volume of the sphere: 1436.7550402417319\n"
     ]
    }
   ],
   "source": [
    "def sphere_volume(radius):\n",
    "    return (4/3) * math.pi * (radius ** 3)\n",
    "\n",
    "radius = float(input(\"Enter the radius of the sphere: \"))\n",
    "print(\"Volume of the sphere:\", sphere_volume(radius))\n"
   ]
  },
  {
   "cell_type": "code",
   "execution_count": 13,
   "id": "682ea8e4",
   "metadata": {},
   "outputs": [
    {
     "name": "stdout",
     "output_type": "stream",
     "text": [
      "Enter coefficient a: 3\n",
      "Enter coefficient b: 5\n",
      "Enter coefficient c: 7\n",
      "Roots: ((-0.8333333333333334+1.2801909579781012j), (-0.8333333333333334-1.2801909579781012j))\n"
     ]
    }
   ],
   "source": [
    "def solve_quadratic(a, b, c):\n",
    "    discriminant = b**2 - 4*a*c\n",
    "    if discriminant > 0:\n",
    "        root1 = (-b + math.sqrt(discriminant)) / (2*a)\n",
    "        root2 = (-b - math.sqrt(discriminant)) / (2*a)\n",
    "        return root1, root2\n",
    "    elif discriminant == 0:\n",
    "        root = -b / (2*a)\n",
    "        return root, root\n",
    "    else:\n",
    "        real_part = -b / (2*a)\n",
    "        imaginary_part = math.sqrt(-discriminant) / (2*a)\n",
    "        return complex(real_part, imaginary_part), complex(real_part, -imaginary_part)\n",
    "\n",
    "a = float(input(\"Enter coefficient a: \"))\n",
    "b = float(input(\"Enter coefficient b: \"))\n",
    "c = float(input(\"Enter coefficient c: \"))\n",
    "roots = solve_quadratic(a, b, c)\n",
    "print(\"Roots:\", roots)\n"
   ]
  },
  {
   "cell_type": "code",
   "execution_count": 14,
   "id": "566abbae",
   "metadata": {},
   "outputs": [
    {
     "name": "stdout",
     "output_type": "stream",
     "text": [
      "Enter length of side 1: 4\n",
      "Enter length of side 2: 4\n",
      "Enter length of side 3: 4\n",
      "Area of the triangle: 6.928203230275509\n"
     ]
    }
   ],
   "source": [
    "def triangle_area(a, b, c):\n",
    "    # Calculate semi-perimeter\n",
    "    s = (a + b + c) / 2\n",
    "    # Calculate area using Heron's formula\n",
    "    area = (s * (s - a) * (s - b) * (s - c)) ** 0.5\n",
    "    return area\n",
    "\n",
    "side1 = float(input(\"Enter length of side 1: \"))\n",
    "side2 = float(input(\"Enter length of side 2: \"))\n",
    "side3 = float(input(\"Enter length of side 3: \"))\n",
    "print(\"Area of the triangle:\", triangle_area(side1, side2, side3))\n"
   ]
  },
  {
   "cell_type": "code",
   "execution_count": 15,
   "id": "c2cf4671",
   "metadata": {},
   "outputs": [
    {
     "name": "stdout",
     "output_type": "stream",
     "text": [
      "Enter a number: 5\n",
      "Exponential value: 148.4131591025766\n"
     ]
    }
   ],
   "source": [
    "import math\n",
    "\n",
    "def exponential_value(x):\n",
    "    return math.exp(x)\n",
    "\n",
    "num = float(input(\"Enter a number: \"))\n",
    "print(\"Exponential value:\", exponential_value(num))\n"
   ]
  },
  {
   "cell_type": "markdown",
   "id": "0dfb8571",
   "metadata": {},
   "source": [
    "# Tuples in Python are ordered collections of elements, which are immutable (cannot be changed after creation). Here's a brief overview of tuples and some common operations you can perform on them:\n",
    "\n",
    "1. **Creating Tuples**: Tuples are created by enclosing comma-separated values within parentheses `()`.\n",
    "\n",
    "```python\n",
    "my_tuple = (1, 2, 3, 4, 5)\n",
    "```\n",
    "\n",
    "2. **Accessing Elements**: You can access elements of a tuple using indexing, just like with lists. Indexing starts from 0.\n",
    "\n",
    "```python\n",
    "print(my_tuple[0])  # Output: 1\n",
    "```\n",
    "\n",
    "3. **Slicing**: You can slice tuples to extract a subset of elements.\n",
    "\n",
    "```python\n",
    "print(my_tuple[1:4])  # Output: (2, 3, 4)\n",
    "```\n",
    "\n",
    "4. **Length**: You can find the length of a tuple using the `len()` function.\n",
    "\n",
    "```python\n",
    "print(len(my_tuple))  # Output: 5\n",
    "```\n",
    "\n",
    "5. **Concatenation**: You can concatenate tuples using the `+` operator.\n",
    "\n",
    "```python\n",
    "tuple1 = (1, 2, 3)\n",
    "tuple2 = (4, 5, 6)\n",
    "concatenated_tuple = tuple1 + tuple2\n",
    "print(concatenated_tuple)  # Output: (1, 2, 3, 4, 5, 6)\n",
    "```\n",
    "\n",
    "6. **Repetition**: You can repeat a tuple using the `*` operator.\n",
    "\n",
    "```python\n",
    "repeated_tuple = my_tuple * 2\n",
    "print(repeated_tuple)  # Output: (1, 2, 3, 4, 5, 1, 2, 3, 4, 5)\n",
    "```\n",
    "\n",
    "7. **Membership**: You can check if an element is present in a tuple using the `in` operator.\n",
    "\n",
    "```python\n",
    "print(2 in my_tuple)  # Output: True\n",
    "```\n",
    "\n",
    "8. **Iteration**: You can iterate over the elements of a tuple using a loop.\n",
    "\n",
    "```python\n",
    "for item in my_tuple:\n",
    "    print(item)\n",
    "```\n",
    "\n",
    "9. **Unpacking**: You can unpack a tuple into individual variables.\n",
    "\n",
    "```python\n",
    "a, b, c, d, e = my_tuple\n",
    "print(a, b, c, d, e)  # Output: 1 2 3 4 5\n",
    "```\n",
    "\n",
    "Tuples are useful for storing collections of data that shouldn't be changed, such as coordinates, database records, or function return values. Since they are immutable, they are also more memory-efficient than lists in certain situations."
   ]
  },
  {
   "cell_type": "markdown",
   "id": "d0433983",
   "metadata": {},
   "source": [
    "# "
   ]
  },
  {
   "cell_type": "markdown",
   "id": "b6c6bc38",
   "metadata": {},
   "source": [
    "# Sets in Python are unordered collections of unique elements. They are mutable, meaning you can add or remove elements from them. Here's an overview of sets and their common operations:\n",
    "\n",
    "1. **Creating Sets**: Sets are created by enclosing comma-separated elements within curly braces `{}`.\n",
    "\n",
    "```python\n",
    "my_set = {1, 2, 3, 4, 5}\n",
    "```\n",
    "\n",
    "2. **Adding Elements**: You can add elements to a set using the `add()` method.\n",
    "\n",
    "```python\n",
    "my_set.add(6)\n",
    "```\n",
    "\n",
    "3. **Removing Elements**: You can remove elements from a set using the `remove()` method. If the element is not present, it will raise a `KeyError`. Alternatively, you can use the `discard()` method, which won't raise an error if the element is not present.\n",
    "\n",
    "```python\n",
    "my_set.remove(3)\n",
    "```\n",
    "\n",
    "4. **Length**: You can find the length of a set using the `len()` function.\n",
    "\n",
    "```python\n",
    "print(len(my_set))\n",
    "```\n",
    "\n",
    "5. **Membership**: You can check if an element is present in a set using the `in` operator.\n",
    "\n",
    "```python\n",
    "print(2 in my_set)\n",
    "```\n",
    "\n",
    "6. **Iteration**: You can iterate over the elements of a set using a loop.\n",
    "\n",
    "```python\n",
    "for item in my_set:\n",
    "    print(item)\n",
    "```\n",
    "\n",
    "7. **Union**: You can perform a union of two sets using the `union()` method or the `|` operator.\n",
    "\n",
    "```python\n",
    "set1 = {1, 2, 3}\n",
    "set2 = {3, 4, 5}\n",
    "union_set = set1.union(set2)\n",
    "# Alternatively: union_set = set1 | set2\n",
    "print(union_set)\n",
    "```\n",
    "\n",
    "8. **Intersection**: You can perform an intersection of two sets using the `intersection()` method or the `&` operator.\n",
    "\n",
    "```python\n",
    "intersection_set = set1.intersection(set2)\n",
    "# Alternatively: intersection_set = set1 & set2\n",
    "print(intersection_set)\n",
    "```\n",
    "\n",
    "9. **Difference**: You can find the difference between two sets using the `difference()` method or the `-` operator.\n",
    "\n",
    "```python\n",
    "difference_set = set1.difference(set2)\n",
    "# Alternatively: difference_set = set1 - set2\n",
    "print(difference_set)\n",
    "```\n",
    "\n",
    "10. **Symmetric Difference**: You can find the symmetric difference between two sets using the `symmetric_difference()` method or the `^` operator.\n",
    "\n",
    "```python\n",
    "symmetric_difference_set = set1.symmetric_difference(set2)\n",
    "# Alternatively: symmetric_difference_set = set1 ^ set2\n",
    "print(symmetric_difference_set)\n",
    "```\n",
    "\n",
    "Sets are useful for storing unique elements and performing various operations like intersection, union, difference, etc. They are particularly handy when you need to perform set operations efficiently."
   ]
  },
  {
   "cell_type": "code",
   "execution_count": null,
   "id": "71079aa9",
   "metadata": {},
   "outputs": [],
   "source": []
  }
 ],
 "metadata": {
  "kernelspec": {
   "display_name": "Python 3 (ipykernel)",
   "language": "python",
   "name": "python3"
  },
  "language_info": {
   "codemirror_mode": {
    "name": "ipython",
    "version": 3
   },
   "file_extension": ".py",
   "mimetype": "text/x-python",
   "name": "python",
   "nbconvert_exporter": "python",
   "pygments_lexer": "ipython3",
   "version": "3.10.9"
  }
 },
 "nbformat": 4,
 "nbformat_minor": 5
}
