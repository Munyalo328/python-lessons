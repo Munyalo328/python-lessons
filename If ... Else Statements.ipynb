{
 "cells": [
  {
   "cell_type": "markdown",
   "id": "6fc4b3ad",
   "metadata": {},
   "source": [
    "# Python If ... Else"
   ]
  },
  {
   "cell_type": "markdown",
   "id": "9162d043",
   "metadata": {},
   "source": [
    "Python Conditions and If statements.\n",
    "\n",
    "Python supports the usual logical conditions from mathematics:\n",
    "\n",
    "Equals: a == b\n",
    "\n",
    "Not Equals: a != b\n",
    "\n",
    "Less than: a < b\n",
    "\n",
    "Less than or equal to: a <= b\n",
    "\n",
    "Greater than: a > b\n",
    "\n",
    "Greater than or equal to: a >= b\n",
    "\n",
    "These conditions can be used in several ways, most commonly in \"if statements\" and loops.\n",
    "\n",
    "An \"if statement\" is written by using the if keyword."
   ]
  },
  {
   "cell_type": "code",
   "execution_count": 1,
   "id": "fb7d575e",
   "metadata": {},
   "outputs": [
    {
     "name": "stdout",
     "output_type": "stream",
     "text": [
      "b is greater than a\n"
     ]
    }
   ],
   "source": [
    "a = 20\n",
    "b = 105\n",
    "if b > a:\n",
    " print(\"b is greater than a\")"
   ]
  },
  {
   "cell_type": "markdown",
   "id": "8c56c30f",
   "metadata": {},
   "source": [
    "In this example above we use two variables, a and b, which are used as part of the if statement to test whether b is greater than a.\n",
    "\n",
    "As a is 33, and b is 200, we know that 200 is greater than 33, and so we print to screen that \"b is greater than a\"."
   ]
  },
  {
   "cell_type": "markdown",
   "id": "e46b2a9d",
   "metadata": {},
   "source": [
    "Indentation\n",
    "\n",
    "Python relies on indentation (whitespace at the beginning of a line) to define scope in the code. \n",
    "\n",
    "Other programming languages often use curly-brackets for this purpose."
   ]
  },
  {
   "cell_type": "code",
   "execution_count": 2,
   "id": "a0b5f7c1",
   "metadata": {},
   "outputs": [
    {
     "ename": "IndentationError",
     "evalue": "expected an indented block after 'if' statement on line 4 (4092903610.py, line 5)",
     "output_type": "error",
     "traceback": [
      "\u001b[1;36m  Cell \u001b[1;32mIn[2], line 5\u001b[1;36m\u001b[0m\n\u001b[1;33m    print(\"b is greater than a\")#This will give an error.\u001b[0m\n\u001b[1;37m    ^\u001b[0m\n\u001b[1;31mIndentationError\u001b[0m\u001b[1;31m:\u001b[0m expected an indented block after 'if' statement on line 4\n"
     ]
    }
   ],
   "source": [
    "#If statement, without indentation (will raise an error):\n",
    "a = 20\n",
    "b = 105\n",
    "if b > a:\n",
    "print(\"b is greater than a\")#This will give an error."
   ]
  },
  {
   "cell_type": "markdown",
   "id": "1fd49b7a",
   "metadata": {},
   "source": [
    "Elif\n",
    "\n",
    "The elif keyword is Python's way of saying \"if the previous conditions were not true, then try this condition\"."
   ]
  },
  {
   "cell_type": "code",
   "execution_count": null,
   "id": "339946ca",
   "metadata": {},
   "outputs": [],
   "source": [
    "c = 42\n",
    "d = 42\n",
    "if c > d:\n",
    "    print(\"c is greater than d\")\n",
    "elif c == d:\n",
    "    print(\"c is equal \n",
    "          to d\")\n",
    "\n",
    "\n",
    "#In this example a is equal to b, so the first condition is not true,\n",
    "#but the elif condition is true, so we print to screen that \"a and b are equal\".    \n",
    "    "
   ]
  },
  {
   "cell_type": "markdown",
   "id": "2d4514be",
   "metadata": {},
   "source": [
    "Else\n",
    "\n",
    "The else keyword catches anything which isn't caught by the preceding conditions."
   ]
  },
  {
   "cell_type": "code",
   "execution_count": null,
   "id": "07d005a9",
   "metadata": {},
   "outputs": [],
   "source": [
    "e = 56\n",
    "f = 7\n",
    "if f > e:\n",
    "    print(\"f is greater than e\")\n",
    "elif e == f:\n",
    "    print(\"e is equal to f\")\n",
    "else:\n",
    "    print(\"e is greater than f\")\n",
    "\n",
    "\n",
    "#In this example a is greater than b, so the first condition is not true, \n",
    "#also the elif condition is not true, so we go to the else condition and print to screen that \"a is greater than b\".\n",
    "\n",
    "\n",
    "#You can also have an else without the elif:   \n",
    "\n",
    "g = 200\n",
    "h = 56\n",
    "if g > h:\n",
    "    print(\"g is greater than h\")\n",
    "else:\n",
    "    print(\"g is not greater than h\")"
   ]
  },
  {
   "cell_type": "markdown",
   "id": "6847864a",
   "metadata": {},
   "source": [
    "Short Hand If\n",
    "\n",
    "If you have only one statement to execute, you can put it on the same line as the if statement."
   ]
  },
  {
   "cell_type": "code",
   "execution_count": null,
   "id": "848ed066",
   "metadata": {},
   "outputs": [],
   "source": [
    "#One line if statement:\n",
    "\n",
    "a = 20\n",
    "b = 5\n",
    "if a > b: print(\"a is greater than b\")"
   ]
  },
  {
   "cell_type": "markdown",
   "id": "38675f25",
   "metadata": {},
   "source": [
    "Short Hand If ... Else\n",
    "\n",
    "If you have only one statement to execute, one for if, and one for else, you can put it all on the same line:"
   ]
  },
  {
   "cell_type": "code",
   "execution_count": null,
   "id": "df2bb289",
   "metadata": {},
   "outputs": [],
   "source": [
    "#One line if else statement:\n",
    "\n",
    "a = 2\n",
    "b = 330\n",
    "print(\"A\") if a > b else print(\"B\")"
   ]
  },
  {
   "cell_type": "code",
   "execution_count": null,
   "id": "77fd3b30",
   "metadata": {},
   "outputs": [],
   "source": [
    "#You can also have multiple else statements on the same line:\n",
    "\n",
    "#One line if else statement, with 3 conditions:\n",
    "\n",
    "a = 330\n",
    "b = 330\n",
    "print(\"A\") if a > b else print(\"=\") if a == b else print(\"B\")\n"
   ]
  },
  {
   "cell_type": "markdown",
   "id": "8a8d932f",
   "metadata": {},
   "source": [
    "AND\n",
    "\n",
    "The and keyword is a logical operator, and is used to combine conditional statements:"
   ]
  },
  {
   "cell_type": "code",
   "execution_count": null,
   "id": "ae3b529b",
   "metadata": {},
   "outputs": [],
   "source": [
    "a = 200\n",
    "b = 100\n",
    "c = 50\n",
    "if a > b and c > a:\n",
    "    print(\"Both conditions are True.\")# Both conditions have to be True for the AND operator to run and give an output.\n"
   ]
  },
  {
   "cell_type": "code",
   "execution_count": null,
   "id": "1e00fca9",
   "metadata": {},
   "outputs": [],
   "source": [
    "d = 200\n",
    "e = 100 \n",
    "f = 300\n",
    "if d > e and f > d:\n",
    "    print(\"Both conditions are True!\")"
   ]
  },
  {
   "cell_type": "markdown",
   "id": "99a56fd7",
   "metadata": {},
   "source": [
    "OR\n",
    "\n",
    "The or keyword is a logical operator, and is used to combine conditional statements:"
   ]
  },
  {
   "cell_type": "code",
   "execution_count": null,
   "id": "da6e486f",
   "metadata": {},
   "outputs": [],
   "source": [
    "#Test if a is greater than b, OR if a is greater than c:\n",
    "\n",
    "a = 200\n",
    "b = 33\n",
    "c = 500\n",
    "if a > b or a > c:\n",
    "  print(\"At least one of the conditions is True\")"
   ]
  },
  {
   "cell_type": "markdown",
   "id": "1d0b96cc",
   "metadata": {},
   "source": [
    "NOT\n",
    "\n",
    "The not keyword is a logical operator, and is used to reverse the result of the conditional statement:"
   ]
  },
  {
   "cell_type": "code",
   "execution_count": null,
   "id": "80cf5eba",
   "metadata": {},
   "outputs": [],
   "source": [
    "#Test if a is NOT greater than b:\n",
    "\n",
    "a = 33\n",
    "b = 200\n",
    "if not a > b:\n",
    "  print(\"a is NOT greater than b\")"
   ]
  },
  {
   "cell_type": "markdown",
   "id": "e7a447a4",
   "metadata": {},
   "source": [
    "Nested If\n",
    "\n",
    "You can have if statements inside if statements, this is called nested if statements."
   ]
  },
  {
   "cell_type": "code",
   "execution_count": null,
   "id": "7bd48cbd",
   "metadata": {},
   "outputs": [],
   "source": [
    "x = 50\n",
    "if x > 10:\n",
    "    print(\"Greater than 10.\")\n",
    "    if x > 30:\n",
    "        print(\"also greater than 30.\")\n",
    "    else:\n",
    "        print(\"Not greater than 30\")"
   ]
  },
  {
   "cell_type": "markdown",
   "id": "c373e579",
   "metadata": {},
   "source": [
    "The pass Statement\n",
    "\n",
    "if statements cannot be empty, but if you for some reason have an if statement with no content, put in the pass statement to avoid getting an error."
   ]
  },
  {
   "cell_type": "code",
   "execution_count": null,
   "id": "5919a431",
   "metadata": {},
   "outputs": [],
   "source": [
    "a = 30\n",
    "b = 50\n",
    "if b > a:\n",
    "    pass"
   ]
  },
  {
   "cell_type": "markdown",
   "id": "1c595e1b",
   "metadata": {},
   "source": [
    "Using the *if* statement, solve the following questions:\n",
    "\n",
    "1. Check if a number is positive, negative or zero."
   ]
  },
  {
   "cell_type": "code",
   "execution_count": null,
   "id": "623fa866",
   "metadata": {},
   "outputs": [],
   "source": [
    "#\n",
    "\n",
    "number = int(input(\"Enter number: \"))\n",
    "\n",
    "if number == 0:\n",
    "    print(\"Number is zero.\")\n",
    "elif number >= 1:\n",
    "    print(\"Positive number.\")\n",
    "else:\n",
    "    number < 0\n",
    "    print(\"Negative number.\")"
   ]
  },
  {
   "cell_type": "markdown",
   "id": "be47ab88",
   "metadata": {},
   "source": [
    "2. Check if a year is a leap year or not."
   ]
  },
  {
   "cell_type": "code",
   "execution_count": null,
   "id": "06d3d308",
   "metadata": {},
   "outputs": [],
   "source": [
    "#checking if a year is leap year or common year.\n",
    "\n",
    "year = int(input(\"Enter a year: \"))\n",
    "\n",
    "if year/4 == float:\n",
    "    print(\"Common year\")\n",
    "elif print(\"Leap year\"):\n",
    "\n",
    "    if year/100 == int:\n",
    "        print(\"Common year.\")\n",
    "    else:\n",
    "        print(\"Leap year.\")"
   ]
  },
  {
   "cell_type": "code",
   "execution_count": null,
   "id": "14852da2",
   "metadata": {},
   "outputs": [],
   "source": [
    "#checking if a year is leap year or common year.\n",
    "year = int(input(\"Enter a year: \"))\n",
    "\n",
    "if year % 4 == 0 and (year % 100 != 0 or year % 400 == 0):\n",
    "    print(\"Leap year!\")\n",
    "else:\n",
    "    print(\"Common year!\")"
   ]
  },
  {
   "cell_type": "markdown",
   "id": "3778fede",
   "metadata": {},
   "source": [
    "3. Determine the largest among three numbers."
   ]
  },
  {
   "cell_type": "code",
   "execution_count": 7,
   "id": "d1f01de2",
   "metadata": {},
   "outputs": [
    {
     "name": "stdout",
     "output_type": "stream",
     "text": [
      "Enter first number: 12\n",
      "Enter second number: 39\n",
      "Enter third number: 2\n",
      "Largest number is:  39\n"
     ]
    }
   ],
   "source": [
    "#largest among three numbers.\n",
    "\n",
    "number_1 = int(input(\"Enter first number: \"))\n",
    "number_2 = int(input(\"Enter second number: \"))\n",
    "number_3 = int(input(\"Enter third number: \"))\n",
    "\n",
    "largest_number = number_1\n",
    "\n",
    "if number_2 > largest_number:\n",
    "    print(\"Largest number is: \", number_2)\n",
    "elif number_3 > largest_number:\n",
    "    print(\"Largest number is: \", number_3)\n",
    "else:\n",
    "    print(\"Largest number is: \", number_1)"
   ]
  },
  {
   "cell_type": "markdown",
   "id": "8711c590",
   "metadata": {},
   "source": [
    "4. Check if a number is even or odd.\n"
   ]
  },
  {
   "cell_type": "code",
   "execution_count": 12,
   "id": "953d63fe",
   "metadata": {},
   "outputs": [
    {
     "name": "stdout",
     "output_type": "stream",
     "text": [
      "Enter number: 2\n",
      "Even number!\n"
     ]
    }
   ],
   "source": [
    "#check if a number is even or odd.\n",
    "\n",
    "num = int(input(\"Enter number: \"))\n",
    "\n",
    "if num % 2 == 0:\n",
    "    print(\"Even number!\")\n",
    "    #if num % 2 != 0:\n",
    "       # print(\"Odd Number!\")\n",
    "else: \n",
    "    print(\"Odd number!\")\n",
    "        "
   ]
  },
  {
   "cell_type": "markdown",
   "id": "32b19983",
   "metadata": {},
   "source": [
    "5. Check if a person is eligible to vote (voting age is 18)"
   ]
  },
  {
   "cell_type": "code",
   "execution_count": 14,
   "id": "fa4ccbe3",
   "metadata": {},
   "outputs": [
    {
     "name": "stdout",
     "output_type": "stream",
     "text": [
      "Enter age: 18\n",
      "Eligible to vote!\n"
     ]
    }
   ],
   "source": [
    "#check if a person is eligible to vote.\n",
    "\n",
    "age = int(input(\"Enter age: \"))\n",
    "\n",
    "if age >= 18:\n",
    "    print(\"Eligible to vote!\")\n",
    "else:\n",
    "    age < 18\n",
    "    print(\"Not eligible to vote!\")"
   ]
  },
  {
   "cell_type": "code",
   "execution_count": null,
   "id": "621596bd",
   "metadata": {},
   "outputs": [],
   "source": []
  }
 ],
 "metadata": {
  "kernelspec": {
   "display_name": "Python 3 (ipykernel)",
   "language": "python",
   "name": "python3"
  },
  "language_info": {
   "codemirror_mode": {
    "name": "ipython",
    "version": 3
   },
   "file_extension": ".py",
   "mimetype": "text/x-python",
   "name": "python",
   "nbconvert_exporter": "python",
   "pygments_lexer": "ipython3",
   "version": "3.10.9"
  }
 },
 "nbformat": 4,
 "nbformat_minor": 5
}
