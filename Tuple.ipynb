{
 "cells": [
  {
   "cell_type": "markdown",
   "id": "4cc6c9e5",
   "metadata": {},
   "source": [
    "# Tuple."
   ]
  },
  {
   "cell_type": "markdown",
   "id": "45cec9c9",
   "metadata": {},
   "source": [
    "Tuples are used to store multiple items in a single variable. It is a collection which is ordered and unchangeable."
   ]
  },
  {
   "cell_type": "code",
   "execution_count": 1,
   "id": "b81ad913",
   "metadata": {},
   "outputs": [
    {
     "name": "stdout",
     "output_type": "stream",
     "text": [
      "('apple', 'mango', 'banana')\n",
      "\n"
     ]
    }
   ],
   "source": [
    "thisistuple = (\"apple\" , \"mango\" , \"banana\")\n",
    "print(thisistuple)\n",
    "print()"
   ]
  },
  {
   "cell_type": "markdown",
   "id": "81ddff02",
   "metadata": {},
   "source": [
    "-Tuple items are ordered, unchangable and allow duplicate values -Tuple items are indexed, the first item has index [0], the second item has index [1] etc. -Allows duplicate."
   ]
  },
  {
   "cell_type": "code",
   "execution_count": 3,
   "id": "0681ffa4",
   "metadata": {},
   "outputs": [
    {
     "name": "stdout",
     "output_type": "stream",
     "text": [
      "('banana', 'apple', 'mango', 'apple')\n"
     ]
    }
   ],
   "source": [
    "#Allows duplicate.\n",
    "\n",
    "fruits = (\"banana\" , \"apple\" , \"mango\" , \"apple\")\n",
    "print(fruits)"
   ]
  },
  {
   "cell_type": "code",
   "execution_count": 4,
   "id": "bf49d576",
   "metadata": {},
   "outputs": [
    {
     "name": "stdout",
     "output_type": "stream",
     "text": [
      "4\n"
     ]
    }
   ],
   "source": [
    "#Checking the length using the len function.\n",
    "\n",
    "fruits = (\"banana\" , \"apple\" , \"mango\" , \"apple\")\n",
    "print(len(fruits))"
   ]
  },
  {
   "cell_type": "code",
   "execution_count": 5,
   "id": "2e84a4b6",
   "metadata": {},
   "outputs": [
    {
     "name": "stdout",
     "output_type": "stream",
     "text": [
      "('apple',)\n",
      "<class 'tuple'>\n"
     ]
    }
   ],
   "source": [
    "#creating a tuple with one item, remember to put a comma.\n",
    "\n",
    "fruit = (\"apple\" ,)\n",
    "print(fruit)\n",
    "print(type(fruit))"
   ]
  },
  {
   "cell_type": "markdown",
   "id": "0b0f0838",
   "metadata": {},
   "source": [
    "-Without the comma in the end , it is not a tuple.\n",
    "\n",
    "-The tuple() constructor it is also possible to use the tuple() constructor to make a tuple."
   ]
  },
  {
   "cell_type": "code",
   "execution_count": 6,
   "id": "7a693257",
   "metadata": {},
   "outputs": [
    {
     "name": "stdout",
     "output_type": "stream",
     "text": [
      "('apple', 'banana', 'mango')\n"
     ]
    }
   ],
   "source": [
    "fruits = tuple((\"apple\" , \"banana\" , \"mango\")) #Note the double round-brackets\n",
    "print(fruits)"
   ]
  },
  {
   "cell_type": "code",
   "execution_count": 7,
   "id": "45751671",
   "metadata": {},
   "outputs": [
    {
     "name": "stdout",
     "output_type": "stream",
     "text": [
      "banana\n"
     ]
    }
   ],
   "source": [
    "#Accessing tuple items\n",
    "\n",
    "fruits = (\"apple\" , \"banana\" , \"mango\")\n",
    "print(fruits[1])"
   ]
  },
  {
   "cell_type": "code",
   "execution_count": 8,
   "id": "8ff02ef2",
   "metadata": {},
   "outputs": [
    {
     "name": "stdout",
     "output_type": "stream",
     "text": [
      "mango\n"
     ]
    }
   ],
   "source": [
    "#Negative indexing.\n",
    "\n",
    "fruits = (\"apple\" , \"banana\" , \"mango\")\n",
    "print(fruits[-1])"
   ]
  },
  {
   "cell_type": "code",
   "execution_count": 9,
   "id": "cd1fcde9",
   "metadata": {},
   "outputs": [
    {
     "name": "stdout",
     "output_type": "stream",
     "text": [
      "('cherry', 'oranges', 'kiwi')\n"
     ]
    }
   ],
   "source": [
    "#You can specify a range of indexes.\n",
    "\n",
    "fruits = (\"apple\" , \"banana\" , \"cherry\" , \"oranges\" , \"kiwi\" , \"melon\" , \"mango\")\n",
    "print(fruits[2:5])"
   ]
  },
  {
   "cell_type": "code",
   "execution_count": 10,
   "id": "fc9fe519",
   "metadata": {},
   "outputs": [
    {
     "name": "stdout",
     "output_type": "stream",
     "text": [
      "('apple', 'banana', 'cherry', 'orange')\n"
     ]
    }
   ],
   "source": [
    "fruits = (\"apple\", \"banana\", \"cherry\", \"orange\", \"kiwi\", \"melon\", \"mango\")\n",
    "print(fruits[:4])\n"
   ]
  },
  {
   "cell_type": "code",
   "execution_count": 11,
   "id": "5140ea1a",
   "metadata": {},
   "outputs": [
    {
     "name": "stdout",
     "output_type": "stream",
     "text": [
      "('cherry', 'orange', 'kiwi', 'melon', 'mango')\n"
     ]
    }
   ],
   "source": [
    "#By leaving out the end value, the range will go on to the end of the tuple:\n",
    "\n",
    "fruits = (\"apple\", \"banana\", \"cherry\", \"orange\", \"kiwi\", \"melon\", \"mango\")\n",
    "print(fruits[2:])"
   ]
  },
  {
   "cell_type": "markdown",
   "id": "1705fef5",
   "metadata": {},
   "source": [
    "Range of Negative Indexes\n",
    "\n",
    "-Specify negative indexes if you want to start the search from the end of the tuple:"
   ]
  },
  {
   "cell_type": "code",
   "execution_count": 12,
   "id": "29f1fc05",
   "metadata": {},
   "outputs": [
    {
     "name": "stdout",
     "output_type": "stream",
     "text": [
      "('orange', 'kiwi', 'melon')\n"
     ]
    }
   ],
   "source": [
    "fruits = (\"apple\", \"banana\", \"cherry\", \"orange\", \"kiwi\", \"melon\", \"mango\")\n",
    "print(fruits[-4:-1])\n",
    "\n",
    "#This example returns the items from index -4 (included) to index -1 (excluded)"
   ]
  },
  {
   "cell_type": "code",
   "execution_count": null,
   "id": "2aa64da0",
   "metadata": {},
   "outputs": [],
   "source": []
  }
 ],
 "metadata": {
  "kernelspec": {
   "display_name": "Python 3 (ipykernel)",
   "language": "python",
   "name": "python3"
  },
  "language_info": {
   "codemirror_mode": {
    "name": "ipython",
    "version": 3
   },
   "file_extension": ".py",
   "mimetype": "text/x-python",
   "name": "python",
   "nbconvert_exporter": "python",
   "pygments_lexer": "ipython3",
   "version": "3.10.9"
  }
 },
 "nbformat": 4,
 "nbformat_minor": 5
}
