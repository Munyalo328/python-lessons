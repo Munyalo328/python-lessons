{
 "cells": [
  {
   "cell_type": "markdown",
   "id": "fede91dd",
   "metadata": {},
   "source": [
    "# Dictionary."
   ]
  },
  {
   "cell_type": "markdown",
   "id": "ece21117",
   "metadata": {},
   "source": [
    "-They are to store data values in key: value pairs.\n",
    "\n",
    "-Its ordered, changeable and does not allow duplicates.\n",
    "\n",
    "-They are written in curly brackets, and have keys and values."
   ]
  },
  {
   "cell_type": "code",
   "execution_count": 1,
   "id": "0e464c57",
   "metadata": {},
   "outputs": [
    {
     "name": "stdout",
     "output_type": "stream",
     "text": [
      "{'brand': 'BMW', 'Model': 'GS1250', 'Year': 2020}\n"
     ]
    }
   ],
   "source": [
    "dict_1 = {\n",
    "    \"brand\" : \"BMW\",\n",
    "    \"Model\" : \"GS1250\",\n",
    "    \"Year\" : 2020\n",
    "}\n",
    "print(dict_1)"
   ]
  },
  {
   "cell_type": "code",
   "execution_count": 2,
   "id": "3108ad23",
   "metadata": {},
   "outputs": [
    {
     "name": "stdout",
     "output_type": "stream",
     "text": [
      "GS1250\n"
     ]
    }
   ],
   "source": [
    "#Refering a key value in dictionaries.\n",
    "\n",
    "print(dict_1[\"Model\"])"
   ]
  },
  {
   "cell_type": "code",
   "execution_count": 3,
   "id": "61cd7ac3",
   "metadata": {},
   "outputs": [
    {
     "name": "stdout",
     "output_type": "stream",
     "text": [
      "{'brand': 'BMW', 'Model': 'GS1250', 'Year': 2024}\n"
     ]
    }
   ],
   "source": [
    "#overwriting values in dictionaries.\n",
    "\n",
    "dict_1 = {\n",
    "    \"brand\" : \"BMW\",\n",
    "    \"Model\" : \"GS1250\",\n",
    "    \"Year\" : 2020,\n",
    "    \"Year\" : 2024\n",
    "}\n",
    "\n",
    "print(dict_1)"
   ]
  },
  {
   "cell_type": "code",
   "execution_count": 4,
   "id": "3883457d",
   "metadata": {},
   "outputs": [
    {
     "name": "stdout",
     "output_type": "stream",
     "text": [
      "3\n"
     ]
    }
   ],
   "source": [
    "#Checking the length of the dictionary using the len() function.\n",
    "\n",
    "print(len(dict_1))"
   ]
  },
  {
   "cell_type": "code",
   "execution_count": 5,
   "id": "e2936647",
   "metadata": {},
   "outputs": [
    {
     "name": "stdout",
     "output_type": "stream",
     "text": [
      "{'Name': 'Jacob', 'Age': 28, 'County': 'Nakuru'}\n"
     ]
    }
   ],
   "source": [
    "#Using the dict() constructor to make a dictionary.\n",
    "\n",
    "register = dict(Name = \"Jacob\" , Age = 28 , County = \"Nakuru\")\n",
    "print(register)"
   ]
  },
  {
   "cell_type": "code",
   "execution_count": 6,
   "id": "06b9db8d",
   "metadata": {},
   "outputs": [
    {
     "name": "stdout",
     "output_type": "stream",
     "text": [
      "GS1250\n"
     ]
    }
   ],
   "source": [
    "#Getting the value of a key using the get() function.\n",
    "\n",
    "y = dict_1.get(\"Model\")\n",
    "print(y)"
   ]
  },
  {
   "cell_type": "code",
   "execution_count": 7,
   "id": "da66e4dd",
   "metadata": {},
   "outputs": [
    {
     "name": "stdout",
     "output_type": "stream",
     "text": [
      "dict_keys(['brand', 'Model', 'Year'])\n"
     ]
    }
   ],
   "source": [
    "#Getting the keys in the dictionary using the keys() method.\n",
    "\n",
    "x = dict_1.keys()\n",
    "print(x)"
   ]
  },
  {
   "cell_type": "code",
   "execution_count": 8,
   "id": "7dc8c691",
   "metadata": {},
   "outputs": [
    {
     "name": "stdout",
     "output_type": "stream",
     "text": [
      "{'brand': 'BMW', 'Model': 'GS1250', 'Year': 2024, 'Price': 1200000}\n"
     ]
    }
   ],
   "source": [
    "dict_1[\"Price\"] = 1200000\n",
    "print(dict_1)"
   ]
  },
  {
   "cell_type": "code",
   "execution_count": 9,
   "id": "08f1a76c",
   "metadata": {},
   "outputs": [
    {
     "name": "stdout",
     "output_type": "stream",
     "text": [
      "dict_values(['BMW', 'GS1250', 2024, 1200000])\n"
     ]
    }
   ],
   "source": [
    "#Getting the values in the dictionary using the values() method.\n",
    "\n",
    "z = dict_1.values()\n",
    "print(z)"
   ]
  },
  {
   "cell_type": "code",
   "execution_count": 10,
   "id": "ef895772",
   "metadata": {},
   "outputs": [
    {
     "name": "stdout",
     "output_type": "stream",
     "text": [
      "dict_items([('brand', 'BMW'), ('Model', 'GS1250'), ('Year', 2024), ('Price', 1200000)])\n"
     ]
    }
   ],
   "source": [
    "#Items() method returns each item in the dictionary, as tuples in a list.\n",
    "\n",
    "v = dict_1.items()\n",
    "print(v)"
   ]
  },
  {
   "cell_type": "code",
   "execution_count": 11,
   "id": "32863bd1",
   "metadata": {},
   "outputs": [
    {
     "name": "stdout",
     "output_type": "stream",
     "text": [
      "{'brand': 'BMW', 'Model': 'GS1250', 'Year': 2024, 'Price': 1500000}\n"
     ]
    }
   ],
   "source": [
    "#Updatae dictionary using the update() method.\n",
    "#The update() method will update the dictionary with the items from the given argument.\n",
    "#The argument must be a dictionary, or an iterable object with key:value pairs.\n",
    "\n",
    "dict_1.update({\"Price\" : 1500000})\n",
    "print(dict_1)"
   ]
  },
  {
   "cell_type": "code",
   "execution_count": 12,
   "id": "5797cb24",
   "metadata": {},
   "outputs": [
    {
     "name": "stdout",
     "output_type": "stream",
     "text": [
      "{'brand': 'BMW', 'Model': 'GS1250', 'Year': 2024}\n"
     ]
    }
   ],
   "source": [
    "#REMOVING ITEMS.\n",
    "#Using pop() method to remove items with a specified key name.\n",
    "\n",
    "dict_1.pop(\"Price\")\n",
    "print(dict_1)"
   ]
  },
  {
   "cell_type": "code",
   "execution_count": 13,
   "id": "3113c6c1",
   "metadata": {},
   "outputs": [
    {
     "name": "stdout",
     "output_type": "stream",
     "text": [
      "{'brand': 'BMW', 'Model': 'GS1250'}\n"
     ]
    }
   ],
   "source": [
    "#Using ppopitem() method - This removes the last inserted item.\n",
    "\n",
    "dict_1.popitem()\n",
    "print(dict_1)"
   ]
  },
  {
   "cell_type": "code",
   "execution_count": 14,
   "id": "e79d543d",
   "metadata": {},
   "outputs": [
    {
     "name": "stdout",
     "output_type": "stream",
     "text": [
      "{'Model': 'GS1250'}\n"
     ]
    }
   ],
   "source": [
    "#Using del() method - It removes item with the specified key name.\n",
    "\n",
    "del dict_1[\"brand\"]\n",
    "print(dict_1)"
   ]
  },
  {
   "cell_type": "code",
   "execution_count": 15,
   "id": "a78e90b9",
   "metadata": {},
   "outputs": [
    {
     "name": "stdout",
     "output_type": "stream",
     "text": [
      "{}\n"
     ]
    }
   ],
   "source": [
    "#Using clear() method - This empties the dictionary.\n",
    "\n",
    "dict_1.clear()\n",
    "print(dict_1)"
   ]
  },
  {
   "cell_type": "code",
   "execution_count": 16,
   "id": "490a843c",
   "metadata": {},
   "outputs": [
    {
     "name": "stdout",
     "output_type": "stream",
     "text": [
      "{'Brand': 'BMW', 'Model': 'GS 1250', 'Year': 2020}\n",
      "Brand\n",
      "Model\n",
      "Year\n"
     ]
    }
   ],
   "source": [
    "#Looping through a dictionary.\n",
    "\n",
    "dict_2 = {\n",
    "    \"Brand\" : \"BMW\", \n",
    "    \"Model\" : \"GS 1250\",\n",
    "    \"Year\" : 2020\n",
    "}\n",
    "print(dict_2)\n",
    "\n",
    "for x in dict_2:\n",
    "    print(x)"
   ]
  },
  {
   "cell_type": "code",
   "execution_count": 17,
   "id": "ed5cd33a",
   "metadata": {},
   "outputs": [
    {
     "name": "stdout",
     "output_type": "stream",
     "text": [
      "BMW\n",
      "GS 1250\n",
      "2020\n"
     ]
    }
   ],
   "source": [
    "#Using the value() method to return values of a dictionary\n",
    "\n",
    "for y in dict_2.values():\n",
    "    print(y)"
   ]
  },
  {
   "cell_type": "code",
   "execution_count": 18,
   "id": "18568fa6",
   "metadata": {},
   "outputs": [
    {
     "name": "stdout",
     "output_type": "stream",
     "text": [
      "Brand BMW\n",
      "Model GS 1250\n",
      "Year 2020\n"
     ]
    }
   ],
   "source": [
    "#Loop through both keys and values, by using the items() method.\n",
    "\n",
    "for x, y in dict_2.items():\n",
    "    print(x,y)"
   ]
  },
  {
   "cell_type": "code",
   "execution_count": 19,
   "id": "2e8b54ae",
   "metadata": {},
   "outputs": [
    {
     "name": "stdout",
     "output_type": "stream",
     "text": [
      "{'Brand': 'BMW', 'Model': 'GS 1250', 'Year': 2020}\n"
     ]
    }
   ],
   "source": [
    "#Copy dictionary by using the copy() method.\n",
    "\n",
    "dict_3 = dict_2.copy()\n",
    "print(dict_3)"
   ]
  },
  {
   "cell_type": "code",
   "execution_count": 20,
   "id": "289c0218",
   "metadata": {},
   "outputs": [
    {
     "name": "stdout",
     "output_type": "stream",
     "text": [
      "{'Brand': 'BMW', 'Model': 'GS 1250', 'Year': 2020}\n"
     ]
    }
   ],
   "source": [
    "#Making a copy of the dictionary using the dict() function.\n",
    "\n",
    "dict_4 =dict(dict_2)\n",
    "print(dict_4)"
   ]
  },
  {
   "cell_type": "code",
   "execution_count": null,
   "id": "83edce81",
   "metadata": {},
   "outputs": [],
   "source": []
  }
 ],
 "metadata": {
  "kernelspec": {
   "display_name": "Python 3 (ipykernel)",
   "language": "python",
   "name": "python3"
  },
  "language_info": {
   "codemirror_mode": {
    "name": "ipython",
    "version": 3
   },
   "file_extension": ".py",
   "mimetype": "text/x-python",
   "name": "python",
   "nbconvert_exporter": "python",
   "pygments_lexer": "ipython3",
   "version": "3.10.9"
  }
 },
 "nbformat": 4,
 "nbformat_minor": 5
}
