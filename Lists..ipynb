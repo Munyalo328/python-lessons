{
 "cells": [
  {
   "cell_type": "markdown",
   "id": "28193f08",
   "metadata": {},
   "source": [
    "# Lists"
   ]
  },
  {
   "cell_type": "markdown",
   "id": "486dcdf9",
   "metadata": {},
   "source": [
    "A list is a collection of items in a particular order. You can make a list that includes the letters of the alphabet, the digits from 0–9, or the names of all the people in your family"
   ]
  },
  {
   "cell_type": "code",
   "execution_count": 1,
   "id": "30311cf4",
   "metadata": {},
   "outputs": [
    {
     "name": "stdout",
     "output_type": "stream",
     "text": [
      "['trek', 'cannondale', 'redline', 'specialized']\n",
      "<class 'list'>\n",
      "['Honda', 'BMW GS', 'Yamaha', 'Hero', 'Kawasaki', 'Scooteer', 'Ktm']\n",
      "<class 'list'>\n"
     ]
    }
   ],
   "source": [
    "bicycles = ['trek', 'cannondale', 'redline', 'specialized']\n",
    "print(bicycles)\n",
    "print(type(bicycles))\n",
    "\n",
    "#Using the 'list()' constructor\n",
    "\n",
    "bike_ = list(('Honda' , 'BMW GS' , 'Yamaha' , 'Hero' , 'Kawasaki' , 'Scooteer' , 'Ktm'))\n",
    "print(bike_)\n",
    "print(type(bike_))"
   ]
  },
  {
   "cell_type": "markdown",
   "id": "395c3e6c",
   "metadata": {},
   "source": [
    "Accessing Elements in a list"
   ]
  },
  {
   "cell_type": "code",
   "execution_count": 2,
   "id": "70252616",
   "metadata": {},
   "outputs": [
    {
     "name": "stdout",
     "output_type": "stream",
     "text": [
      "trek\n",
      "\n",
      "Trek\n"
     ]
    }
   ],
   "source": [
    "print(bicycles[0])\n",
    "print()\n",
    "\n",
    "#Capitalizing the first letter.\n",
    "\n",
    "print(bicycles[0].title())"
   ]
  },
  {
   "cell_type": "code",
   "execution_count": 3,
   "id": "5b4d4ca5",
   "metadata": {},
   "outputs": [
    {
     "name": "stdout",
     "output_type": "stream",
     "text": [
      "4\n",
      "7\n"
     ]
    }
   ],
   "source": [
    "#Getting list length using the len() function.\n",
    "\n",
    "print(len(bicycles))\n",
    "print(len(bike_))"
   ]
  },
  {
   "cell_type": "code",
   "execution_count": 4,
   "id": "047e1dc6",
   "metadata": {},
   "outputs": [
    {
     "name": "stdout",
     "output_type": "stream",
     "text": [
      "[True, False, True]\n"
     ]
    }
   ],
   "source": [
    "#Working with bolean data types in list.\n",
    "\n",
    "sol =[True,False,True]\n",
    "print(sol)"
   ]
  },
  {
   "cell_type": "code",
   "execution_count": 5,
   "id": "8a8bb764",
   "metadata": {},
   "outputs": [
    {
     "name": "stdout",
     "output_type": "stream",
     "text": [
      "<class 'list'>\n"
     ]
    }
   ],
   "source": [
    "#Checking the data type using the type() function.\n",
    "\n",
    "print(type(sol))"
   ]
  },
  {
   "cell_type": "code",
   "execution_count": 6,
   "id": "a5f6d58c",
   "metadata": {},
   "outputs": [
    {
     "name": "stdout",
     "output_type": "stream",
     "text": [
      "['Mango', 'orange', 'pineapple']\n",
      "<class 'list'>\n"
     ]
    }
   ],
   "source": [
    "#Using the 'list()' constructor to make a list.\n",
    "\n",
    "thislist = list((\"Mango\",\"orange\",\"pineapple\")) #Note the double round brackets.\n",
    "print(thislist)\n",
    "print(type(thislist))"
   ]
  },
  {
   "cell_type": "markdown",
   "id": "6efffc07",
   "metadata": {},
   "source": [
    "Negative Indexing \n",
    "\n",
    "This means you start from the end. [-1] refers to the last item, [-2] refers to the second last item."
   ]
  },
  {
   "cell_type": "code",
   "execution_count": 7,
   "id": "af8dc260",
   "metadata": {},
   "outputs": [
    {
     "name": "stdout",
     "output_type": "stream",
     "text": [
      "specialized\n",
      "\n",
      "KTM\n"
     ]
    }
   ],
   "source": [
    "print(bicycles[-1])\n",
    "print()\n",
    "\n",
    "bike = ['Honda' , 'BMW GS' , 'Kawasaki' , 'Hero' , 'KTM' , 'Yamaha' , 'Scooter']\n",
    "print(bike[-3])"
   ]
  },
  {
   "cell_type": "markdown",
   "id": "0a3595ac",
   "metadata": {},
   "source": [
    "Range of indexes.\n",
    "\n",
    "-We can specify a range of indexes by specifying where to start and where to end the range. -When specifying a range, the return value will be a new list with a specified items."
   ]
  },
  {
   "cell_type": "code",
   "execution_count": 8,
   "id": "fef77515",
   "metadata": {},
   "outputs": [
    {
     "name": "stdout",
     "output_type": "stream",
     "text": [
      "['Volkswagen', 'Toyota', 'Subaru']\n",
      "\n",
      "['Kawasaki', 'Hero', 'KTM']\n"
     ]
    }
   ],
   "source": [
    "list4=[\"Audi\",\"BMW\",\"Volkswagen\",\"Toyota\",\"Subaru\",\"Porche\",\"Range Rover\"]\n",
    "#Return list from 2 to 5.\n",
    "print(list4[2:5])\n",
    "print()\n",
    "\n",
    "bike = ['Honda' , 'BMW GS' , 'Kawasaki' , 'Hero' , 'KTM' , 'Yamaha' , 'Scooter']\n",
    "print(bike[2:5])\n",
    "\n",
    "#The search will start at index 2(included) and end at index 5(not included).\n"
   ]
  },
  {
   "cell_type": "code",
   "execution_count": 9,
   "id": "81d3dabe",
   "metadata": {},
   "outputs": [
    {
     "name": "stdout",
     "output_type": "stream",
     "text": [
      "['Audi', 'BMW', 'Volkswagen', 'Toyota']\n",
      "\n",
      "['Honda', 'BMW GS', 'Kawasaki', 'Hero']\n"
     ]
    }
   ],
   "source": [
    "#More on ranges and indexing\n",
    "\n",
    "#By leaving out the start value, the range will start at the first item.\n",
    "#(The code returns the items from the begining to, but NOT including, \"Subaru\" and \"KTM\".)\n",
    "\n",
    "print(list4[:4])\n",
    "print()\n",
    "\n",
    "print(bike[:4])"
   ]
  },
  {
   "cell_type": "code",
   "execution_count": 10,
   "id": "f542ea84",
   "metadata": {},
   "outputs": [
    {
     "name": "stdout",
     "output_type": "stream",
     "text": [
      "['Volkswagen', 'Toyota', 'Subaru', 'Porche', 'Range Rover']\n",
      "\n",
      "['Kawasaki', 'Hero', 'KTM', 'Yamaha', 'Scooter']\n"
     ]
    }
   ],
   "source": [
    "#By leaving out the end value, the range will go onto the end of the list.\n",
    "\n",
    "print(list4[2:])\n",
    "print()\n",
    "\n",
    "print(bike[2:])\n",
    "\n",
    "#The example returns the items from \"Volkswagen\" and \"Kawasaki\" to the end of the list."
   ]
  },
  {
   "cell_type": "markdown",
   "id": "2a98c85a",
   "metadata": {},
   "source": [
    "Range of Negative Indexes.\n",
    "\n",
    "-Specify negative indexes if you want to start the search from the end of the list."
   ]
  },
  {
   "cell_type": "code",
   "execution_count": 11,
   "id": "7ed73fd0",
   "metadata": {},
   "outputs": [
    {
     "name": "stdout",
     "output_type": "stream",
     "text": [
      "['Volkswagen', 'Toyota', 'Subaru', 'Porche']\n",
      "['Toyota', 'Subaru', 'Porche', 'Range Rover']\n"
     ]
    }
   ],
   "source": [
    "print(list4[-5:-1]) #Returns the items from \"Volkswagen\" [-5] to, but NOT including \"Rangerover\" [-1]\n",
    "print(list4[-4:])"
   ]
  },
  {
   "cell_type": "markdown",
   "id": "b4e3f8b8",
   "metadata": {},
   "source": [
    "Check if an item is present.\n",
    "\n",
    "-To determine if a specific item is present in a list use the \"in\" keyword."
   ]
  },
  {
   "cell_type": "code",
   "execution_count": 12,
   "id": "baee6d1d",
   "metadata": {},
   "outputs": [
    {
     "name": "stdout",
     "output_type": "stream",
     "text": [
      "Yes, 'BMW' is in the list.\n",
      "\n"
     ]
    }
   ],
   "source": [
    "if \"BMW\" in list4:\n",
    "    print(\"Yes, 'BMW' is in the list.\")\n",
    "print()\n",
    "\n",
    "if \"Ford\" in list4:\n",
    "    print(\"Yes, 'Ford' is in the list\") #If the item is missing no output will be displayed.\n",
    "    "
   ]
  },
  {
   "cell_type": "code",
   "execution_count": 13,
   "id": "56d9c330",
   "metadata": {},
   "outputs": [
    {
     "name": "stdout",
     "output_type": "stream",
     "text": [
      "['Nairobi', 'Kisumu', 'Kitui', 'Mombasa', 'Kakamega', 'Narok', 'Kiambu']\n"
     ]
    }
   ],
   "source": [
    "#Changing values in list.\n",
    "#To change values in a list refer to the index number.\n",
    "\n",
    "list5 = [\"Nairobi\",\"Kisumu\",\"Nakuru\",\"Mombasa\",\"Kakamega\",\"Narok\",\"Kiambu\"]\n",
    "list5[2]=\"Kitui\"\n",
    "print(list5)"
   ]
  },
  {
   "cell_type": "code",
   "execution_count": 14,
   "id": "9178fc15",
   "metadata": {},
   "outputs": [
    {
     "name": "stdout",
     "output_type": "stream",
     "text": [
      "['Nairobi', 'Kanduyi', 'Cheptais', 'Mombasa', 'Kakamega', 'Narok', 'Kiambu']\n"
     ]
    }
   ],
   "source": [
    "#Change a Range of Item Values\n",
    "#To change the value of items within a specific range, define a list with the new values, and refer to the range of index numbers where you want to insert the new values:\n",
    "\n",
    "list5[1:3] = [\"Kanduyi\" , \"Cheptais\"]\n",
    "print(list5)"
   ]
  },
  {
   "cell_type": "markdown",
   "id": "39e39f9d",
   "metadata": {},
   "source": [
    "Insert Items.\n",
    "\n",
    "-To insert a new list item, without replacing any of the existing values, we can use the 'insert()' method. -The 'insert()' method inserts an item at the specified index."
   ]
  },
  {
   "cell_type": "code",
   "execution_count": 15,
   "id": "26782cd1",
   "metadata": {},
   "outputs": [
    {
     "name": "stdout",
     "output_type": "stream",
     "text": [
      "['Nairobi', 'Busia', 'Tairi-Mbili', 'Cheptais', 'Mombasa', 'Kakamega', 'Narok', 'Kiambu']\n"
     ]
    }
   ],
   "source": [
    "#If you insert more items than you replace, the new items will be inserted where you specified, and the remaining items will move accordingly:\n",
    "\n",
    "list5[1:2] = [\"Busia\" , \"Tairi-Mbili\"]\n",
    "print(list5)"
   ]
  },
  {
   "cell_type": "code",
   "execution_count": 16,
   "id": "e200a564",
   "metadata": {},
   "outputs": [
    {
     "name": "stdout",
     "output_type": "stream",
     "text": [
      "['Nairobi', 'Kwale', 'Cheptais', 'Mombasa', 'Kakamega', 'Narok', 'Kiambu']\n"
     ]
    }
   ],
   "source": [
    "#If you insert less items than you replace, the new items will be inserted where you specified, and the remaining items will move accordingly:\n",
    "\n",
    "list5[1:3] = [\"Kwale\"]\n",
    "print(list5)"
   ]
  },
  {
   "cell_type": "markdown",
   "id": "512c0df6",
   "metadata": {},
   "source": [
    "Using the insert() function to insert data into a list."
   ]
  },
  {
   "cell_type": "code",
   "execution_count": 17,
   "id": "75aab567",
   "metadata": {},
   "outputs": [
    {
     "name": "stdout",
     "output_type": "stream",
     "text": [
      "['bananas', 'Peas', 'apples', 'mangos']\n"
     ]
    }
   ],
   "source": [
    "fruits = [\"bananas\" , \"apples\" , \"mangos\"]\n",
    "fruits.insert(1, \"Peas\")\n",
    "print(fruits)"
   ]
  },
  {
   "cell_type": "markdown",
   "id": "fe130c60",
   "metadata": {},
   "source": [
    "Adding items to a list using the append() method.\n",
    "\n",
    "-Appending is adding items at the end of the list."
   ]
  },
  {
   "cell_type": "code",
   "execution_count": 18,
   "id": "75a21ffc",
   "metadata": {},
   "outputs": [
    {
     "name": "stdout",
     "output_type": "stream",
     "text": [
      "['bananas', 'Peas', 'apples', 'mangos', 'guavas']\n"
     ]
    }
   ],
   "source": [
    "fruits.append(\"guavas\")\n",
    "print(fruits)"
   ]
  },
  {
   "cell_type": "code",
   "execution_count": 19,
   "id": "9e438cef",
   "metadata": {},
   "outputs": [
    {
     "name": "stdout",
     "output_type": "stream",
     "text": [
      "['Auris', 'Land Cruser', 'Vits', 'Camry', 'BMW', 'Audi', 'Volkswagen', 'Volvo']\n"
     ]
    }
   ],
   "source": [
    "#Using extend() method to combine two lists.\n",
    "\n",
    "toyota = [\"Auris\" , \"Land Cruser\" , \"Vits\" , \"Camry\"]\n",
    "german = [\"BMW\" , \"Audi\" , \"Volkswagen\" , \"Volvo\"]\n",
    "\n",
    "toyota.extend(german)\n",
    "print(toyota)"
   ]
  },
  {
   "cell_type": "code",
   "execution_count": 20,
   "id": "132cd4da",
   "metadata": {},
   "outputs": [
    {
     "name": "stdout",
     "output_type": "stream",
     "text": [
      "['Auris', 'Land Cruser', 'Camry', 'BMW', 'Audi', 'Volkswagen', 'Volvo']\n"
     ]
    }
   ],
   "source": [
    "#Remove elements from a list usinge the remove() function.\n",
    "\n",
    "toyota.remove(\"Vits\")\n",
    "print(toyota)\n",
    "\n"
   ]
  },
  {
   "cell_type": "code",
   "execution_count": 21,
   "id": "cfe713ab",
   "metadata": {},
   "outputs": [
    {
     "name": "stdout",
     "output_type": "stream",
     "text": [
      "['BMW', 'Audi', 'Volkswagen']\n"
     ]
    }
   ],
   "source": [
    "#Removing specified index using the keyword.\n",
    "\n",
    "german.pop(3)\n",
    "print(german)"
   ]
  },
  {
   "cell_type": "code",
   "execution_count": 22,
   "id": "38079592",
   "metadata": {},
   "outputs": [
    {
     "name": "stdout",
     "output_type": "stream",
     "text": [
      "['GS', 'Honda', 'Kawasaki']\n"
     ]
    }
   ],
   "source": [
    "#Using pop() method without specifying the index of an item it removes the last item in the list.\n",
    "\n",
    "motorbike = [\"GS\" , \"Honda\" , \"Kawasaki\" , \"Yamaha\"]\n",
    "motorbike.pop()\n",
    "print(motorbike)"
   ]
  },
  {
   "cell_type": "code",
   "execution_count": 23,
   "id": "e5161d91",
   "metadata": {},
   "outputs": [
    {
     "name": "stdout",
     "output_type": "stream",
     "text": [
      "['GS', 'Honda']\n"
     ]
    }
   ],
   "source": [
    "#Removing list elements by using the delete method del().\n",
    "\n",
    "del motorbike[2]\n",
    "print(motorbike)"
   ]
  },
  {
   "cell_type": "code",
   "execution_count": 24,
   "id": "cea5b2b2",
   "metadata": {},
   "outputs": [
    {
     "ename": "NameError",
     "evalue": "name 'motorbike' is not defined",
     "output_type": "error",
     "traceback": [
      "\u001b[1;31m---------------------------------------------------------------------------\u001b[0m",
      "\u001b[1;31mNameError\u001b[0m                                 Traceback (most recent call last)",
      "Cell \u001b[1;32mIn[24], line 4\u001b[0m\n\u001b[0;32m      1\u001b[0m \u001b[38;5;66;03m#del() can also be used to delete the entire list.\u001b[39;00m\n\u001b[0;32m      3\u001b[0m \u001b[38;5;28;01mdel\u001b[39;00m motorbike\n\u001b[1;32m----> 4\u001b[0m \u001b[38;5;28mprint\u001b[39m(\u001b[43mmotorbike\u001b[49m)\n",
      "\u001b[1;31mNameError\u001b[0m: name 'motorbike' is not defined"
     ]
    }
   ],
   "source": [
    "#del() can also be used to delete the entire list.\n",
    "\n",
    "del motorbike\n",
    "print(motorbike)"
   ]
  },
  {
   "cell_type": "code",
   "execution_count": 25,
   "id": "342bc25c",
   "metadata": {},
   "outputs": [
    {
     "name": "stdout",
     "output_type": "stream",
     "text": [
      "[]\n"
     ]
    }
   ],
   "source": [
    "#Removing elements using clear()\n",
    "#clear() method removes the contents of the list, but the list remains.\n",
    "motorbike = ['GS', 'Honda' , 'Kawaski']\n",
    "motorbike.clear()\n",
    "print(motorbike)"
   ]
  },
  {
   "cell_type": "markdown",
   "id": "d2743bc2",
   "metadata": {},
   "source": [
    "LOOPING THROUGH AN ENTIRE LIST.\n",
    "\n",
    "-We will often want to run all entries in a list performing the same task with each item. -For example, in a game we might want to move every element on the screen by the same amount, or in a list of numbers we might want to perform the same statistical operation on every element. Or perhaps we will want to display each headline from a list of articles on a website. When we want to do the same action with every item in a list, we can use Python’s 'for' loop."
   ]
  },
  {
   "cell_type": "code",
   "execution_count": 26,
   "id": "df2011cc",
   "metadata": {},
   "outputs": [
    {
     "name": "stdout",
     "output_type": "stream",
     "text": [
      "Alice\n",
      "John\n",
      "Jane\n",
      "Tom\n",
      "\n",
      "Audi\n",
      "BMW\n",
      "land rovers\n",
      "Camry\n"
     ]
    }
   ],
   "source": [
    "students = [\"Alice\" , \"John\" , \"Jane\" , \"Tom\"]\n",
    "for student in students:\n",
    "    print(student)\n",
    "    \n",
    "print()\n",
    "\n",
    "#We begin by defining a list in 1\n",
    "#At 2 we drfine a for loop, this line tells Python to pull a name on the list students and store it in the variable student.\n",
    "#At 3 we tell Python to print the name that was just stored in student.\n",
    "#Python will then repeat line 2 and 3 once for each name in the list.\n",
    "#It might help to read this code as:\n",
    "# “For every student in the list of students, print the student’s name.”\n",
    "    \n",
    "machines = [\"Audi\" , \"BMW\" , \"land rovers\" , \"Camry\"]\n",
    "for machine in machines:\n",
    "    print(machine)"
   ]
  },
  {
   "cell_type": "code",
   "execution_count": 27,
   "id": "fc05444f",
   "metadata": {},
   "outputs": [
    {
     "name": "stdout",
     "output_type": "stream",
     "text": [
      "Nairobi\n",
      "Kisumu\n",
      "Kwale\n",
      "Nakuru\n"
     ]
    }
   ],
   "source": [
    "counties = [\"Nairobi\" , \"Kisumu\" , \"Kwale\" , \"Nakuru\"]\n",
    "for y in counties:\n",
    "    print(y)"
   ]
  },
  {
   "cell_type": "code",
   "execution_count": 28,
   "id": "f82aa6bf",
   "metadata": {},
   "outputs": [
    {
     "name": "stdout",
     "output_type": "stream",
     "text": [
      "Kiambu\n",
      "Narok\n",
      "Meru\n",
      "Eldoret\n"
     ]
    }
   ],
   "source": [
    "#Printing all items by refering to there index number.\n",
    "\n",
    "towns = [\"Kiambu\" , \"Narok\" , \"Meru\" , \"Eldoret\"]\n",
    "for z in range(len(towns)):\n",
    "    print(towns[z])"
   ]
  },
  {
   "cell_type": "code",
   "execution_count": 29,
   "id": "2cd4ef25",
   "metadata": {},
   "outputs": [
    {
     "name": "stdout",
     "output_type": "stream",
     "text": [
      "Kenya\n",
      "Tanzania\n",
      "Uganda\n",
      "Nigeria\n",
      "Congo\n"
     ]
    }
   ],
   "source": [
    "#Printing all items using the while loop.\n",
    "\n",
    "africa = [\"Kenya\" , \"Tanzania\" , \"Uganda\" , \"Nigeria\" , \"Congo\"]\n",
    "b = 0\n",
    "while b < len(africa):\n",
    "    print(africa[b])\n",
    "    b = b + 1"
   ]
  },
  {
   "cell_type": "code",
   "execution_count": 30,
   "id": "c6fb9096",
   "metadata": {},
   "outputs": [
    {
     "name": "stdout",
     "output_type": "stream",
     "text": [
      "Kiambu\n",
      "Narok\n",
      "Meru\n",
      "Eldoret\n"
     ]
    },
    {
     "data": {
      "text/plain": [
       "[None, None, None, None]"
      ]
     },
     "execution_count": 30,
     "metadata": {},
     "output_type": "execute_result"
    }
   ],
   "source": [
    "#Using the shorthand for loop.\n",
    "\n",
    "towns = [\"Kiambu\" , \"Narok\" , \"Meru\" , \"Eldoret\"]\n",
    "[print(d) for d in towns]"
   ]
  },
  {
   "cell_type": "markdown",
   "id": "b2639f34",
   "metadata": {},
   "source": [
    "Sorting lists"
   ]
  },
  {
   "cell_type": "code",
   "execution_count": 31,
   "id": "bc484b63",
   "metadata": {},
   "outputs": [
    {
     "name": "stdout",
     "output_type": "stream",
     "text": [
      "['Eldoret', 'Kiambu', 'Meru', 'Narok']\n"
     ]
    }
   ],
   "source": [
    "#Sorting the list alphabetically using the sort() function.\n",
    "\n",
    "towns = [\"Kiambu\" , \"Narok\" , \"Meru\" , \"Eldoret\"]\n",
    "\n",
    "\n",
    "\n",
    "\n",
    "towns.sort()\n",
    "print(towns)"
   ]
  },
  {
   "cell_type": "code",
   "execution_count": 32,
   "id": "060e00e4",
   "metadata": {},
   "outputs": [
    {
     "name": "stdout",
     "output_type": "stream",
     "text": [
      "[12, 23, 38, 56, 102]\n"
     ]
    }
   ],
   "source": [
    "#Sorting the list numerically.\n",
    "\n",
    "age = [102 , 56 , 38 , 23 , 12]\n",
    "age.sort()\n",
    "print(age)"
   ]
  },
  {
   "cell_type": "code",
   "execution_count": 33,
   "id": "779a8c43",
   "metadata": {},
   "outputs": [
    {
     "name": "stdout",
     "output_type": "stream",
     "text": [
      "['Narok', 'Meru', 'Kiambu', 'Eldoret']\n",
      "\n",
      "[102, 56, 38, 23, 12]\n"
     ]
    }
   ],
   "source": [
    "#Sorting in ascending order.\n",
    "\n",
    "towns = [\"Kiambu\" , \"Narok\" , \"Meru\" , \"Eldoret\"]\n",
    "towns.sort(reverse = True)\n",
    "print(towns)\n",
    "\n",
    "print()\n",
    "\n",
    "age = [102 , 56 , 38 , 23 , 12]\n",
    "age.sort(reverse = True)\n",
    "print(age)"
   ]
  },
  {
   "cell_type": "code",
   "execution_count": 34,
   "id": "eaf9ca4c",
   "metadata": {},
   "outputs": [
    {
     "name": "stdout",
     "output_type": "stream",
     "text": [
      "['Eldoret', 'Kiambu', 'Meru', 'Narok']\n",
      "\n",
      "[12, 23, 38, 56, 102]\n"
     ]
    }
   ],
   "source": [
    "#Sorting in descending order.\n",
    "\n",
    "towns = [\"Kiambu\" , \"Narok\" , \"Meru\" , \"Eldoret\"]\n",
    "towns.sort(reverse = False)\n",
    "print(towns)\n",
    "\n",
    "print()\n",
    "\n",
    "age = [102 , 56 , 38 , 23 , 12]\n",
    "age.sort(reverse = False)\n",
    "print(age)"
   ]
  },
  {
   "cell_type": "code",
   "execution_count": 35,
   "id": "529615e9",
   "metadata": {},
   "outputs": [
    {
     "name": "stdout",
     "output_type": "stream",
     "text": [
      "[50, 65, 23, 82, 100]\n"
     ]
    }
   ],
   "source": [
    "def myfunc(n):\n",
    "    return abs(n - 50)\n",
    "\n",
    "thislist = [100, 50, 65, 82, 23]\n",
    "thislist.sort(key = myfunc)\n",
    "print(thislist)"
   ]
  },
  {
   "cell_type": "code",
   "execution_count": 36,
   "id": "70e7ac53",
   "metadata": {},
   "outputs": [
    {
     "name": "stdout",
     "output_type": "stream",
     "text": [
      "['a', 'b', 'c', 1, 2, 3]\n"
     ]
    }
   ],
   "source": [
    "#Joining lists using append()\n",
    "\n",
    "list1 = [\"a\" , \"b\" , \"c\"]\n",
    "list2 = [1 , 2 , 3]\n",
    "\n",
    "for x in list2:\n",
    "    list1.append(x)\n",
    "    \n",
    "print(list1)    "
   ]
  },
  {
   "cell_type": "code",
   "execution_count": 37,
   "id": "b4c8db3e",
   "metadata": {},
   "outputs": [
    {
     "name": "stdout",
     "output_type": "stream",
     "text": [
      "['a', 'b', 'c', 1, 2, 3]\n"
     ]
    }
   ],
   "source": [
    "#Joining two lists\n",
    "\n",
    "list3 = [\"a\" , \"b\" , \"c\"]\n",
    "list4 = [1 , 2 , 3]\n",
    "\n",
    "list5 = list3 + list4\n",
    "print(list5)"
   ]
  },
  {
   "cell_type": "code",
   "execution_count": null,
   "id": "db6b29bd",
   "metadata": {},
   "outputs": [],
   "source": []
  }
 ],
 "metadata": {
  "kernelspec": {
   "display_name": "Python 3 (ipykernel)",
   "language": "python",
   "name": "python3"
  },
  "language_info": {
   "codemirror_mode": {
    "name": "ipython",
    "version": 3
   },
   "file_extension": ".py",
   "mimetype": "text/x-python",
   "name": "python",
   "nbconvert_exporter": "python",
   "pygments_lexer": "ipython3",
   "version": "3.10.9"
  }
 },
 "nbformat": 4,
 "nbformat_minor": 5
}
