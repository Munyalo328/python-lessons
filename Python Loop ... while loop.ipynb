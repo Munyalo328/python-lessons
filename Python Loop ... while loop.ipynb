{
 "cells": [
  {
   "cell_type": "markdown",
   "id": "41a653e2",
   "metadata": {},
   "source": [
    "Python Loops\n",
    "\n",
    "Python has two primitive loop commands:\n",
    "\n",
    "1.while loops\n",
    "\n",
    "2.for loops\n",
    "\n",
    "The while Loop\n",
    "\n",
    "With the while loop we can execute a set of statements as long as a condition is true."
   ]
  },
  {
   "cell_type": "code",
   "execution_count": 1,
   "id": "1c2e9407",
   "metadata": {},
   "outputs": [
    {
     "name": "stdout",
     "output_type": "stream",
     "text": [
      "1\n",
      "2\n",
      "3\n",
      "4\n",
      "5\n"
     ]
    }
   ],
   "source": [
    "i = 1\n",
    "while i < 6:\n",
    "    print(i)\n",
    "    i += 1\n",
    "    #Note: remember to increment i, or else the loop will continue forever.\n",
    "\n",
    "#The while loop requires relevant variables to be ready, \n",
    "#in this example we need to define an indexing variable, i, which we set to 1.    "
   ]
  },
  {
   "cell_type": "markdown",
   "id": "d7af8ad9",
   "metadata": {},
   "source": [
    "The break Statement\n",
    "\n",
    "With the break statement we can stop the loop even if the while condition is true:"
   ]
  },
  {
   "cell_type": "code",
   "execution_count": null,
   "id": "2a113fa4",
   "metadata": {},
   "outputs": [],
   "source": []
  }
 ],
 "metadata": {
  "kernelspec": {
   "display_name": "Python 3 (ipykernel)",
   "language": "python",
   "name": "python3"
  },
  "language_info": {
   "codemirror_mode": {
    "name": "ipython",
    "version": 3
   },
   "file_extension": ".py",
   "mimetype": "text/x-python",
   "name": "python",
   "nbconvert_exporter": "python",
   "pygments_lexer": "ipython3",
   "version": "3.10.9"
  }
 },
 "nbformat": 4,
 "nbformat_minor": 5
}
