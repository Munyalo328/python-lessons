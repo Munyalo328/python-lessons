{
 "cells": [
  {
   "cell_type": "markdown",
   "id": "50c506d1",
   "metadata": {},
   "source": [
    "# MODULE 3: BOOLEAN VALUES, CONDITIONAL EXECUTION, LOOPS, LISTS AND LIST PROCESSING, LOGICAL AND BITWISE OPERATIONS"
   ]
  },
  {
   "cell_type": "markdown",
   "id": "39f89f40",
   "metadata": {},
   "source": [
    "# Questions and answers.\n",
    "\n",
    "A programmer writes a program and *the program asks questions.*\n",
    "\n",
    "A computer executes the program and *provides the answers.*\n",
    "\n",
    "The program must be able to *react according to the received answers.*\n",
    "\n",
    "\n",
    "Computers knows only two kinds of answers:\n",
    "\n",
    "1. yes, this is true;\n",
    "\n",
    "2. no, this is false.\n",
    "\n",
    "*To ask questions, Python uses a set of very special operators.*\n",
    "\n",
    "# Comparison: Equality operator\n",
    "\n",
    "Question: *are two values equal?*\n",
    "\n",
    "To ask this questio, you use the *==* (equal equal) operator.\n",
    "\n",
    "Do not forget this important distiction:\n",
    "\n",
    "- *=* is an *assignment operator*, e.g., a = b assigns a with the value of b;\n",
    "\n",
    "- *==* is the question are these values equal?; a == b *compares* a and b.\n",
    "\n",
    "It is a *binary operator with left-sided binding.* \n",
    "\n",
    "It needs two arguments and *checks if they are equal*."
   ]
  },
  {
   "cell_type": "markdown",
   "id": "c6e8b3dd",
   "metadata": {},
   "source": [
    "# Equality: the *equal to* operator (==)\n",
    "\n",
    "This operator compares the values of two operands.\n",
    "\n",
    "If they are equal the results of the comparison is *True.\n",
    "\n",
    "If they are not equal, the result of the comparison is *False.\n"
   ]
  },
  {
   "cell_type": "code",
   "execution_count": 1,
   "id": "c59ad90d",
   "metadata": {},
   "outputs": [
    {
     "name": "stdout",
     "output_type": "stream",
     "text": [
      "True\n",
      "False\n"
     ]
    }
   ],
   "source": [
    "var = 0 #Assigning 0 to var\n",
    "print(var == 0)\n",
    "\n",
    "var = 1 #assigning 1 to var\n",
    "print(var == 0)"
   ]
  },
  {
   "cell_type": "markdown",
   "id": "e6eb6f04",
   "metadata": {},
   "source": [
    "# Inequality: the *not equal to* operator (!=)\n",
    "\n",
    "The *!=* (not equal to) operator compares the values of two operands, too.\n",
    "\n",
    "Here the difference is:\n",
    "\n",
    "- if they are equal the result of the comparison is *False*.\n",
    "\n",
    "- if they are not equal, the result of the comparison is *True*. "
   ]
  },
  {
   "cell_type": "code",
   "execution_count": 2,
   "id": "bdbf5215",
   "metadata": {},
   "outputs": [
    {
     "name": "stdout",
     "output_type": "stream",
     "text": [
      "False\n",
      "True\n"
     ]
    }
   ],
   "source": [
    "var = 0  #Assigning 0 to var\n",
    "print(var != 0)\n",
    "\n",
    "var = 1  #Assigning 1 to var\n",
    "print(var != 0)"
   ]
  },
  {
   "cell_type": "markdown",
   "id": "86acb59d",
   "metadata": {},
   "source": [
    "# Comparison operators: greater than.\n",
    "\n",
    "We can also ask a comparison question using a *>* (greater than) operator.\n",
    "\n",
    "Example:\n",
    "\n",
    "If we want to know if there are more black sheep than white ones, we can write as follows:"
   ]
  },
  {
   "cell_type": "code",
   "execution_count": 3,
   "id": "0fe4b691",
   "metadata": {},
   "outputs": [
    {
     "data": {
      "text/plain": [
       "True"
      ]
     },
     "execution_count": 3,
     "metadata": {},
     "output_type": "execute_result"
    }
   ],
   "source": [
    "black_sheep = 58\n",
    "white_sheep = 32\n",
    "black_sheep > white_sheep #Greater than.\n",
    "\n",
    "#True confirms it false denies it."
   ]
  },
  {
   "cell_type": "markdown",
   "id": "17bc4e18",
   "metadata": {},
   "source": [
    "# Comparison operator: greater than or equal to.\n",
    "\n",
    "The *greater than* operator has another special, *non-strict* variant, but it is denoted differently than in classical arithmetic notation: *>=* (greater than or equal to).\n",
    "\n",
    "These are two subsequent sign not one.\n",
    "\n",
    "Both of these operators ( strict and non-strict), are *binary operators with left-sided binding*, and their *priority is greater than that shown by == and !=*."
   ]
  },
  {
   "cell_type": "code",
   "execution_count": 4,
   "id": "eafeba12",
   "metadata": {},
   "outputs": [
    {
     "ename": "SyntaxError",
     "evalue": "invalid character '≥' (U+2265) (2855154509.py, line 1)",
     "output_type": "error",
     "traceback": [
      "\u001b[1;36m  Cell \u001b[1;32mIn[4], line 1\u001b[1;36m\u001b[0m\n\u001b[1;33m    adult_age ≥ 18  #Greater than or equal to\u001b[0m\n\u001b[1;37m              ^\u001b[0m\n\u001b[1;31mSyntaxError\u001b[0m\u001b[1;31m:\u001b[0m invalid character '≥' (U+2265)\n"
     ]
    }
   ],
   "source": [
    "adult_age ≥ 18  #Greater than or equal to"
   ]
  },
  {
   "cell_type": "markdown",
   "id": "18672ff1",
   "metadata": {},
   "source": [
    "# Comparison operators: less than or equal to.\n",
    "\n",
    "The operators used in this case are: the *<* (less than) operator and its non-strict sibling: *<=* (less than or equal to)."
   ]
  },
  {
   "cell_type": "code",
   "execution_count": null,
   "id": "c27af643",
   "metadata": {},
   "outputs": [],
   "source": [
    "#Example\n",
    "\n",
    "child_age < 17  #Less than\n",
    "child_age ≤ 18  #Less than or equal to"
   ]
  },
  {
   "cell_type": "markdown",
   "id": "9eb4f61f",
   "metadata": {},
   "source": [
    "# Making use of the answers.\n",
    "\n",
    "What can we do we the answers we get from the computer?\n",
    "\n",
    "- We can memorize it (*store in a variable*) and make use of it later."
   ]
  },
  {
   "cell_type": "code",
   "execution_count": null,
   "id": "0842e5d1",
   "metadata": {},
   "outputs": [],
   "source": [
    "answer = no_of_lions >= no_of_lionesses\n",
    "\n",
    "#The content of the variable will tell you the answer to the question asked."
   ]
  },
  {
   "cell_type": "markdown",
   "id": "fd3d47e2",
   "metadata": {},
   "source": [
    "- The second possibility is very convinient and far more common: you can use the answer you get to *make a decision about the future of the program*.\n",
    "\n"
   ]
  },
  {
   "cell_type": "markdown",
   "id": "232aba8f",
   "metadata": {},
   "source": [
    "# Exercise.\n",
    "\n",
    "Using one of the comparison operators in Python, write a simple two-line program that takes the parameter *n* as input, which is an integer, and prints *False* if *n* is less than *100*, and *True* if *n* is greater than or equal to *100*.\n",
    "\n",
    "Don't create any *if* blocks (we're going to talk about them very soon)."
   ]
  },
  {
   "cell_type": "code",
   "execution_count": null,
   "id": "293483df",
   "metadata": {},
   "outputs": [],
   "source": [
    "n = int(input())\n",
    "print(n >= 100)"
   ]
  },
  {
   "cell_type": "markdown",
   "id": "47df2786",
   "metadata": {},
   "source": [
    "# Conditions and conditional execution.\n",
    "\n",
    "We already know how to ask Python questions, but we still don't know how to make reasonable use of the answers.\n",
    "\n",
    "You have to have a mechanism which will allow you to do something *if a condition is met, and not do it if it isn't*.\n",
    "\n",
    "Just like in real life: you do certain thigs or not when a specific conditon is met or not.\n",
    "\n",
    "To make such decisions, Python offers a special instruction.\n",
    "\n",
    "It is called a *conditional instruction* (or conditional statement).\n",
    "\n",
    "The first form of conditional statement, written very informally but figuratively:\n"
   ]
  },
  {
   "cell_type": "code",
   "execution_count": null,
   "id": "a04a14f2",
   "metadata": {},
   "outputs": [],
   "source": [
    "if true_or_not:\n",
    "    do_this_if_true"
   ]
  },
  {
   "cell_type": "markdown",
   "id": "0b057ddf",
   "metadata": {},
   "source": [
    "The conditional statements consists of:\n",
    "\n",
    "- the *if* keyword;\n",
    "\n",
    "- one or more white spaces;\n",
    "\n",
    "- an expression (a question or an answer) whose value will be interpreted slolely in terms of *True* and *False* ;\n",
    "\n",
    "- a *colon* followed by a newline;\n",
    "\n",
    "- an indented instruction or set of instructions (at least one instruction is absolutely required);\n",
    "\n",
    "\n",
    "How does the statement work?\n",
    "\n",
    "- If the *true_or_not* expression *represents the truth,the indented statement(s) will be executed*;\n",
    "\n",
    " - if the true_or_not expression *does not represent the truth, the indented statement(s) will be omitted*, and the next executed instruction will be the one after the original indentation level."
   ]
  },
  {
   "cell_type": "code",
   "execution_count": null,
   "id": "95ccfdee",
   "metadata": {},
   "outputs": [],
   "source": [
    "#Example\n",
    "#if the weather is good we will go for a walk\n",
    "#then, we will have lunch \n",
    "#(having lunch is not a conditional activity and does not depend on the weather.)\n",
    "\n",
    "if the_weather_is_good:\n",
    "    go_for_a_walk()\n",
    "have_lunch()"
   ]
  },
  {
   "cell_type": "markdown",
   "id": "4821a716",
   "metadata": {},
   "source": [
    "# Conditional execution: the *if* statement\n",
    "\n",
    "If a certain sleepless Python developer falls asleep when he/she counts 120 sheep, and the sleep-inducing procedure may be implemented as a special function named *sleep_and_dream()*."
   ]
  },
  {
   "cell_type": "code",
   "execution_count": null,
   "id": "8dd48b0b",
   "metadata": {},
   "outputs": [],
   "source": [
    "if sheep_counter >=120:  # Evaluate a test expression\n",
    "    sleep_and_dream()    #  Execute if test expression is True\n",
    "    \n",
    "    \n",
    "#Can be read as: \n",
    "    #If *sheep_counter* is greater than or equal to *120*,\n",
    " #then fall asleep and dream (i.e, execute the *sleep_and_dream function*.)"
   ]
  },
  {
   "cell_type": "markdown",
   "id": "9ab472ef",
   "metadata": {},
   "source": [
    "*Conditionally executed statements have to be indented*.\n",
    "\n",
    "This creates a very legible structure, clearly demonstrating all possible execution paths in the code.\n",
    "\n",
    "Example:"
   ]
  },
  {
   "cell_type": "code",
   "execution_count": null,
   "id": "cf29f266",
   "metadata": {},
   "outputs": [],
   "source": [
    "if sheep_counter >= 120:\n",
    "    make_a_bed()\n",
    "    take_a_shower()\n",
    "    sleep_and_dream()\n",
    "feed_the_sheepdogs()    "
   ]
  },
  {
   "cell_type": "markdown",
   "id": "e2659999",
   "metadata": {},
   "source": [
    "Making a bed, taking a shower and falling a sleep and dreaming are all *executed conditionally*- when *sheep_counter* reaches the desired limit.\n",
    "\n",
    "Feeding the sheepdogs, however, is *always done* (it is not indented and does not belong to the *if* block, which means it is always executed.)"
   ]
  },
  {
   "cell_type": "markdown",
   "id": "0fa81f72",
   "metadata": {},
   "source": [
    "# Conditional execution: the *if-else* statement\n",
    "\n",
    "We know what we will do if one condition is met, but we don't know what we will do if the condition is not met.\n",
    "\n",
    "The ***if-else*** statement gives us an alternative if the first condition is not met.\n",
    "\n",
    "Now we know what to do **if the conditions are met**, and also what we will do **if not everything goes our way**.\n",
    "\n",
    "This is done with a second, slightly more complex form of the conditional statement, the *if-else* statement:"
   ]
  },
  {
   "cell_type": "code",
   "execution_count": null,
   "id": "47fe8c00",
   "metadata": {},
   "outputs": [],
   "source": [
    "if true_or_false_condition:\n",
    "    perform_if_condition_true\n",
    "else:\n",
    "    Perform_if_condition_false"
   ]
  },
  {
   "cell_type": "markdown",
   "id": "16e0b3d2",
   "metadata": {},
   "source": [
    "There is a new word: *else*- this is a **keyword**.\n",
    "\n",
    "The part of the code which begins with *else* says what to do if the condition specified for the *if* is not met (note the **colon** after the word).\n",
    "\n",
    "The *if-else* execution goes as follows:\n",
    "\n",
    "- if the condition evaluates to **True**, the *perform_if_condition_true* statement is executed, and the conditionaal statement comes to an end.\n",
    "\n",
    "- if the condition evaluates to **False**,the *perform_if_condition_false* statement is executed, and the conditional statement comes to an end."
   ]
  },
  {
   "cell_type": "markdown",
   "id": "0e6b3944",
   "metadata": {},
   "source": [
    "# The *if-else* statement: more conditional execution.\n",
    "\n",
    "By using this form of conditional statement, we can describe our plans as follows:\n"
   ]
  },
  {
   "cell_type": "code",
   "execution_count": null,
   "id": "ee0c34e6",
   "metadata": {},
   "outputs": [],
   "source": [
    "if the_weather_is_good:\n",
    "    go_for_a_walk()\n",
    "else:\n",
    "    go_to_a_theater()\n",
    "have_lunch()    "
   ]
  },
  {
   "cell_type": "markdown",
   "id": "f32ba087",
   "metadata": {},
   "source": [
    "If the weather is good, we will go for a walk. Otherwise, we will go to a theater. \n",
    "\n",
    "No matter if the weather is good or bad, we will have lunch afterwards (after the walk or after going to the theatre).\n",
    "\n",
    "Everything about indentation works in the same manner inside **the *else* branch**:"
   ]
  },
  {
   "cell_type": "code",
   "execution_count": null,
   "id": "9325ccc2",
   "metadata": {},
   "outputs": [],
   "source": [
    "if the _weather_is_good:\n",
    "    go_for_a_walk()\n",
    "    have_fun()\n",
    "else:\n",
    "    go_to_a_theater()\n",
    "    \n",
    "    enjoy_the_movie()\n",
    "have_lunch()"
   ]
  },
  {
   "cell_type": "markdown",
   "id": "4f52576d",
   "metadata": {},
   "source": [
    "# Nested *if-else* statements.\n",
    "\n",
    "Consider the case wher the **instructio placed after the *if* is another *if* **.\n",
    "\n",
    "Example:\n",
    " - If the weather is fine, we'll go for a walk. If we find a nice restaurant, we'll have lunch there. Otherwise, we'll eat a sandwich. If the weather is poor, we'll go to the theater. If there are no tickets, we'll go shopping in the nearest mall.\n",
    " \n",
    " Let's put it in a code:"
   ]
  },
  {
   "cell_type": "code",
   "execution_count": null,
   "id": "152c2e30",
   "metadata": {},
   "outputs": [],
   "source": [
    "if the_weather_is_good:\n",
    "    if find_nice_restaurant:\n",
    "        have_lunch()\n",
    "    else:\n",
    "        eat_a_sandwich()\n",
    "else:\n",
    "    if tickets_available:\n",
    "        go_to_the_theater()\n",
    "    else:\n",
    "        go_shopping()"
   ]
  },
  {
   "cell_type": "markdown",
   "id": "9ef03efd",
   "metadata": {},
   "source": [
    "There are two important points:\n",
    "\n",
    "- this use of the *if* statements is known as the **nesting**; every *else* refers to the *if* which lies **at the same indentation level**; we need to know this to determine how the *ifs* and *elses* pair up;\n",
    "\n",
    "- the **indentation improves readability** and makes the code easier to understand and trace."
   ]
  },
  {
   "cell_type": "markdown",
   "id": "7b89fe85",
   "metadata": {},
   "source": [
    "# The *elif* statement.\n",
    "\n",
    " The second special case introduces another new Python keyword: **elif**\n",
    " \n",
    " *elif* is used to **check more than just one condition**, and **stops** when the first statement which is true is found.\n",
    " \n",
    " Example:\n",
    " \n",
    " This resembles the nesting.\n",
    " \n",
    " - If the weather is fine, we'll go for a walk, otherwise if we get tickets, we'll go to the theater, otherwise if there are free tables at the restaurant, we'll go for lunch; if all else fails, we'll return home and play chess.\n",
    " \n",
    " Notice how many times *otherwise* has been used, this is the stage where *elif* keyword plays its role."
   ]
  },
  {
   "cell_type": "code",
   "execution_count": null,
   "id": "a1627112",
   "metadata": {},
   "outputs": [],
   "source": [
    "if the_weather_is_good:\n",
    "    go_for_a_walk()\n",
    "elif tickets_available:\n",
    "    go_to_the_theater()\n",
    "elif table_available:\n",
    "    go_for_lunch()\n",
    "else:\n",
    "    play_chess_at_home()"
   ]
  },
  {
   "cell_type": "markdown",
   "id": "978857b3",
   "metadata": {},
   "source": [
    "The way to assemble *if-elif-else* statements is sometimes called a **cascade**.\n",
    "\n",
    "Additional attention has to be paid in this case:\n",
    "\n",
    "- you **must not use** *else* **without preceding** *if*;\n",
    "\n",
    "- *else* is always the **last branch of the cascade**, regardless of whether *elif* is used or not;\n",
    "\n",
    "- *else* is an **optional** part of the cascade, and may be omitted;\n",
    "\n",
    "- if ther is an else branch in cascade, only one of all the branches is executed.\n",
    "\n",
    "**Examples:**\n",
    "\n",
    "Find the largest of several numbers and print it out.\n"
   ]
  },
  {
   "cell_type": "code",
   "execution_count": null,
   "id": "adcec0d0",
   "metadata": {},
   "outputs": [],
   "source": [
    "#Example 1:\n",
    "\n",
    "#Read two numbers.\n",
    "\n",
    "number_1 = int(input(\"Enter the first number: \"))\n",
    "number_2 = int(input(\"Enter the second number: \"))\n",
    "\n",
    "#Choose the larger number.\n",
    "\n",
    "if number_1 > number_2:\n",
    "    larger_number = munber_1\n",
    "else:\n",
    "    larger_number = number_2\n",
    "    \n",
    "#Print the results.\n",
    "\n",
    "print(\"The larger number is:\", larger_number)"
   ]
  },
  {
   "cell_type": "markdown",
   "id": "769abe3f",
   "metadata": {},
   "source": [
    "The above snippet is clear - reads two integer values, compares them, and finds which is the larger."
   ]
  },
  {
   "cell_type": "code",
   "execution_count": null,
   "id": "4166ef9d",
   "metadata": {},
   "outputs": [],
   "source": [
    "#Example 2:\n",
    "\n",
    "#Read two numbers.\n",
    "\n",
    "number_1 = int(input(\"Enter the first number: \"))\n",
    "number_2 = int(input(\"Enter the second number: \"))\n",
    "\n",
    "#Choose the larger number.\n",
    "\n",
    "if number_1 > number_2: larger_number = number_1\n",
    "else: larger_number = number_2\n",
    "    \n",
    "#Print the results.\n",
    "\n",
    "print(\"The largest number is:\", larger_number)\n"
   ]
  },
  {
   "cell_type": "markdown",
   "id": "028c47ca",
   "metadata": {},
   "source": [
    "**NOTE:**\n",
    "\n",
    "If any of the *if-elif-else* branches contains just one instruction, we may code it in a more comprehensive form (no need to make an indented line after the keyword, we just continue the line after the colon)."
   ]
  },
  {
   "cell_type": "code",
   "execution_count": null,
   "id": "ff42cb4e",
   "metadata": {},
   "outputs": [],
   "source": [
    "#Example 3:\n",
    "\n",
    "#Read the three numbers.\n",
    "\n",
    "number_1 = int(input(\"Enter the first number: \"))\n",
    "number_2 = int(input(\"Entre the second number: \"))\n",
    "number_3 = int(input(\"Enter the third number: \"))\n",
    "\n",
    "#We temporarily assume that the first number\n",
    "#is the largest one.\n",
    "#We will verify this soon.\n",
    "\n",
    "largest_number = number_1\n",
    "\n",
    "#We check if the second number is larger than current largest_number\n",
    "#and update largest_number if needed.\n",
    "\n",
    "if number_2 > largest_number:\n",
    "    largest_number = number_2\n",
    "    \n",
    "#  We check if the third number is larger than current largest_number\n",
    "# and update largest_number if needed.\n",
    "\n",
    "if number_3 > largest_number:\n",
    "    largest_number = number_3\n",
    "    \n",
    "#Print the results.\n",
    "\n",
    "print(\"The largest number is:\", largest_number)"
   ]
  },
  {
   "cell_type": "markdown",
   "id": "25d333e6",
   "metadata": {},
   "source": [
    "The method is significantly simpler than trying to find the largest number all at once, by comparing all possible pairs of numbers (i.e, first with second, second with third, third with first)."
   ]
  },
  {
   "cell_type": "markdown",
   "id": "4a0e3d54",
   "metadata": {},
   "source": [
    "# Pseudocode and introduction to loops.\n",
    "\n",
    "We are now able to write a program that finds the largest of four, five, six, or even ten numbers.\n",
    "\n",
    "What happens if we write a program that finds the largest of two hundred numbers?\n",
    "\n",
    "\n",
    "Pseudocode is a way of representing **algorithms** in a language-agnostic manner, using natural language to describe the steps of the algorithm without being bound to the specific syntax of a programming language. \n",
    "\n",
    "However, pseudocode is often written in a way that closely resembles the syntax of the programming language that will be used to implement the algorithm.\n",
    "\n",
    "Here's an example of pseudocode for a simple algorithm to find the maximum element in a list:"
   ]
  },
  {
   "cell_type": "code",
   "execution_count": null,
   "id": "984b8bc6",
   "metadata": {},
   "outputs": [],
   "source": [
    "function find_max(list):\n",
    "    if list is empty:\n",
    "        return \"List is empty\"\n",
    "    \n",
    "    max_value = first element of list\n",
    "    for each element in list:\n",
    "        if element > max_value:\n",
    "            max_value = element\n",
    "    \n",
    "    return max_value\n"
   ]
  },
  {
   "cell_type": "markdown",
   "id": "d3e3e1ed",
   "metadata": {},
   "source": [
    "This pseudocode describes a function called **find_max** that takes a list as input and returns the maximum element in the list. It first checks if the list is empty and returns a message if it is. \n",
    "\n",
    "Otherwise, it initializes a variable **max_value** with the first element of the list, then iterates through the list, updating **max_value** if it finds a larger element. Finally, it returns **max_value.**\n",
    "\n",
    "When implementing this algorithm in Python, you would translate the pseudocode into valid Python code, taking into account the specific syntax and conventions of the language. \n",
    "\n",
    "Here's how you might implement the **find_max** function in Python:"
   ]
  },
  {
   "cell_type": "code",
   "execution_count": null,
   "id": "da617b6d",
   "metadata": {},
   "outputs": [],
   "source": [
    "def find_max(lst):\n",
    "    if not lst:\n",
    "        return \"List is empty\"\n",
    "    \n",
    "    max_value = lst[0]\n",
    "    for element in lst:\n",
    "        if element > max_value:\n",
    "            max_value = element\n",
    "    \n",
    "    return max_value\n"
   ]
  },
  {
   "cell_type": "markdown",
   "id": "f9e05928",
   "metadata": {},
   "source": [
    "This Python code closely resembles the pseudocode, but with the necessary syntax changes to make it valid Python code."
   ]
  },
  {
   "cell_type": "markdown",
   "id": "b530e76f",
   "metadata": {},
   "source": [
    "# Assignment 1\n",
    "\n",
    "Once upon a time there was a land - a land of milk and honey, inhabited by happy and prosperous people. The people paid taxes, of course - their happiness had limits. The most important tax, called the *Personal Income Tax (PIT* for short) had to be paid once a year, and was evaluated using the following rule:\n",
    "\n",
    "- if the citizen's income was not higher than 85,528 thalers, the tax was equal to 18% of the income minus 556 thalers and 2 cents (this was the so-called tax relief)\n",
    "\n",
    "- if the income was higher than this amount, the tax was equal to 14,839 thalers and 2 cents, plus 32% of the surplus over 85,528 thalers.\n",
    "\n",
    "Your task is to write a **tax calculator.**\n",
    "\n",
    "- It should accept one floating-point value: the income.\n",
    "\n",
    "- Next, it should print the calculated tax, rounded to full thalers. There's a function named ***round()*** which will do the rounding for you - you'll find it in the skeleton code in the editor.\n",
    "\n",
    "Note: this happy country never returns money to its citizens. If the calculated tax is less than zero, it only means no tax at all (the tax is equal to zero). Take this into consideration during your calculations."
   ]
  },
  {
   "cell_type": "code",
   "execution_count": null,
   "id": "84c53612",
   "metadata": {},
   "outputs": [],
   "source": [
    "#Assignment 1\n",
    "\n",
    "income = float(input(\"Enter the annual income: \"))\n",
    "\n",
    "if income < 85528.00:\n",
    "    tax = 0.18 * income - 556.02   # Calculate tax as 18% of income minus a constant deduction.\n",
    "    \n",
    "    if tax <= 0:\n",
    "        tax = 0.0\n",
    "        \n",
    "else:\n",
    "    income > 85528.00:\n",
    "    tax = 14839.02 + (0.32 * (income - 85528.00))\n",
    "    \n",
    "tax = round(tax, 0)    # Round the tax amount to the nearest integer.\n",
    "print(\"The tax is:\", tax, \"thalers\")"
   ]
  },
  {
   "cell_type": "markdown",
   "id": "c70ca571",
   "metadata": {},
   "source": [
    "# Assignment 2\n",
    "\n",
    "As you surely know, due to some astronomical reasons, years may be leap or common. The former are 366 days long, while the latter are 365 days long.\n",
    "\n",
    "Since the introduction of the Gregorian calendar (in 1582), the following rule is used to determine the kind of year:\n",
    "\n",
    "- if the year number isn't divisible by four, it's a *common year*;\n",
    "\n",
    "- otherwise, if the year number isn't divisible by 100, it's a *leap year*;\n",
    "\n",
    "- otherwise, if the year number isn't divisible by 400, it's a *common year*;\n",
    "\n",
    "- otherwise, it's a *leap year*.\n",
    "\n",
    "Look at the code in the editor - it only reads a year number, and needs to be completed with the instructions implementing the test we've just described.\n",
    "\n",
    "The code should output one of two possible messages, which are Leap year or Common year, depending on the value entered.\n",
    "\n",
    "It would be good to verify if the entered year falls into the Gregorian era, and output a warning otherwise: *Not within the Gregorian calendar period. Tip: use the **!=** and **%** operators*.\n"
   ]
  },
  {
   "cell_type": "code",
   "execution_count": null,
   "id": "b8b697ac",
   "metadata": {},
   "outputs": [],
   "source": [
    "year = int(input(\"Enter a year: \"))\n",
    "gregorian_calendar =1582\n",
    "\n",
    "if year < gregorian_calendar:\n",
    "    print(\"Not within the Gregorian calendar period.\")\n",
    "    \n",
    "elif year % 4 == 0 and year % 100 != 0 or year % 400 == 0:\n",
    "    print(\"Leap Year!\")\n",
    "    \n",
    "else:\n",
    "    year % 4 != 0 and year % 100 == 0 or year % 400 != 0\n",
    "    print(\"Common year!\")"
   ]
  },
  {
   "cell_type": "markdown",
   "id": "8c3ef34b",
   "metadata": {},
   "source": [
    "# Summary\n",
    "\n",
    "1. The **comparison** operators are used to compare values.\n",
    "\n",
    "The table below illustrates how the comparison operators work."
   ]
  },
  {
   "cell_type": "markdown",
   "id": "f52c952e",
   "metadata": {},
   "source": [
    "|  **Operator**   | **Description**                                               | \n",
    "|:--------------- |   :--------------------------------------------------         | \n",
    "|   ==            | returns *True* if operands' are equal, and *False* otherwise  |  \n",
    "|||\n",
    "|   !=            | returns True if operands' values are not equal, and False otherwise| \n",
    "|                 |                                                      |\n",
    "|   >             | *True* if the left operands' value is greater than the right operand's value, and *False* otherwise  |\n",
    "|                 |                         |\n",
    "|    <            | *True* if the left operand's value is less than the right operand's value, and *False* otherwise |\n",
    "|                 | \n",
    "|    >=             | *True* if the left operand's value is greater than or equal to the right operand's value, and *False* otherwise\n",
    "|                 |\n",
    "| <= | *True* if the left operand's value is less than or equal to the right operand's value, and *False* otherwise\n",
    "||\n",
    "\n",
    "\n",
    "\n"
   ]
  },
  {
   "cell_type": "markdown",
   "id": "5642164e",
   "metadata": {},
   "source": [
    "2. When you want to execute some code only if a certain condition is met, you can use a **conditional statement**:\n",
    "\n",
    "- a single *if* statement,"
   ]
  },
  {
   "cell_type": "code",
   "execution_count": null,
   "id": "349d6323",
   "metadata": {},
   "outputs": [],
   "source": [
    "x = 10\n",
    "\n",
    "if x == 10: #condition\n",
    "    print(\"x is equal to 10\")  #Executed if the condition is True."
   ]
  },
  {
   "cell_type": "markdown",
   "id": "d77a15e7",
   "metadata": {},
   "source": [
    "- a series of *if* statements,"
   ]
  },
  {
   "cell_type": "code",
   "execution_count": null,
   "id": "b4ddc400",
   "metadata": {},
   "outputs": [],
   "source": [
    "x = 10\n",
    "\n",
    "if x > 5: # condition one\n",
    "    print(\"x is greater than 5\")  # Executed if condition is True.\n",
    "\n",
    "if x < 10:  # condition two\n",
    "    print(\"X is less than 10\")  # Executed if condition is True.\n",
    "    \n",
    "if x == 10: # Condition three\n",
    "    print(\"x is equal to 10\")  # Executed if condition is True."
   ]
  },
  {
   "cell_type": "markdown",
   "id": "9da31df7",
   "metadata": {},
   "source": [
    "Each *if* statement is tested separately.\n",
    "\n",
    "\n",
    "\n",
    "- an *if-else* statement,"
   ]
  },
  {
   "cell_type": "code",
   "execution_count": null,
   "id": "34b16852",
   "metadata": {},
   "outputs": [],
   "source": [
    "x = 10\n",
    "\n",
    "if x < 10:  #Condition\n",
    "    print(\"x is less than 10\")  #Executed if condition is True.\n",
    "    \n",
    "else:\n",
    "    print(\"x is greater than or equal to 10\")  #Executed if condition is False"
   ]
  },
  {
   "cell_type": "markdown",
   "id": "ab1f6206",
   "metadata": {},
   "source": [
    "- a series of *if* statements followed by an *else*,"
   ]
  },
  {
   "cell_type": "code",
   "execution_count": null,
   "id": "68d0a28f",
   "metadata": {},
   "outputs": [],
   "source": [
    "x = 10\n",
    "\n",
    "if x > 5:  # True\n",
    "    print(\"x > 5\")\n",
    "\n",
    "if x > 8:  # True\n",
    "    print(\"x > 8\")\n",
    "\n",
    "if x > 10:  # False\n",
    "    print(\"x > 10\")\n",
    "\n",
    "else:\n",
    "    print(\"else will be executed\")\n",
    "\n"
   ]
  },
  {
   "cell_type": "markdown",
   "id": "45329fb5",
   "metadata": {},
   "source": [
    "Each *if* is tested separately. The body of *else* is executed if the last *if* is *False*.\n",
    "\n",
    "- The *if-elif-else* statement,"
   ]
  },
  {
   "cell_type": "code",
   "execution_count": null,
   "id": "16996913",
   "metadata": {},
   "outputs": [],
   "source": [
    "x = 10\n",
    "\n",
    "if x == 10:  # True\n",
    "    print(\"x == 10\")\n",
    "\n",
    "if x > 15:  # False\n",
    "    print(\"x > 15\")\n",
    "\n",
    "elif x > 10:  # False\n",
    "    print(\"x > 10\")\n",
    "\n",
    "elif x > 5:  # True\n",
    "    print(\"x > 5\")\n",
    "\n",
    "else:\n",
    "    print(\"else will not be executed\")\n",
    "\n"
   ]
  },
  {
   "cell_type": "markdown",
   "id": "9cc16ca2",
   "metadata": {},
   "source": [
    "If the conditon for *if* is *False*, the program checks the conditions of the subsequent *elif* blocks - the first *elif* block that is *True* is executed. \n",
    "\n",
    "If all the conditions are *False*, the *else* block will be executed.\n",
    "\n",
    "- Nested conditional statement,"
   ]
  },
  {
   "cell_type": "code",
   "execution_count": null,
   "id": "6649c46c",
   "metadata": {},
   "outputs": [],
   "source": [
    "x = 10\n",
    "\n",
    "if x > 5:  # True\n",
    "    \n",
    "    if x == 6:  # False\n",
    "        \n",
    "        print(\"nested: x == 6\")\n",
    "        \n",
    "    elif x == 10:  # True\n",
    "        \n",
    "        print(\"nested: x == 10\")\n",
    "        \n",
    "    else:\n",
    "        \n",
    "        print(\"nested: else\")\n",
    "        \n",
    "else:\n",
    "    \n",
    "    print(\"else\")\n",
    "\n"
   ]
  },
  {
   "cell_type": "markdown",
   "id": "3257fa70",
   "metadata": {},
   "source": [
    "# Looping your code with *while*\n",
    "\n",
    "Do we agree with the statement presented below?"
   ]
  },
  {
   "cell_type": "code",
   "execution_count": null,
   "id": "f6c8512f",
   "metadata": {},
   "outputs": [],
   "source": [
    "while there is something to do:\n",
    "    do it"
   ]
  },
  {
   "cell_type": "markdown",
   "id": "9cf3407b",
   "metadata": {},
   "source": [
    "This record also declares that if there is nothing to do, nothing at all will happen.\n",
    "\n",
    "In general, in Python, a loop can be represented as follows:"
   ]
  },
  {
   "cell_type": "code",
   "execution_count": null,
   "id": "896449fa",
   "metadata": {},
   "outputs": [],
   "source": [
    "while conditional_expression:\n",
    "    instruction"
   ]
  },
  {
   "cell_type": "markdown",
   "id": "9b8531b3",
   "metadata": {},
   "source": [
    "There is similarities to the *if* instruction.\n",
    "\n",
    "The syntactic difference is only one: we use the word *while* instead of *if*.\n",
    "\n",
    "The semantic difference is more important:\n",
    "\n",
    "- when the condition is met, *if* performs it statement **only once**;\n",
    "- *while* **repeats the execution as long as the condition evaluates to** *True*.\n",
    "\n",
    "_**NOTE**_: All the **indentation** rules are applicable here too."
   ]
  },
  {
   "cell_type": "code",
   "execution_count": null,
   "id": "e8d49a69",
   "metadata": {},
   "outputs": [],
   "source": [
    "while conditional_expression:\n",
    "    instruction_one\n",
    "    instruction_two\n",
    "    instruction_three\n",
    "    :\n",
    "    :\n",
    "    instruction_n    "
   ]
  },
  {
   "cell_type": "markdown",
   "id": "8dfd1bf6",
   "metadata": {},
   "source": [
    "It is important to remember:\n",
    "\n",
    "- if you want to execute **more than one statement inside one** *while*, you must (as with if) **indent** all instructions in the same way;\n",
    "\n",
    "- an instruction or set of instructions executed inside the *while* loop is called the **loop's body**;\n",
    "\n",
    "- if the condition is *False* (equal to zero) as early as when it is tested for the first time, the body is not executed even once (note the analogy of not having to do a anything if there is nothing to do);\n",
    "\n",
    "- the body should be able to change the condition's value, because if the condition is *True* at the beginning, the body might run continuously to infinty - (notice that doing a thing usually decreases the number of things to do)."
   ]
  },
  {
   "cell_type": "markdown",
   "id": "63213b91",
   "metadata": {},
   "source": [
    "# An infinite loop\n",
    "\n",
    "An infite loop, also called an **endless loop**, is a sequence of instructions in aprogram which repeat indefinetly (loop endlessly)\n",
    "\n",
    "Example:"
   ]
  },
  {
   "cell_type": "code",
   "execution_count": null,
   "id": "392420a9",
   "metadata": {},
   "outputs": [],
   "source": [
    "while True:\n",
    "    print(\"I am stuck in a loop.\")"
   ]
  },
  {
   "cell_type": "markdown",
   "id": "046dc754",
   "metadata": {},
   "source": [
    "This loop will infinitely print \"*I am stuck in a loop.*\" on the screen.\n",
    "\n",
    "\n",
    "Example:"
   ]
  },
  {
   "cell_type": "code",
   "execution_count": null,
   "id": "5ccfa4ef",
   "metadata": {},
   "outputs": [],
   "source": [
    "# Store the current largest number here.\n",
    "largest_number = -999999999\n",
    "\n",
    "# Input the first value.\n",
    "number = int(input(\"Enter a number or type -1 to stop: \"))\n",
    "\n",
    "# If the number is not equal to -1, continue.\n",
    "while number != -1:\n",
    "    # Is number larger than largest_number?\n",
    "    if number > largest_number:\n",
    "        # Yes, update largest_number.\n",
    "        largest_number = number\n",
    "    # Input the next number.\n",
    "    number = int(input(\"Enter a number or type -1 to stop: \"))\n",
    "\n",
    "# Print the largest number.\n",
    "print(\"The largest number is:\", largest_number)\n",
    "\n"
   ]
  },
  {
   "cell_type": "markdown",
   "id": "7d17051f",
   "metadata": {},
   "source": [
    "# The `while` loop: more examples"
   ]
  },
  {
   "cell_type": "code",
   "execution_count": null,
   "id": "45ddd1b1",
   "metadata": {},
   "outputs": [],
   "source": [
    "# A program that reads a sequence of numbers\n",
    "# and counts how many numbers are even and how many are odd.\n",
    "# The program terminates when zero is entered.\n",
    "\n",
    "odd_numbers = 0\n",
    "even_numbers = 0\n",
    "\n",
    "# Read the first number.\n",
    "number = int(input(\"Enter a number or type 0 to stop: \"))\n",
    "\n",
    "# 0 terminates execution.\n",
    "while number != 0:\n",
    "    \n",
    "    # Check if the number is odd.\n",
    "    if number % 2 == 1:\n",
    "        \n",
    "        # Increase the odd_numbers counter.\n",
    "        odd_numbers += 1\n",
    "        \n",
    "    else:\n",
    "        # Increase the even_numbers counter.\n",
    "        even_numbers += 1\n",
    "        \n",
    "    # Read the next number.\n",
    "    number = int(input(\"Enter a number or type 0 to stop: \"))\n",
    "\n",
    "# Print results.\n",
    "print(\"Odd numbers count:\", odd_numbers)\n",
    "print(\"Even numbers count:\", even_numbers)\n",
    "\n"
   ]
  },
  {
   "cell_type": "markdown",
   "id": "72f6e75c",
   "metadata": {},
   "source": [
    "The provided code counts the number of odd and even numbers entered by the user until the user enters 0 to stop. Here's a breakdown of how it works:\n",
    "\n",
    "1. Initialize two variables, odd_numbers and even_numbers, to count the occurrences of odd and even numbers respectively.\n",
    "\n",
    "2. Prompt the user to enter a number or type 0 to stop.\n",
    "\n",
    "3. Enter a while loop that continues iterating as long as the entered number is not 0. \n",
    "\n",
    "4. Inside the loop:\n",
    "\n",
    " -  If the entered number is odd (remainder when divided by 2 is 1), increment the odd_numbers count.\n",
    "  - Otherwise, increment the even_numbers count.\n",
    "  - Prompt the user again to enter a number or type 0 to stop.\n",
    "5. When the loop exits (user enters 0), print the count of odd and even numbers.\n",
    "6. End of the program."
   ]
  },
  {
   "cell_type": "markdown",
   "id": "df9393a0",
   "metadata": {},
   "source": [
    "# Using a *counter* variable to exit a loop"
   ]
  },
  {
   "cell_type": "code",
   "execution_count": null,
   "id": "c1b4e603",
   "metadata": {},
   "outputs": [],
   "source": [
    "counter = 5\n",
    "\n",
    "while counter != 0:\n",
    "    \n",
    "    print(\"Inside the loop.\", counter)\n",
    "    \n",
    "    counter -= 1\n",
    "    \n",
    "print(\"Outside the loop.\", counter)\n",
    "\n"
   ]
  },
  {
   "cell_type": "markdown",
   "id": "d68560fb",
   "metadata": {},
   "source": [
    "The code is intended to print the string *\"inside the loop\"* and the value stored in the *counter* variable during a given loop exactly five tomes.\n",
    "\n",
    "Once the condition has not been met (the *counter* the counter variable has reached *0*), the loop is exited, and the message *\"Outside the loop\"* as well as the value stored in *counter* is printed.\n",
    "\n",
    "But there's one thing that can be written more compactly - the condition of the *while* loop.\n",
    "\n",
    "Can we see the difference?"
   ]
  },
  {
   "cell_type": "code",
   "execution_count": null,
   "id": "33ba8410",
   "metadata": {},
   "outputs": [],
   "source": [
    "counter = 5\n",
    "\n",
    "while counter:\n",
    "    \n",
    "    print(\"Inside the loop.\", counter)\n",
    "    \n",
    "    counter -= 1\n",
    "    \n",
    "print(\"Outside the loop.\", counter)\n",
    "\n"
   ]
  },
  {
   "cell_type": "markdown",
   "id": "bbe62583",
   "metadata": {},
   "source": [
    "# Assignment 3\n",
    "\n",
    "A junior magician has picked a secret number. He has hidden it in a variable named secret_number. He wants everyone who run his program to play the Guess the ***secret number*** game, and guess what number he has picked for them. \n",
    "\n",
    "Those who don't guess the number will be stuck in an endless loop forever! Unfortunately, he does not know how to complete the code.\n",
    "\n",
    "Your task is to help the magician complete the code in the editor in such a way so that the code:\n",
    "\n",
    "- will ask the user to enter an integer number;\n",
    "\n",
    "- will use a ***while*** loop;\n",
    "\n",
    "- will check whether the number entered by the user is the same as the number picked by the magician. If the number chosen by the user is different than the magician's secret number, the user should see the message ***\"Ha ha! You're stuck in my loop!\"*** and be prompted to enter a number again. If the number entered by the user matches the number picked by the magician, the number should be printed to the screen, and the magician should say the following words: ***\"Well done, muggle! You are free now.\"***\n",
    "\n",
    "The magician is counting on you! Don't disappoint him."
   ]
  },
  {
   "cell_type": "code",
   "execution_count": null,
   "id": "80e7495a",
   "metadata": {},
   "outputs": [],
   "source": [
    "secret_number = 777\n",
    "\n",
    "print(\n",
    "\"\"\"\n",
    "+================================+\n",
    "| Welcome to my game, muggle!    |\n",
    "| Enter an integer number        |\n",
    "| and guess what number I've     |\n",
    "| picked for you.                |\n",
    "| So, what is the secret number? |\n",
    "+================================+\n",
    "\"\"\")\n",
    "\n",
    "number = int(input(\"Enter the secret number: \"))\n",
    "\n",
    "while number != secret_number:\n",
    "    if number == secret_number:\n",
    "        print(number)\n",
    "        print(\"Well done, muggle! You are free now.\")\n",
    "    \n",
    "    else:\n",
    "        number != secret_number\n",
    "        print(\"Ha ha! You are stuck in my loop!\")\n",
    "    number = int(input(\"Enter the secret number: \"))"
   ]
  },
  {
   "cell_type": "markdown",
   "id": "b21f2314",
   "metadata": {},
   "source": [
    "There are some issues in the code above that need to be addressed. \n",
    "\n",
    "1. Removed redundant condition ***number == secret_number*** inside the while loop as it's already checked in the loop condition.\n",
    "\n",
    "2. Simplified the logic inside the while loop. If the user's guess is not equal to the secret number, print a message and prompt the user to enter a guess again. The loop will continue until the user guesses the correct number.\n",
    "\n",
    "3. Moved the ***\"Well done\"*** message outside the loop, so it's only displayed when the user guesses the correct number and breaks out of the loop.\n",
    "\n",
    "4. Changed the input prompt to make it clear that the user needs to guess the secret number.\n",
    "\n",
    "5. Removed unnecessary line ***number != secret_number*** as it has no effect on the program flow."
   ]
  },
  {
   "cell_type": "code",
   "execution_count": null,
   "id": "e30b0da4",
   "metadata": {},
   "outputs": [],
   "source": [
    "secret_number = 777\n",
    "\n",
    "print(\n",
    "\"\"\"\n",
    "+================================+\n",
    "| Welcome to my game, muggle!    |\n",
    "| Enter an integer number        |\n",
    "| and guess what number I've     |\n",
    "| picked for you.                |\n",
    "| So, what is the secret number? |\n",
    "+================================+\n",
    "\"\"\")\n",
    "\n",
    "number = int(input(\"Enter your guess: \"))    \n",
    "    \n",
    "while number != secret_number:\n",
    "    \n",
    "    print(\"Ha ha! You are stuck in my loop!\")\n",
    "    \n",
    "    number = int(input(\"Enter your guess: \"))\n",
    "    \n",
    "print(number)\n",
    "print(\"Well done, muggle! You are free now.\")"
   ]
  },
  {
   "cell_type": "markdown",
   "id": "b61aaffc",
   "metadata": {},
   "source": [
    "# Looping your code with *for*\n",
    "\n",
    "Another kind of loop available in Python comes from the observation that sometimes it is more important to **count the \"turns\" of the loop** than to check the conditions.\n",
    "\n",
    "Imagine that a loop's body needs to be executed exactly one hundred times.\n",
    "\n",
    "If you would like to use the *while* loop to do it, it may look like this:"
   ]
  },
  {
   "cell_type": "code",
   "execution_count": null,
   "id": "dbdeecdc",
   "metadata": {},
   "outputs": [],
   "source": [
    "i = 0\n",
    "while i < 100:\n",
    "    #do_something()\n",
    "    i += 1"
   ]
  },
  {
   "cell_type": "markdown",
   "id": "1d21defb",
   "metadata": {},
   "source": [
    "There is a special loop for this kind of tasks, and it is named ***for***.\n",
    "\n",
    "The ***for*** loop is designed to do more complicated tasks - **it can \"browse\" large collection of data item by item**."
   ]
  },
  {
   "cell_type": "code",
   "execution_count": null,
   "id": "96b345cc",
   "metadata": {},
   "outputs": [],
   "source": [
    "for i in range(100):\n",
    "    #do_something()\n",
    "    pass"
   ]
  },
  {
   "cell_type": "markdown",
   "id": "38d0105b",
   "metadata": {},
   "source": [
    "There are some new elements:\n",
    "\n",
    "- the *for* keyword opens up the ***for*** loop; **note - there is no condition after it**; we don't have to think about conditions, as they are checked internally, without any intervention;\n",
    "\n",
    "- any variable after the *for* keyword is the **control variable** of the loop; it counts the loop's turns, and does it automatically;\n",
    "\n",
    "- the *in* keyword introduces a syntax element describing the range of possible values being assigned to the control variable;\n",
    "\n",
    "- the ***range()*** function (this is avery special function) is responsible for generating all the desired values of the control variable; in our example, the function will create (we can even say that it will **feed** the loop with) subsequent values from the following set: 0, 1, 2 .. 97, 98, 99; note: in this case, the ***range()*** function starts its job from 0 and finishes it one step (one integer number) before the value of its argument;\n",
    "\n",
    "- note the *pass* keyword inside the loop body - it does nothing at all; it is an **empty instruction** - we put it here because the ***for*** loop's syntax demands at least one instructioninside the body (by the way - ***if, elif, else*** and ***while*** express the same thing)"
   ]
  },
  {
   "cell_type": "code",
   "execution_count": null,
   "id": "34b496c0",
   "metadata": {},
   "outputs": [],
   "source": [
    "for i in range(10):\n",
    "    print(\"The value of i is currently\", i)\n"
   ]
  },
  {
   "cell_type": "markdown",
   "id": "bbdf2f62",
   "metadata": {},
   "source": [
    "**Note:**\n",
    "\n",
    "- the loop has been executed 10 times (it's the ***range()*** function's argument)\n",
    "- the last control variable's value is **9** (not **10**, as **it starts from** *0*, not from *1*)\n",
    "\n",
    "\n",
    "\n",
    "The ***range()*** function invocation may be equipped with two arguments, not just one:"
   ]
  },
  {
   "cell_type": "code",
   "execution_count": 5,
   "id": "45ef5896",
   "metadata": {},
   "outputs": [
    {
     "name": "stdout",
     "output_type": "stream",
     "text": [
      "The value of i is currently 2\n",
      "The value of i is currently 3\n",
      "The value of i is currently 4\n",
      "The value of i is currently 5\n",
      "The value of i is currently 6\n",
      "The value of i is currently 7\n"
     ]
    }
   ],
   "source": [
    "for i in range(2, 8):\n",
    "    print(\"The value of i is currently\", i)"
   ]
  },
  {
   "cell_type": "markdown",
   "id": "756eaead",
   "metadata": {},
   "source": [
    "In this case, the first argument determines the initial (first) value of the control variable.\n",
    "\n",
    "The last argument shows the first value the control variable will not be assigned.\n",
    "\n",
    "**NOTE:**\n",
    "\n",
    "The ***range()*** function **accepts only integers as its arguments**, and generate sequences of integers."
   ]
  },
  {
   "cell_type": "markdown",
   "id": "2bf27e19",
   "metadata": {},
   "source": [
    "# More about the *for* loop and the *range()* function with three arguments\n",
    "\n",
    "The ***range()*** function may also accept **three arguments**.\n",
    "\n",
    "The third argument is an **increment** - it is a value added to control the variable at every loop turn."
   ]
  },
  {
   "cell_type": "code",
   "execution_count": 6,
   "id": "b67f8007",
   "metadata": {},
   "outputs": [
    {
     "name": "stdout",
     "output_type": "stream",
     "text": [
      "The value of i is currently 2\n",
      "The value of i is currently 5\n"
     ]
    }
   ],
   "source": [
    "for i in range(2, 8, 3):\n",
    "    print(\"The value of i is currently\", i)"
   ]
  },
  {
   "cell_type": "markdown",
   "id": "addfc787",
   "metadata": {},
   "source": [
    " The first argument passed to the ***range()*** function tells us what the **starting** number of the sequence is (hence 2 is the output). \n",
    "\n",
    "The second argument tells the function where to **stop** the sequence (the functions generate nummbers upto to the number indicated by the second argument, but does not include it).\n",
    "\n",
    "Finally, the third argument indicates the **step**, which  actually means the difference between each number in the sequence of numbers generated by the function.\n",
    " \n",
    "\n",
    "**2** (starting number) → **5** (**2** increment by 3 equals **5** - the number is within the range from 2 to 8) → **8** (**5** increment by 3 equals **8** - the number is not within the range from 2 to 8, because the stop parameter is not included in the sequence of numbers generated by the function.)\n",
    "\n",
    "\n",
    "**NOTE:**\n",
    "\n",
    "If the set generated by the ***range()*** function is empty, the loop wont execute its body at all.\n",
    "\n",
    "Example:"
   ]
  },
  {
   "cell_type": "code",
   "execution_count": null,
   "id": "22e09a2d",
   "metadata": {},
   "outputs": [],
   "source": [
    "for i in range(1, 1):\n",
    "    print(\"The value of i is currently\", i)"
   ]
  },
  {
   "cell_type": "markdown",
   "id": "35912b45",
   "metadata": {},
   "source": [
    "**NOTE:**\n",
    "\n",
    "The set generated by the ***range()*** has to be sorted in **ascending order**.\n",
    "\n",
    "There is no way to force the ***range()*** to create a set in a different form when the ***range()*** function accepts exactly two arguments.\n",
    "\n",
    "This means that the ***range()***'s second argument must be greater than the first.\n",
    "\n",
    "Thus, ther will be no output here, either:"
   ]
  },
  {
   "cell_type": "code",
   "execution_count": null,
   "id": "b2dac5f9",
   "metadata": {},
   "outputs": [],
   "source": [
    "for i in range(2, 1):\n",
    "    print(\"The value of i is currently\", i)"
   ]
  },
  {
   "cell_type": "markdown",
   "id": "8f3ab8ad",
   "metadata": {},
   "source": [
    "Let's have a look at a short program whose task is to write some of the first powers of two:"
   ]
  },
  {
   "cell_type": "code",
   "execution_count": null,
   "id": "910ca655",
   "metadata": {},
   "outputs": [],
   "source": [
    "power = 1\n",
    "for expo in range(16):\n",
    "    print(\"2 to the power of\", expo, \"is\", power)\n",
    "    power *= 2\n"
   ]
  },
  {
   "cell_type": "markdown",
   "id": "1657c99a",
   "metadata": {},
   "source": [
    "The ***expo*** variable is used as a control variable for the loop, and indicates the current value of the exponent. \n",
    "\n",
    "The exponentiation itself is replaced by multiplying by two. Since 20 is equal to 1, then 2 × 1 is equal to 21, 2 × 21 is equal to 22, and so on. \n",
    "\n",
    "What is the greatest exponent for which our program still prints the result?"
   ]
  },
  {
   "cell_type": "markdown",
   "id": "307b7daa",
   "metadata": {},
   "source": [
    "# Assignment 4"
   ]
  },
  {
   "cell_type": "code",
   "execution_count": 3,
   "id": "0ae5f91d",
   "metadata": {
    "scrolled": true
   },
   "outputs": [
    {
     "name": "stdout",
     "output_type": "stream",
     "text": [
      "Enter a number: 10\n",
      "10\n",
      "9\n",
      "8\n",
      "7\n",
      "6\n",
      "5\n",
      "4\n",
      "3\n",
      "2\n",
      "1\n",
      "0\n"
     ]
    }
   ],
   "source": [
    "num = int(input(\"Enter a number: \"))\n",
    "\n",
    "while num > -1:\n",
    "    print(num)\n",
    "    num -= 1"
   ]
  },
  {
   "cell_type": "markdown",
   "id": "56766628",
   "metadata": {},
   "source": [
    "Do you know what Mississippi is? Well, it's the name of one of the states and rivers in the United States. The Mississippi River is about 2,340 miles long, which makes it the second longest river in the United States (the longest being the Missouri River). It's so long that a single drop of water needs 90 days to travel its entire length!\n",
    "\n",
    "The word *Mississippi* is also used for a slightly different purpose: to *count mississippily*.\n",
    "\n",
    "If you're not familiar with the phrase, we're here to explain to you what it means: it's used to count seconds.\n",
    "\n",
    "The idea behind it is that adding the word *Mississippi* to a number when counting seconds aloud makes them sound closer to clock-time, and therefore \"one Mississippi, two Mississippi, three Mississippi\" will take approximately an actual three seconds of time! It's often used by children playing hide-and-seek to make sure the seeker does an honest count.\n",
    "\n",
    "\n",
    "Your task is very simple here: write a program that uses a `for` loop to \"count mississippily\" to five. Having counted to five, the program should print to the screen the final message ***\"Ready or not, here I come!\"***"
   ]
  },
  {
   "cell_type": "code",
   "execution_count": 1,
   "id": "a2470710",
   "metadata": {},
   "outputs": [
    {
     "name": "stdout",
     "output_type": "stream",
     "text": [
      "1 Mississippi\n",
      "2 Mississippi\n",
      "3 Mississippi\n",
      "4 Mississippi\n",
      "5 Mississippi\n",
      "Ready or not, here I come!\n"
     ]
    }
   ],
   "source": [
    "import time\n",
    "\n",
    "#Write a for loop that counts to five.\n",
    "for count in range(1, 6):\n",
    "    \n",
    "    #Body of the loop - print the loop iteration number and the word \"mississippi\".\n",
    "    print(count, \"Mississippi\")\n",
    "    \n",
    "    #Body of the loop - use: time.sleep(1)\n",
    "    time.sleep(1)\n",
    "    \n",
    "#Write a print function with the final message.\n",
    "print(\"Ready or not, here I come!\")"
   ]
  },
  {
   "cell_type": "markdown",
   "id": "e09a3a86",
   "metadata": {},
   "source": [
    "Explanation:\n",
    "\n",
    "- The `time.sleep(1)` function call is included inside the loop to pause execution for 1 second between each iteration. \n",
    "\n",
    "- The loop iterates from 1 to 5 using `range(1, 6)`, and on each iteration, it prints the loop iteration number along with the word \"Mississippi\".\n",
    "\n",
    "- After the loop, a final message is printed outside the loop.\n",
    "\n",
    "\n",
    "\n",
    "\n",
    "\n"
   ]
  },
  {
   "cell_type": "markdown",
   "id": "fd246a41",
   "metadata": {},
   "source": [
    "# The `break` and `continue` statements.\n",
    "\n",
    "We have treated the body of the loop as an indivisible and inseparable sequence of instructions that are performed completely at every turn of the loop.\n",
    "\n",
    "However, as a developer, we could be faced with the following choices:\n",
    "\n",
    "- it appears that is unneccessary to continue the loop as a whole; you should refrain from further execution of the loop's body and go further;\n",
    "\n",
    "- it appears that you need to start the next turn of the loop without completing the execution of the current turn.\n",
    "\n",
    " Python provides two special instructions for the implementatiion of both these tasks.\n",
    " (For the sake of accuracy, an experienced programmer is able to code any algorithm without these instructions.)\n",
    " \n",
    " These additions are called **syntactic candy**, or syntactic sugar.\n",
    " \n",
    " The two instructions are:\n",
    " \n",
    " - `break` - exits the loop immediately, and uncodittionally ends the loop's operation; the program begins to execute the nearest instruction after the loop's body;\n",
    " \n",
    " - `continue` - behaves as if the program has suddenly reached the end of the body; the next turn is started and the condition expression is tested immediately.\n",
    " \n",
    " Both these words are **keywords**.\n",
    " \n",
    " Example:"
   ]
  },
  {
   "cell_type": "code",
   "execution_count": 1,
   "id": "156a8115",
   "metadata": {},
   "outputs": [
    {
     "name": "stdout",
     "output_type": "stream",
     "text": [
      "The break instruction:\n",
      "Inside the loop. 1\n",
      "Inside the loop. 2\n",
      "Outside the loop.\n",
      "\n",
      "The continue instruction:\n",
      "Inside the loop. 1\n",
      "Inside the loop. 2\n",
      "Inside the loop. 4\n",
      "Inside the loop. 5\n",
      "Outside the loop.\n"
     ]
    }
   ],
   "source": [
    "# break - example\n",
    "\n",
    "print(\"The break instruction:\")\n",
    "for i in range(1, 6):\n",
    "    if i == 3:\n",
    "        break\n",
    "    print(\"Inside the loop.\", i)\n",
    "print(\"Outside the loop.\")\n",
    "\n",
    "\n",
    "# continue - example\n",
    "\n",
    "print(\"\\nThe continue instruction:\")\n",
    "for i in range(1, 6):\n",
    "    if i == 3:\n",
    "        continue\n",
    "    print(\"Inside the loop.\", i)\n",
    "print(\"Outside the loop.\")"
   ]
  },
  {
   "cell_type": "markdown",
   "id": "57590d80",
   "metadata": {},
   "source": [
    "Let's return to our program that rcognizes the largest mong the entered numbers.\n",
    "\n",
    "We will convert it twice, using the `break` and `continue` instructions."
   ]
  },
  {
   "cell_type": "code",
   "execution_count": null,
   "id": "8c6309da",
   "metadata": {},
   "outputs": [],
   "source": [
    "#using the break.\n",
    "\n",
    "largest_number = -99999999\n",
    "counter = 0\n",
    "\n",
    "while True:\n",
    "    number = int(input(\"Enter a number or type -1 to end program: \"))\n",
    "    if number == -1:\n",
    "        break\n",
    "    counter += 1\n",
    "    if number > largest_number:\n",
    "        largest_number = number\n",
    "\n",
    "if counter != 0:\n",
    "    print(\"The largest number is\", largest_number)\n",
    "else:\n",
    "    print(\"You haven't entered any number.\")\n",
    "\n"
   ]
  },
  {
   "cell_type": "code",
   "execution_count": null,
   "id": "0868c202",
   "metadata": {},
   "outputs": [],
   "source": [
    "#now using the continue.\n",
    "\n",
    "largest_number = -99999999\n",
    "counter = 0\n",
    "\n",
    "number = int(input(\"Enter a number or type -1 to end program: \"))\n",
    "\n",
    "while number != -1:\n",
    "    if number == -1:\n",
    "        continue\n",
    "    counter += 1\n",
    "\n",
    "    if number > largest_number:\n",
    "        largest_number = number\n",
    "    number = int(input(\"Enter a number or type -1 to end program: \"))\n",
    "\n",
    "if counter:\n",
    "    print(\"The largest number is\", largest_number)\n",
    "else:\n",
    "    print(\"You haven't entered any number.\")\n",
    "\n"
   ]
  },
  {
   "cell_type": "markdown",
   "id": "a016223f",
   "metadata": {},
   "source": [
    "The user enters the first number before the program enters the while loop. The subsequent number is entered when the program is already in the loop.\n",
    "\n",
    "Example:"
   ]
  },
  {
   "cell_type": "markdown",
   "id": "51f5183d",
   "metadata": {},
   "source": [
    "The`break` statement is used to exit/terminate a loop.\n",
    "\n",
    "Design a program that uses a `while` loop and continuously asks the user to enter a word unless the user enters `\"chupacabra\"` as the secret exit word, in which case the message `\"You've successfully left the loop.\"` should be printed to the screen, and the loop should terminate.\n",
    "\n",
    "Don't print any of the words entered by the user. Use the concept of conditional execution and the `break` statement."
   ]
  },
  {
   "cell_type": "code",
   "execution_count": null,
   "id": "9a574424",
   "metadata": {},
   "outputs": [],
   "source": [
    "#Example one\n",
    "\n",
    "while True:\n",
    "    word = input(\"Enter the secret word: \")\n",
    "    if word == \"Chupacabra\":\n",
    "        print(\"You've successfully left the loop.\")\n",
    "        break"
   ]
  },
  {
   "cell_type": "markdown",
   "id": "a4a695a8",
   "metadata": {},
   "source": [
    "Explanation:\n",
    "\n",
    "- The `while True` loop runs indefinitely, repeatedly prompting the user for input.\n",
    "\n",
    "- Inside the loop, the user is prompted to enter a word.\n",
    "\n",
    "- If the entered word is \"chupacabra\", the program prints a success message and uses the `break` statement to exit the loop.\n",
    " \n",
    "- If the entered word is not \"chupacabra\", the loop continues to prompt the user for input without printing the entered word."
   ]
  },
  {
   "cell_type": "code",
   "execution_count": null,
   "id": "e4b97218",
   "metadata": {},
   "outputs": [],
   "source": [
    "word = input(\"Enter the secret word: \")\n",
    "\n",
    "secret_word = \"Chupacabra\"\n",
    "\n",
    "while word != secret_word:\n",
    "    \n",
    "    word = input(\"Enter the secret word: \")\n",
    "    \n",
    "    if word == secret_word:\n",
    "        print(\"You've successfully left the loop.\")\n",
    "        break"
   ]
  },
  {
   "cell_type": "markdown",
   "id": "6211d54e",
   "metadata": {},
   "source": [
    "The `continue` statement is used to skip the current block and move ahead to the next iteration, without executing the statements inside the loop.\n",
    "\n",
    "It can be used with both the `while` and `for` loops.\n",
    "\n",
    "Your task here is very special: you must design a vowel eater! Write a program that uses:\n",
    "\n",
    "  - a `for` loop;\n",
    "\n",
    "  - the concept of conditional execution `(if-elif-else)`\n",
    "\n",
    "  - the `continue` statement.\n",
    "\n",
    "  - Your program must:\n",
    "\n",
    "- ask the user to enter a word;\n",
    "\n",
    "- use `user_word = user_word.upper()` to convert the word entered by the user to upper case; we'll talk about the so-called string methods and the `upper()` method;\n",
    "\n",
    "- use conditional execution and the `continue` statement to \"eat\" the following vowels **A, E, I, O, U** from the inputted word;\n",
    "\n",
    "- print the uneaten letters to the screen, each one of them on a separate line."
   ]
  },
  {
   "cell_type": "code",
   "execution_count": null,
   "id": "a019b756",
   "metadata": {},
   "outputs": [],
   "source": [
    "user_word = input(\"Enter a word: \")\n",
    "\n",
    "user_word = user-word.upper()\n",
    "\n",
    "for letter in user_word:\n",
    "    if letter in [\"A\", \"E\", \"I\", \"O\", \"U\"]:\n",
    "        continue\n",
    "    print(letter)  "
   ]
  },
  {
   "cell_type": "markdown",
   "id": "1caf385b",
   "metadata": {},
   "source": [
    "Explanation:\n",
    "\n",
    "- The user is prompted to enter a word.\n",
    "\n",
    "- The word entered by the user is converted to upper case using `user_word.upper()`.\n",
    "\n",
    "- A `for` loop iterates through each letter in the uppercased word.\n",
    "\n",
    "- Inside the loop, an `if` statement checks if the current letter is a vowel (A, E, I, O, U).\n",
    "\n",
    "- If the letter is a vowel, the `continue` statement is used to skip the current iteration and move to the next letter.\n",
    "\n",
    "- If the letter is not a vowel, it is printed on a separate line."
   ]
  },
  {
   "cell_type": "markdown",
   "id": "51ccb8e0",
   "metadata": {},
   "source": [
    "Your task here is even more special than before: you must redesign the (ugly) vowel eater from the previous exercise and create a better, upgraded (pretty) vowel eater! \n",
    "\n",
    "Write a program that uses:\n",
    "\n",
    "   -  a `for` loop;\n",
    "   \n",
    "   -  the concept of conditional execution `(if-elif-else)`\n",
    "   \n",
    "   -  the `continue` statement.\n",
    "   \n",
    "Your program must:\n",
    "\n",
    "- ask the user to enter a word;\n",
    "\n",
    "- use `user_word = user_word.upper()` to convert the word entered by the user to upper case; we'll talk about the so-called string methods and the `upper()` method;\n",
    "\n",
    "- use conditional execution and the `continue` statement to \"eat\" the following vowels A, E, I, O, U from the inputted word;\n",
    "\n",
    "- assign the uneaten letters to the `word_without_vowels` variable and print the variable to the screen."
   ]
  },
  {
   "cell_type": "code",
   "execution_count": null,
   "id": "efaf69c8",
   "metadata": {},
   "outputs": [],
   "source": [
    "user_word = input(\"Enter a word: \")\n",
    "\n",
    "user_word = user_word.upper()\n",
    "\n",
    "word_without_vowels = \"\"\n",
    "\n",
    "for letter in user_word:\n",
    "    if letter in [\"A\", \"E\", \"I\", \"O\", \"U\"]:\n",
    "        continue\n",
    "    word_without_vowels += letter\n",
    "\n",
    "print(word_without_vowels)   "
   ]
  },
  {
   "cell_type": "markdown",
   "id": "a744d514",
   "metadata": {},
   "source": [
    "Explanation:\n",
    "\n",
    "- The user is prompted to enter a word.\n",
    "\n",
    "- The word entered by the user is converted to upper case using `user_word.upper()`.\n",
    "\n",
    "- An empty string `word_without_vowels` is initialized to store the letters that are not vowels.\n",
    "\n",
    "- A `for` loop iterates through each letter in the uppercased word.\n",
    "\n",
    "- Inside the loop, an `if` statement checks if the current letter is a vowel (A, E, I, O, U).\n",
    "\n",
    "- If the letter is a vowel, the `continue` statement is used to skip the current iteration and move to the next letter.\n",
    "\n",
    "- If the letter is not a vowel, it is appended to the `word_without_vowels` string.\n",
    "\n",
    "- After the loop, the `word_without_vowels` string, which contains the uneaten letters, is printed."
   ]
  },
  {
   "cell_type": "markdown",
   "id": "d54e6b32",
   "metadata": {},
   "source": [
    "# The `while` loop and the `else` branch.\n",
    "\n",
    "Both loops, `while` and `for`, have one interesting (and rarely used) feature.\n",
    "\n",
    "**Loops may have the `else` branch too, like `if`s**.\n",
    "\n",
    "The loop's `else` branch is **always executed once, regardless of whether the loop has entered its body or not.\n"
   ]
  },
  {
   "cell_type": "code",
   "execution_count": 1,
   "id": "03676aa7",
   "metadata": {},
   "outputs": [
    {
     "name": "stdout",
     "output_type": "stream",
     "text": [
      "1\n",
      "2\n",
      "3\n",
      "4\n",
      "else: 5\n"
     ]
    }
   ],
   "source": [
    "i = 1\n",
    "while i < 5:\n",
    "    print(i)\n",
    "    i += 1\n",
    "else:\n",
    "    print(\"else:\", i)\n",
    "    \n",
    "#The while condition is False at the beginning."
   ]
  },
  {
   "cell_type": "markdown",
   "id": "40478778",
   "metadata": {},
   "source": [
    "# The `for` loop and the `else` branch.\n",
    "\n",
    "`for` loops behave a bit differently;\n"
   ]
  },
  {
   "cell_type": "code",
   "execution_count": 2,
   "id": "01dd487a",
   "metadata": {},
   "outputs": [
    {
     "name": "stdout",
     "output_type": "stream",
     "text": [
      "0\n",
      "1\n",
      "2\n",
      "3\n",
      "4\n",
      "else: 4\n"
     ]
    }
   ],
   "source": [
    "for i in range(5):\n",
    "    print(i)\n",
    "else:\n",
    "    print(\"else:\", i)"
   ]
  },
  {
   "cell_type": "markdown",
   "id": "19e146db",
   "metadata": {},
   "source": [
    "The output is abit suprising.\n",
    "\n",
    "The `i` variable retains its last value."
   ]
  },
  {
   "cell_type": "code",
   "execution_count": 3,
   "id": "b7199d2e",
   "metadata": {},
   "outputs": [
    {
     "name": "stdout",
     "output_type": "stream",
     "text": [
      "else: 111\n"
     ]
    }
   ],
   "source": [
    "i = 111\n",
    "for i in range(2, 1):\n",
    "    print(i)\n",
    "else:\n",
    "    print(\"else:\", i)"
   ]
  },
  {
   "cell_type": "markdown",
   "id": "e00ca999",
   "metadata": {},
   "source": [
    "The loop's body won't be executed here at all, because we've assigned the `i` variable before the loop.\n",
    "\n",
    "When the loop's body isn't executed, the control variable retains the value it had before the loop.\n",
    "\n",
    "NOTE:\n",
    "**if the control variable doesn't exist before the loop starts, it won't exist when the execution reaches the `else` branch**."
   ]
  },
  {
   "cell_type": "markdown",
   "id": "99ae7c1f",
   "metadata": {},
   "source": [
    "# Assignment 5\n",
    "\n",
    "Listen to this story: a boy and his father, a computer programmer, are playing with wooden blocks. They are building a pyramid.\n",
    "\n",
    "Their pyramid is a bit weird, as it is actually a pyramid-shaped wall - it's flat. The pyramid is stacked according to one simple principle: each lower layer contains one block more than the layer above.\n",
    "\n",
    "The task is to write a program which reads the number of blocks the builders have, and outputs the height of the pyramid that can be built using these blocks.\n",
    "\n",
    "**Note:** the height is measured by the number of **fully completed layers** - if the builders don't have a sufficient number of blocks and cannot complete the next layer, they finish their work immediately."
   ]
  },
  {
   "cell_type": "markdown",
   "id": "c4809afd",
   "metadata": {},
   "source": [
    "# Solution\n",
    "\n",
    "To solve this problem, we need to calculate the height of a pyramid that can be built using a given number of blocks. The pyramid is built in such a way that each level requires one more block than the level above it.\n",
    "\n",
    "Here's how we can implement the solution in Python:\n",
    "\n",
    "- Initialize the height of the pyramid to 0.\n",
    "\n",
    "- Use a while loop to add layers to the pyramid until we run out of blocks.\n",
    "\n",
    "- For each layer, check if there are enough blocks left to complete the current layer.\n",
    "\n",
    "- If there are enough blocks, increment the height and subtract the required number of blocks from the total.\n",
    "\n",
    "- If not, break out of the loop."
   ]
  },
  {
   "cell_type": "code",
   "execution_count": null,
   "id": "d0239df5",
   "metadata": {},
   "outputs": [],
   "source": [
    "# Read the number of blocks from the user\n",
    "blocks = int(input(\"Enter the number of blocks: \"))\n",
    "\n",
    "height = 0\n",
    "current_layer = 1\n",
    "\n",
    "# While there are enough blocks to complete the current layer\n",
    "while blocks >= current_layer:\n",
    "    blocks -= current_layer  # Use the blocks for the current layer\n",
    "    height += 1  # Increment the height of the pyramid\n",
    "    current_layer += 1  # Prepare the next layer\n",
    "\n",
    "# Output the height of the pyramid\n",
    "print(\"The height of the pyramid:\", height)\n"
   ]
  },
  {
   "cell_type": "markdown",
   "id": "f3f0c39d",
   "metadata": {},
   "source": [
    "# Explanation\n",
    "\n",
    "1. `blocks` is the number of blocks the user enters.\n",
    "\n",
    "2. `height` keeps track of the height of the pyramid.\n",
    "\n",
    "3. `current_layer` is the number of blocks required for the current layer.\n",
    "\n",
    "4. The `while` loop runs as long as there are enough blocks to complete the current layer (`blocks >= current_layer`).\n",
    "\n",
    "5. Inside the loop:\n",
    "\n",
    "      - We subtract the number of blocks needed for the current layer from `blocks`.\n",
    "      \n",
    "      - We increment the height of the pyramid by 1.\n",
    "      \n",
    "      - We increment `current_layer` by 1 to represent the next layer which will require one more block than the previous layer.\n",
    "      \n",
    "6. When there are not enough blocks to complete the next layer, the loop exits and the final height of the pyramid is printed.\n",
    "\n"
   ]
  },
  {
   "cell_type": "markdown",
   "id": "501b3df4",
   "metadata": {},
   "source": [
    "# Assignment 6\n",
    "\n",
    "In 1937, a German mathematician named Lothar Collatz formulated an intriguing hypothesis (it still remains unproven) which can be described in the following way:\n",
    "\n",
    "  1. take any non-negative and non-zero integer number and name it `c0`;\n",
    "  \n",
    "  2. if it's even, evaluate a new `c0` as `c0 ÷ 2`;\n",
    "  \n",
    "  3. otherwise, if it's odd, evaluate a new `c0` as `3 × c0 + 1`;\n",
    "  \n",
    "  4. if `c0 ≠ 1`, skip to point 2.\n",
    "  \n",
    "  \n",
    "The hypothesis says that regardless of the initial value of `c0`, it will always go to 1.\n",
    "\n",
    "\n",
    "Of course, it's an extremely complex task to use a computer in order to prove the hypothesis for any natural number (it may even require artificial intelligence), but you can use Python to check some individual numbers. Maybe you'll even find the one which would disprove the hypothesis.\n",
    "\n",
    "Write a program which reads one natural number and executes the above steps as long as c0 remains different from 1. We also want you to count the steps needed to achieve the goal. Your code should output all the intermediate values of `c0`, too.\n",
    "\n",
    "**Hint:** the most important part of the problem is how to transform Collatz's idea into a `while` loop - this is the key to success."
   ]
  },
  {
   "cell_type": "code",
   "execution_count": null,
   "id": "6fe70f1d",
   "metadata": {},
   "outputs": [],
   "source": [
    "c0 = int(input(\"Enter a natural number: \"))\n",
    "\n",
    "if c0 <= 0:\n",
    "    print(\"The number must be a natural number greater than 0.\")\n",
    "    \n",
    "else:\n",
    "    step = 0\n",
    "    \n",
    "while c0 != 1:\n",
    "    print(c0)\n",
    "    \n",
    "    if c0 % 2 == 0:\n",
    "        c0 = c0 // 2\n",
    "        \n",
    "    else:\n",
    "        c0 = 3 * c0 + 1\n",
    "        \n",
    "    steps += 1\n",
    "    \n",
    "print(c0)\n",
    "\n",
    "print(\"Steps:\", steps)"
   ]
  },
  {
   "cell_type": "markdown",
   "id": "1ce35763",
   "metadata": {},
   "source": [
    "# Module Summary.\n",
    "\n",
    "1. There are two type of loops in Python:\n",
    "\n",
    "`while` and `for`:\n",
    "\n",
    " - the `while` loop executes a statement or a set of statements as long as a specified boolean condition is true, e.g:"
   ]
  },
  {
   "cell_type": "code",
   "execution_count": null,
   "id": "90193ed8",
   "metadata": {},
   "outputs": [],
   "source": [
    "# Example 1\n",
    "while True:\n",
    "    print(\"Stuck in an infinite loop.\")\n",
    "\n",
    "# Example 2\n",
    "counter = 5\n",
    "while counter > 2:\n",
    "    print(counter)\n",
    "    counter -= 1\n",
    "\n"
   ]
  },
  {
   "cell_type": "markdown",
   "id": "46c3916a",
   "metadata": {},
   "source": [
    "  - the `for` loop executes a set of statements many times; it's used to iterate over a sequence (e.g, a list, a dictionary, a tuple, or a set) or other objects that are iterable (e.g, strings).\n",
    "  \n",
    "      - You can use the `for` loop to iterate over a sequence of numbers using the built-in `range` function."
   ]
  },
  {
   "cell_type": "code",
   "execution_count": null,
   "id": "94a41b24",
   "metadata": {},
   "outputs": [],
   "source": [
    "# Example 1\n",
    "\n",
    "word = \"Python\"\n",
    "for letter in word:\n",
    "    print(letter, end=\"*\")\n",
    "    \n",
    "    \n",
    "# Example 2\n",
    "\n",
    "for i in range(1, 10):\n",
    "    if i % 2 == 0:\n",
    "        print(i)"
   ]
  },
  {
   "cell_type": "markdown",
   "id": "6a79426f",
   "metadata": {},
   "source": [
    "2. You can use the `break` and `continue` statements to change the flow of a loop:\n",
    "\n",
    "  - You use `break` to exit a loop, "
   ]
  },
  {
   "cell_type": "code",
   "execution_count": null,
   "id": "03c643ed",
   "metadata": {},
   "outputs": [],
   "source": [
    "text = \"OpenEDG Python Institute\"\n",
    "for letter in text:\n",
    "    if letter == \"P\":\n",
    "        break\n",
    "    print(letter, end=\"\")\n",
    "\n"
   ]
  },
  {
   "cell_type": "markdown",
   "id": "546d778f",
   "metadata": {},
   "source": [
    "  - You use `continue` to skip the current iteration, and continue with the next iteration,"
   ]
  },
  {
   "cell_type": "code",
   "execution_count": null,
   "id": "ba37aa72",
   "metadata": {},
   "outputs": [],
   "source": [
    "text = \"pyxpyxpyx\"\n",
    "for letter in text:\n",
    "    if letter == \"x\":\n",
    "        continue\n",
    "    print(letter, end=\"\")\n",
    "\n"
   ]
  },
  {
   "cell_type": "markdown",
   "id": "f4cf55eb",
   "metadata": {},
   "source": [
    "3. The `while` and `for` loop can also have an `else` clause in Python.\n",
    "\n",
    "The `else` executes after the loop finishes its execution as long as it has not been termiinated by `break`,"
   ]
  },
  {
   "cell_type": "code",
   "execution_count": null,
   "id": "b6df9363",
   "metadata": {},
   "outputs": [],
   "source": [
    "n = 0\n",
    "\n",
    "while n != 3:\n",
    "    print(n)\n",
    "    n += 1\n",
    "else:\n",
    "    print(n, \"else\")\n",
    "\n",
    "print()\n",
    "\n",
    "for i in range(0, 3):\n",
    "    print(i)\n",
    "else:\n",
    "    print(i, \"else\")\n",
    "\n"
   ]
  },
  {
   "cell_type": "markdown",
   "id": "19571659",
   "metadata": {},
   "source": [
    "  4. The `range()` function generates a sequence of numbers. It accepts intergers and returns range objects.\n",
    "  \n",
    "  The syntaxs `range()` looks as follows: `range(start, stop, step)`, where:\n",
    "  \n",
    "   - `start` is an optional parameter specifying the starting number of the sequence (0 by default)\n",
    "    \n",
    "   - `stop` is an optional parameter specifying the end of the sequence generated (it is not included),\n",
    "    \n",
    "   - and `step` is an optional parameter specifying the difference between the numbers in the sequence (1 by default)."
   ]
  },
  {
   "cell_type": "code",
   "execution_count": null,
   "id": "e9cb12fb",
   "metadata": {},
   "outputs": [],
   "source": [
    "for i in range(3):\n",
    "    print(i, end=\" \")  # Outputs: 0 1 2\n",
    "\n",
    "for i in range(6, 1, -2):\n",
    "    print(i, end=\" \")  # Outputs: 6, 4, 2\n",
    "\n"
   ]
  },
  {
   "cell_type": "code",
   "execution_count": null,
   "id": "56f4de99",
   "metadata": {},
   "outputs": [],
   "source": []
  }
 ],
 "metadata": {
  "kernelspec": {
   "display_name": "Python 3 (ipykernel)",
   "language": "python",
   "name": "python3"
  },
  "language_info": {
   "codemirror_mode": {
    "name": "ipython",
    "version": 3
   },
   "file_extension": ".py",
   "mimetype": "text/x-python",
   "name": "python",
   "nbconvert_exporter": "python",
   "pygments_lexer": "ipython3",
   "version": "3.10.9"
  }
 },
 "nbformat": 4,
 "nbformat_minor": 5
}
