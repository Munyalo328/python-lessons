{
 "cells": [
  {
   "cell_type": "code",
   "execution_count": 1,
   "id": "505be700",
   "metadata": {},
   "outputs": [],
   "source": [
    "import numpy as np\n",
    "\n",
    "#Numpy is usually imported under the `np` alias.\n",
    "#in Python alias are an alternate name for referring to the same thing.\n",
    "#We create an alias with the `as` keyword while importing."
   ]
  },
  {
   "cell_type": "code",
   "execution_count": 3,
   "id": "b672746c",
   "metadata": {},
   "outputs": [
    {
     "name": "stdout",
     "output_type": "stream",
     "text": [
      "[1 2 3 4 5]\n"
     ]
    }
   ],
   "source": [
    "arr = np.array([1, 2, 3, 4, 5])\n",
    "print(arr)"
   ]
  },
  {
   "cell_type": "markdown",
   "id": "24c90735",
   "metadata": {},
   "source": [
    "# Checking Numpy Version.\n",
    "\n",
    "The version string is stored under `__version__` attribute."
   ]
  },
  {
   "cell_type": "code",
   "execution_count": 6,
   "id": "201149b7",
   "metadata": {},
   "outputs": [
    {
     "name": "stdout",
     "output_type": "stream",
     "text": [
      "1.23.5\n"
     ]
    }
   ],
   "source": [
    "print(np.__version__)"
   ]
  },
  {
   "cell_type": "markdown",
   "id": "8f007d7a",
   "metadata": {},
   "source": [
    "# Numpy Creating Arrays"
   ]
  },
  {
   "cell_type": "markdown",
   "id": "c0159086",
   "metadata": {},
   "source": [
    "# # Create a Numpy ndarray Object\n",
    "\n",
    "Numpy is ussed to work with arrays.\n",
    "\n",
    "The array object in numpy is called `ndarray`.\n",
    "\n",
    "We can create a Numpy `ndarray` object by using the `array()` function."
   ]
  },
  {
   "cell_type": "code",
   "execution_count": 8,
   "id": "4e506605",
   "metadata": {},
   "outputs": [
    {
     "name": "stdout",
     "output_type": "stream",
     "text": [
      "<class 'numpy.ndarray'>\n"
     ]
    }
   ],
   "source": [
    "print(type(arr))\n",
    "#`type(): This built-in Python function tells us the type of object passed to it.\n",
    "#Like the above code it shows that `arr` is `numpy.ndarray` type."
   ]
  },
  {
   "cell_type": "markdown",
   "id": "b593224f",
   "metadata": {},
   "source": [
    "To create an `ndarray`, we can pass a list, tuple, or any array-like object into the`array()` method, and it will be converted into an `ndarray`:"
   ]
  },
  {
   "cell_type": "code",
   "execution_count": 9,
   "id": "6a6ff839",
   "metadata": {},
   "outputs": [
    {
     "name": "stdout",
     "output_type": "stream",
     "text": [
      "[1 2 3 4 5]\n"
     ]
    }
   ],
   "source": [
    "#Use a tuple to create a Numpy array:\n",
    "\n",
    "arr1 = np.array((1, 2, 3, 4, 5))\n",
    "\n",
    "print(arr1)"
   ]
  },
  {
   "cell_type": "markdown",
   "id": "f77123c4",
   "metadata": {},
   "source": [
    "# Dimensions in Arrays.\n",
    "\n",
    "A dimension in arrays is one level of array depth(nested arrays).\n",
    "\n",
    "**Nested array:** are arrays that have arrays as their elements.\n",
    "\n",
    "# 0-D Arrays\n",
    "\n",
    "0-D arrays, or Scalars, are the elements in array. Each value in an array is a 0-D array."
   ]
  },
  {
   "cell_type": "code",
   "execution_count": 11,
   "id": "2e007482",
   "metadata": {},
   "outputs": [
    {
     "name": "stdout",
     "output_type": "stream",
     "text": [
      "42\n"
     ]
    }
   ],
   "source": [
    "#Creating a 0-\\d array with value 42.\n",
    "arr2 = np.array(42)\n",
    "\n",
    "print(arr2)"
   ]
  },
  {
   "cell_type": "markdown",
   "id": "aec82931",
   "metadata": {},
   "source": [
    "# 1-D Arrays\n",
    "\n",
    "An array that has 0-D array as irs element is called uni-dimensional or 1-D array.\n",
    "\n",
    "These are the most common and basic arrays."
   ]
  },
  {
   "cell_type": "code",
   "execution_count": 12,
   "id": "a667f916",
   "metadata": {},
   "outputs": [
    {
     "name": "stdout",
     "output_type": "stream",
     "text": [
      "[1 2 3 4 5]\n"
     ]
    }
   ],
   "source": [
    "#Creating a 1-D array containing the value 1,2,3,4,5:\n",
    "\n",
    "arr3 = np.array([1, 2, 3, 4, 5])\n",
    "\n",
    "print(arr3)"
   ]
  },
  {
   "cell_type": "markdown",
   "id": "cf8650fc",
   "metadata": {},
   "source": [
    "# 2-D Arrays\n",
    "\n",
    "An array that has 1-d arrays as its elements is called a 2-D array.\n",
    "\n",
    "These are often used to represent matrix or 2nd order tensors.\n",
    "\n",
    "**Note:\n",
    "Numpy has a whole sub module dedicated towards matrix operations called `numpy.mat`**"
   ]
  },
  {
   "cell_type": "code",
   "execution_count": 13,
   "id": "afbfc7fa",
   "metadata": {},
   "outputs": [
    {
     "name": "stdout",
     "output_type": "stream",
     "text": [
      "[[1 2 3]\n",
      " [4 5 6]]\n"
     ]
    }
   ],
   "source": [
    "#Create a 2-D array containing two arrays with the values 1,2,3, and 4,5,6:\n",
    "\n",
    "arr4 = np.array([[1, 2, 3], [4, 5, 6]])\n",
    "\n",
    "print(arr4)"
   ]
  },
  {
   "cell_type": "markdown",
   "id": "28bab6b2",
   "metadata": {},
   "source": [
    "# 3-D Arrays\n",
    "\n",
    "An array that has 2-D arrays (matrices) as its elements is called 3-D arrays.\n",
    "\n",
    "These are often used to represent a 3rd order tensor."
   ]
  },
  {
   "cell_type": "code",
   "execution_count": 15,
   "id": "c572baf8",
   "metadata": {},
   "outputs": [
    {
     "name": "stdout",
     "output_type": "stream",
     "text": [
      "[[[1 2 3]\n",
      "  [4 5 6]\n",
      "  [1 2 3]\n",
      "  [4 5 6]]]\n"
     ]
    }
   ],
   "source": [
    "#Create a 3-D array with 2-D arrays,\n",
    "#both containing two arrays with the values 1,2,3 and 4,5,6:\n",
    "\n",
    "arr5 = np.array([[[1, 2, 3], [4, 5, 6], [1, 2, 3], [4, 5, 6]]])\n",
    "\n",
    "print(arr5)"
   ]
  },
  {
   "cell_type": "markdown",
   "id": "c6a3cec1",
   "metadata": {},
   "source": [
    "# Check Number of Dimensions?\n",
    "\n",
    "Numpy Arrays provides the `ndim` attribute that returns an interger that tells us how many dimensions the array have."
   ]
  },
  {
   "cell_type": "code",
   "execution_count": 17,
   "id": "ebca81fa",
   "metadata": {},
   "outputs": [
    {
     "name": "stdout",
     "output_type": "stream",
     "text": [
      "0\n",
      "1\n",
      "2\n",
      "3\n"
     ]
    }
   ],
   "source": [
    "#Check how many dimensions the arrays have:\n",
    "\n",
    "a = np.array(42)\n",
    "b = np.array([1, 2, 3, 4, 5])\n",
    "c = np.array([[1, 2, 3], [4, 5, 6]])\n",
    "d = np.array([[[1, 2, 3], [4, 5, 6], [1, 2, 3], [4, 5, 6]]])\n",
    "\n",
    "print(a.ndim)\n",
    "print(b.ndim)\n",
    "print(c.ndim)\n",
    "print(d.ndim)"
   ]
  },
  {
   "cell_type": "markdown",
   "id": "f59285ce",
   "metadata": {},
   "source": [
    "# Higher Dimensional Arrays\n",
    "\n",
    "An array can have any number of dimensions.\n",
    "\n",
    "When an array is created, you can define the number of dimensions by using the `ndmin` argument"
   ]
  },
  {
   "cell_type": "code",
   "execution_count": 19,
   "id": "3ccd01e5",
   "metadata": {},
   "outputs": [
    {
     "name": "stdout",
     "output_type": "stream",
     "text": [
      "[[[[[1 2 3 4]]]]]\n",
      "number of dimensions : 5\n"
     ]
    }
   ],
   "source": [
    "#Create an array with 5 dimensions and verify that it has 5 dimensions:\n",
    "\n",
    "arr6 = np.array([1, 2, 3, 4], ndmin=5)\n",
    "\n",
    "print(arr6)\n",
    "print(\"number of dimensions :\", arr6.ndim)"
   ]
  },
  {
   "cell_type": "markdown",
   "id": "67a1cbe6",
   "metadata": {},
   "source": [
    "In the above array the innermost dimension (5th dim) has 4 elements, the 4th dim has 1 element that is the vector, the 3rd dim has 1 element that is the matrix with the vector, the 2nd dim has 1 element that is 3D array and 1st dim has 1 element that is a 4D array."
   ]
  },
  {
   "cell_type": "markdown",
   "id": "a9b885eb",
   "metadata": {},
   "source": [
    "# NumPy Array Indexing\n"
   ]
  },
  {
   "cell_type": "markdown",
   "id": "67ac2281",
   "metadata": {},
   "source": [
    "# 1. Access array Elements."
   ]
  },
  {
   "cell_type": "markdown",
   "id": "a4c14ec5",
   "metadata": {},
   "source": [
    "Array indexing is the same as accessing an array element.\n",
    "\n",
    "You can access an array element by reffering to its index number.\n",
    "\n",
    "The indexes in NumPy array start with 0, meaning that the first element has index 0, and the second has index 1 etc."
   ]
  },
  {
   "cell_type": "code",
   "execution_count": 4,
   "id": "d50ac9d7",
   "metadata": {},
   "outputs": [
    {
     "name": "stdout",
     "output_type": "stream",
     "text": [
      "1\n",
      "2\n",
      "7\n"
     ]
    }
   ],
   "source": [
    "# Get the first element from the following array.\n",
    "import numpy as np\n",
    "\n",
    "arr = np.array([1, 2, 3, 4])\n",
    "\n",
    "print(arr[0])\n",
    "print(arr[1])    # Getting the second element from the array.\n",
    "\n",
    "# Get the 3rd and the 4th elements from the above array and add them\n",
    "\n",
    "print(arr[2] + arr[3])"
   ]
  },
  {
   "cell_type": "markdown",
   "id": "886337bb",
   "metadata": {},
   "source": [
    "# Access 2 - D Arrays"
   ]
  },
  {
   "cell_type": "markdown",
   "id": "f8332e21",
   "metadata": {},
   "source": [
    "To access elements from 2-D arrays we can use comma separated integers representing the dimension and the index of the element.\n",
    "\n",
    "Think of 2-D arrays like a table with rows and columns, where the dimension represents the row and the index represents the column."
   ]
  },
  {
   "cell_type": "code",
   "execution_count": 6,
   "id": "0c3729ad",
   "metadata": {},
   "outputs": [
    {
     "name": "stdout",
     "output_type": "stream",
     "text": [
      "2nd element on 1st row:  2\n",
      "5th element on 2nd row:  10\n"
     ]
    }
   ],
   "source": [
    "# Access the element on the first row, second column.\n",
    "\n",
    "list = np.array([[1, 2, 3, 4, 5], [6, 7, 8, 9, 10]])\n",
    "print('2nd element on 1st row: ', list[0, 1])\n",
    "\n",
    "# Access element on the 2nd row, 5th column.\n",
    "\n",
    "print('5th element on 2nd row: ', list[1, 4])"
   ]
  },
  {
   "cell_type": "markdown",
   "id": "b6fc2837",
   "metadata": {},
   "source": [
    "# Accessing 3-D Arrays"
   ]
  },
  {
   "cell_type": "markdown",
   "id": "58f67dcb",
   "metadata": {},
   "source": [
    "To access elements from 3-D arrays we can use comma separated intergers representing the dimensions and the index of the element."
   ]
  },
  {
   "cell_type": "code",
   "execution_count": 8,
   "id": "1c368db9",
   "metadata": {},
   "outputs": [
    {
     "name": "stdout",
     "output_type": "stream",
     "text": [
      "6\n"
     ]
    }
   ],
   "source": [
    "# Access the 3rd element of the 2nd array of the first array.\n",
    "\n",
    "list1 = np.array([[[1, 2, 3], [4, 5, 6]], [[7, 8, 9], [10, 11, 12]]])\n",
    "print(list1[0, 1, 2])"
   ]
  },
  {
   "cell_type": "markdown",
   "id": "e705acc9",
   "metadata": {},
   "source": [
    "# Example Explained.\n",
    "\n",
    "`arr[0, 1, 2]` prints the value `6`.\n",
    "\n",
    "And this is why:\n",
    "\n",
    "The first number represents the first dimension, which contains two arrays:\n",
    "\n",
    "`[[1, 2, 3], [4, 5, 6]]`\n",
    "\n",
    "and:\n",
    "\n",
    "`[[7, 8, 9], [10, 11, 12]]`\n",
    "\n",
    "Since we selected 0, we are left with the first array:\n",
    "\n",
    "`[[1, 2, 3], [4, 5, 6]]`\n",
    "\n",
    "The second number represents the second dimension, which also contains two arrays:\n",
    "\n",
    "`[1, 2, 3]`\n",
    "\n",
    "and:\n",
    "\n",
    "`[4, 5, 6]`\n",
    "\n",
    "Since we selected 1, we are left with the second array:\n",
    "\n",
    "`[4, 5, 6]`\n",
    "\n",
    "The third number represents the third dimension, which contains three values:\n",
    "\n",
    "`4`\n",
    "`5`\n",
    "`6`\n",
    "Since we selected 2, we end up with the third value:\n",
    "\n",
    "`6`\n",
    "\n"
   ]
  },
  {
   "cell_type": "markdown",
   "id": "1d484409",
   "metadata": {},
   "source": [
    "# Negative Indexing.\n",
    "\n",
    "Use negative to access an array from the end."
   ]
  },
  {
   "cell_type": "code",
   "execution_count": 2,
   "id": "e3ab37e2",
   "metadata": {},
   "outputs": [
    {
     "name": "stdout",
     "output_type": "stream",
     "text": [
      "Last element from 2nd dim:  10\n"
     ]
    }
   ],
   "source": [
    "# Print the last element from the 2nd dim:\n",
    "import numpy as np\n",
    "\n",
    "arr = np.array([[1, 2, 3, 4, 5], [6, 7, 8, 9, 10]])\n",
    "\n",
    "print('Last element from 2nd dim: ', arr[1, -1])"
   ]
  },
  {
   "cell_type": "markdown",
   "id": "e6d1c967",
   "metadata": {},
   "source": [
    "# Numpy Array Slicing."
   ]
  },
  {
   "cell_type": "markdown",
   "id": "ac56b596",
   "metadata": {},
   "source": [
    "# Slicing arrays\n",
    "\n",
    "Slicing in Python means takking elements from one given index to another given index.\n",
    "\n",
    "We pass slice instead of index like this: *`[start:end]`*.\n",
    "\n",
    "We can also define the step, like this: *`[start:end:step]`*.\n",
    "    \n",
    "If we do not pass start it is considered `0`\n",
    "\n",
    "If we do not pass end it is considered length of array in that dimension.\n",
    "\n",
    "If we do not pass step it is considered `1`"
   ]
  },
  {
   "cell_type": "code",
   "execution_count": 3,
   "id": "189e19c3",
   "metadata": {},
   "outputs": [
    {
     "name": "stdout",
     "output_type": "stream",
     "text": [
      "[[ 6  7  8  9 10]]\n"
     ]
    }
   ],
   "source": [
    "# Slice elements from index 1 to index 5 from the following array:\n",
    "\n",
    "arR = np.array([1, 2, 3, 4, 5, 6, 7])\n",
    "\n",
    "print(arr[1:5])"
   ]
  },
  {
   "cell_type": "markdown",
   "id": "69fa9e96",
   "metadata": {},
   "source": [
    "**NOTE:**\n",
    "    \n",
    "   The results *includes* the start index, but *excludes* the end index. "
   ]
  },
  {
   "cell_type": "code",
   "execution_count": 5,
   "id": "9afda8f1",
   "metadata": {},
   "outputs": [
    {
     "name": "stdout",
     "output_type": "stream",
     "text": [
      "[5 6 7]\n"
     ]
    }
   ],
   "source": [
    "# Slice elements from index 4 to the end of the array:\n",
    "\n",
    "arR1 = np.array([1, 2, 3, 4, 5, 6, 7])\n",
    "\n",
    "print(arR1[4:])"
   ]
  },
  {
   "cell_type": "code",
   "execution_count": 6,
   "id": "73131141",
   "metadata": {},
   "outputs": [
    {
     "name": "stdout",
     "output_type": "stream",
     "text": [
      "[1 2 3 4]\n"
     ]
    }
   ],
   "source": [
    "# Slice elements from the begining to index 4 (not included):\n",
    "\n",
    "arR2 = np.array([1, 2, 3, 4, 5, 6, 7])\n",
    "\n",
    "print(arR2[:4])"
   ]
  },
  {
   "cell_type": "markdown",
   "id": "f496e737",
   "metadata": {},
   "source": [
    "# Negative Slicing.\n",
    "\n",
    "Use the minus operator to refer to an index from the end:"
   ]
  },
  {
   "cell_type": "code",
   "execution_count": 7,
   "id": "afc79c19",
   "metadata": {},
   "outputs": [
    {
     "name": "stdout",
     "output_type": "stream",
     "text": [
      "[5 6]\n"
     ]
    }
   ],
   "source": [
    "# Slice from the index 3 from the end to index 1 from the end;\n",
    "\n",
    "arR3 = np.array([1, 2, 3, 4, 5, 6, 7])\n",
    "\n",
    "print(arR3[-3:-1])"
   ]
  },
  {
   "cell_type": "markdown",
   "id": "1ce0dd43",
   "metadata": {},
   "source": [
    "# STEP.\n",
    "\n",
    "Use the `step` value to determine the step of the slicing:"
   ]
  },
  {
   "cell_type": "code",
   "execution_count": 9,
   "id": "8deb4f53",
   "metadata": {},
   "outputs": [
    {
     "name": "stdout",
     "output_type": "stream",
     "text": [
      "[2 4]\n",
      "[1 3 5 7]\n"
     ]
    }
   ],
   "source": [
    "# Return every other elment from index 1 to index 5:\n",
    "\n",
    "arR4 = np.array([1, 2, 3, 4, 5, 6, 7])\n",
    "\n",
    "print(arR4[1:5:2])\n",
    "\n",
    "# Return every other element from the entire array:\n",
    "\n",
    "print(arR4[::2])"
   ]
  },
  {
   "cell_type": "markdown",
   "id": "d27a51f7",
   "metadata": {},
   "source": [
    "# Slicing 2-D Arrays"
   ]
  },
  {
   "cell_type": "code",
   "execution_count": 10,
   "id": "a9a534e1",
   "metadata": {},
   "outputs": [
    {
     "name": "stdout",
     "output_type": "stream",
     "text": [
      "[7 8 9]\n"
     ]
    }
   ],
   "source": [
    "# From the 2nd element, slice elements from inddex 1 to index 4 (not included):\n",
    "\n",
    "arR5 = np.array([[1, 2, 3, 4, 5], [6, 7, 8, 9, 10]])\n",
    "\n",
    "print(arR5[1, 1:4])"
   ]
  },
  {
   "cell_type": "markdown",
   "id": "c0e38b28",
   "metadata": {},
   "source": [
    "**NOTE:**\n",
    "   Remember that 2nd element has index 1."
   ]
  },
  {
   "cell_type": "code",
   "execution_count": 11,
   "id": "d306605f",
   "metadata": {},
   "outputs": [
    {
     "name": "stdout",
     "output_type": "stream",
     "text": [
      "[3 8]\n"
     ]
    }
   ],
   "source": [
    "# From both elements, return index 2:\n",
    "\n",
    "print(arR5[0:2,2])"
   ]
  },
  {
   "cell_type": "code",
   "execution_count": 12,
   "id": "9f95e240",
   "metadata": {},
   "outputs": [
    {
     "name": "stdout",
     "output_type": "stream",
     "text": [
      "[[2 3 4]\n",
      " [7 8 9]]\n"
     ]
    }
   ],
   "source": [
    "# From both elements, slice index 1 to index 4 (not included), this will return a 2-D array:\n",
    "\n",
    "print(arR5[0:2, 1:4])"
   ]
  },
  {
   "cell_type": "markdown",
   "id": "f43030f8",
   "metadata": {},
   "source": [
    "# NumPy Data Types."
   ]
  },
  {
   "cell_type": "markdown",
   "id": "7ad4a56f",
   "metadata": {},
   "source": [
    "# Data Types in Python.\n",
    "\n",
    "By default Python have these data types:\n",
    "    \n",
    "   - `strings` - used to represent text data, the text is given under quote marks. e.g. \"ABCD\"\n",
    "    \n",
    "   - `integer` - used to represent integer numbers. e.g. -1, -2, -3\n",
    "   \n",
    "   - `float` - used to represent real numbers. e.g. 1.2, 42.42\n",
    "   \n",
    "   -`boolean` - used to represent `True` or `False`.\n",
    "   \n",
    "   -`complex` - used to represent complex numbers. e.g. 1.0 + 2.0j, 1.5 + 2.5j"
   ]
  },
  {
   "cell_type": "markdown",
   "id": "1c64251a",
   "metadata": {},
   "source": [
    "# Data Types in NumPy.\n",
    "\n",
    "NumPy has some extra data types, and refer to data types with character,\n",
    "like `i` for integers, `u` for unsigned integers etc.\n",
    "\n",
    "\n",
    "Below is a list of all data types in NumPy and the characters used to represent them\n",
    "\n",
    "- `i` - integer\n",
    "\n",
    "- `b` - boolean\n",
    "\n",
    "- `u` - unsigned integer\n",
    "\n",
    "- `f` - float\n",
    "\n",
    "- `c` - complex float\n",
    "\n",
    "- `m` - timedelta\n",
    "\n",
    "- `M` - datetime\n",
    "\n",
    "- `O` - object\n",
    "\n",
    "- `S` - string\n",
    "\n",
    "- `U` - unicode string\n",
    "\n",
    "- `V` - fixed chunk of memory for other type (void)\n",
    "\n",
    "\n",
    "# Checking the Data Type of an Array\n",
    "\n",
    "The NumPy array object has a property called `dtype` that returns the data type of the array:"
   ]
  },
  {
   "cell_type": "code",
   "execution_count": 17,
   "id": "43cdaef5",
   "metadata": {},
   "outputs": [
    {
     "name": "stdout",
     "output_type": "stream",
     "text": [
      "int32\n",
      "<U6\n"
     ]
    }
   ],
   "source": [
    "# Get the data type of an array object:\n",
    "\n",
    "arr = np.array([1, 2, 3, 4])\n",
    "\n",
    "print(arr.dtype)\n",
    "\n",
    "\n",
    "# Get the data type of an array containing strings:\n",
    "\n",
    "arr = np.array(['apple', 'banana', 'cherry'])\n",
    "\n",
    "print(arr.dtype)"
   ]
  },
  {
   "cell_type": "markdown",
   "id": "4d11453a",
   "metadata": {},
   "source": [
    "# Creating Arrays With a Defined Data Type.\n",
    "\n",
    "We use the `array()` function to create arrays, this function can take an optional argument: `dtype` that allows us to define the expected data type of the array elements:"
   ]
  },
  {
   "cell_type": "code",
   "execution_count": 18,
   "id": "e385fe67",
   "metadata": {},
   "outputs": [
    {
     "name": "stdout",
     "output_type": "stream",
     "text": [
      "[b'1' b'2' b'3' b'4']\n",
      "<U6\n"
     ]
    }
   ],
   "source": [
    "# Create an array with data type string:\n",
    "\n",
    "arrs =  np.array([1, 2, 3, 4], dtype='S')\n",
    "\n",
    "print(arrs)\n",
    "print(arr.dtype)"
   ]
  },
  {
   "cell_type": "markdown",
   "id": "9bfa04f5",
   "metadata": {},
   "source": [
    "For `i`, `u`,`f`, `S` and `U` we can define size as well."
   ]
  },
  {
   "cell_type": "code",
   "execution_count": 22,
   "id": "18a05170",
   "metadata": {},
   "outputs": [
    {
     "name": "stdout",
     "output_type": "stream",
     "text": [
      "[1 2 3 4]\n",
      "int32\n"
     ]
    }
   ],
   "source": [
    "# Create an array with data type 4 bytes integer:\n",
    "\n",
    "arri = np.array([1, 2, 3, 4], dtype='i4')\n",
    "\n",
    "print(arri)\n",
    "print(arri.dtype)"
   ]
  },
  {
   "cell_type": "markdown",
   "id": "8f7aca25",
   "metadata": {},
   "source": [
    "# What if a Value Can Not Be Converted?\n",
    "\n",
    "If a type is given which elements can not be casted then NumPy will raise a ValueError.\n",
    "\n",
    "**ValueError:** In Python ValueError is raised when the type of passed argument to a function is unexpected/incorrect."
   ]
  },
  {
   "cell_type": "code",
   "execution_count": 23,
   "id": "8e2344ac",
   "metadata": {},
   "outputs": [
    {
     "ename": "ValueError",
     "evalue": "invalid literal for int() with base 10: 'a'",
     "output_type": "error",
     "traceback": [
      "\u001b[1;31m---------------------------------------------------------------------------\u001b[0m",
      "\u001b[1;31mValueError\u001b[0m                                Traceback (most recent call last)",
      "Cell \u001b[1;32mIn[23], line 3\u001b[0m\n\u001b[0;32m      1\u001b[0m \u001b[38;5;66;03m# An non integer string like 'a' can not be converted to integer (will raise an error):\u001b[39;00m\n\u001b[1;32m----> 3\u001b[0m arry \u001b[38;5;241m=\u001b[39m \u001b[43mnp\u001b[49m\u001b[38;5;241;43m.\u001b[39;49m\u001b[43marray\u001b[49m\u001b[43m(\u001b[49m\u001b[43m[\u001b[49m\u001b[38;5;124;43m'\u001b[39;49m\u001b[38;5;124;43ma\u001b[39;49m\u001b[38;5;124;43m'\u001b[39;49m\u001b[43m,\u001b[49m\u001b[43m \u001b[49m\u001b[38;5;124;43m'\u001b[39;49m\u001b[38;5;124;43m2\u001b[39;49m\u001b[38;5;124;43m'\u001b[39;49m\u001b[43m,\u001b[49m\u001b[43m \u001b[49m\u001b[38;5;124;43m'\u001b[39;49m\u001b[38;5;124;43m3\u001b[39;49m\u001b[38;5;124;43m'\u001b[39;49m\u001b[43m]\u001b[49m\u001b[43m,\u001b[49m\u001b[43m \u001b[49m\u001b[43mdtype\u001b[49m\u001b[38;5;241;43m=\u001b[39;49m\u001b[38;5;124;43m'\u001b[39;49m\u001b[38;5;124;43mi\u001b[39;49m\u001b[38;5;124;43m'\u001b[39;49m\u001b[43m)\u001b[49m\n",
      "\u001b[1;31mValueError\u001b[0m: invalid literal for int() with base 10: 'a'"
     ]
    }
   ],
   "source": [
    "# An non integer string like 'a' can not be converted to integer (will raise an error):\n",
    "\n",
    "arry = np.array(['a', '2', '3'], dtype='i')"
   ]
  },
  {
   "cell_type": "markdown",
   "id": "94cfd499",
   "metadata": {},
   "source": [
    "# Converting Data Type on Existing Arrays\n",
    "\n",
    "The best way to change thee data type of an existing array, is to make a copy of the array with the `astype()` method.\n",
    "\n",
    "The `astype()` function creates a copy of the array, and allows you to specify the data tyoe as a parameter.\n",
    "\n",
    "The data type can be specified using a string, like `f`for float, `i` for integer etc. or you can use the data type directly like `float` for float and `int` for integer."
   ]
  },
  {
   "cell_type": "code",
   "execution_count": 26,
   "id": "0d8fd778",
   "metadata": {},
   "outputs": [
    {
     "name": "stdout",
     "output_type": "stream",
     "text": [
      "[1 2 3]\n",
      "int32\n"
     ]
    }
   ],
   "source": [
    "#Change data type from float to integer by using `i` as parameter value:\n",
    "\n",
    "arr = np.array([1.1, 2.1, 3.1])\n",
    "\n",
    "newarr = arr.astype('i')\n",
    "\n",
    "print(newarr)\n",
    "print(newarr.dtype)"
   ]
  },
  {
   "cell_type": "code",
   "execution_count": 27,
   "id": "65da4765",
   "metadata": {},
   "outputs": [
    {
     "name": "stdout",
     "output_type": "stream",
     "text": [
      "[1 2 3]\n",
      "int32\n"
     ]
    }
   ],
   "source": [
    "# Change data type from float to integer by using `int` as parameter value:\n",
    "\n",
    "arr = np.array([1.1, 2.1, 3.1])\n",
    "\n",
    "newarr = arr.astype(int)\n",
    "\n",
    "print(newarr)\n",
    "print(newarr.dtype)"
   ]
  },
  {
   "cell_type": "code",
   "execution_count": 28,
   "id": "6972adbc",
   "metadata": {},
   "outputs": [
    {
     "name": "stdout",
     "output_type": "stream",
     "text": [
      "[ True False  True]\n",
      "bool\n"
     ]
    }
   ],
   "source": [
    "# Change data type from integer to boolean:\n",
    "\n",
    "arr = np.array([1, 0, 3])\n",
    "\n",
    "newarr = arr.astype(bool)\n",
    "\n",
    "print(newarr)\n",
    "print(newarr.dtype)"
   ]
  },
  {
   "cell_type": "code",
   "execution_count": null,
   "id": "719dc777",
   "metadata": {},
   "outputs": [],
   "source": []
  }
 ],
 "metadata": {
  "kernelspec": {
   "display_name": "Python 3 (ipykernel)",
   "language": "python",
   "name": "python3"
  },
  "language_info": {
   "codemirror_mode": {
    "name": "ipython",
    "version": 3
   },
   "file_extension": ".py",
   "mimetype": "text/x-python",
   "name": "python",
   "nbconvert_exporter": "python",
   "pygments_lexer": "ipython3",
   "version": "3.10.9"
  }
 },
 "nbformat": 4,
 "nbformat_minor": 5
}
